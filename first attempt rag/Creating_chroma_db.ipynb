{
 "cells": [
  {
   "cell_type": "code",
   "execution_count": 18,
   "metadata": {},
   "outputs": [],
   "source": [
    "import os\n",
    "import duckdb\n",
    "from sentence_transformers import SentenceTransformer\n",
    "from langchain.embeddings import HuggingFaceInstructEmbeddings\n",
    "from langchain.embeddings import HuggingFaceEmbeddings\n",
    "from langchain.vectorstores import Chroma\n",
    "from langchain.schema import Document"
   ]
  },
  {
   "cell_type": "code",
   "execution_count": 19,
   "metadata": {},
   "outputs": [],
   "source": [
    "db_path = '/Users/kiri/Documents/HWR/master/SS/Text & Web/Rag_project-1/duck_db/isrecon_all.duckdb'\n",
    "\n",
    "with duckdb.connect(database=db_path, read_only=True) as conn:\n",
    "    query = 'SELECT article_id, title, abstract FROM papers LIMIT 500'\n",
    "    df = conn.execute(query).fetchdf()"
   ]
  },
  {
   "cell_type": "code",
   "execution_count": 20,
   "metadata": {},
   "outputs": [
    {
     "data": {
      "text/html": [
       "<div>\n",
       "<style scoped>\n",
       "    .dataframe tbody tr th:only-of-type {\n",
       "        vertical-align: middle;\n",
       "    }\n",
       "\n",
       "    .dataframe tbody tr th {\n",
       "        vertical-align: top;\n",
       "    }\n",
       "\n",
       "    .dataframe thead th {\n",
       "        text-align: right;\n",
       "    }\n",
       "</style>\n",
       "<table border=\"1\" class=\"dataframe\">\n",
       "  <thead>\n",
       "    <tr style=\"text-align: right;\">\n",
       "      <th></th>\n",
       "      <th>article_id</th>\n",
       "      <th>title</th>\n",
       "      <th>abstract</th>\n",
       "    </tr>\n",
       "  </thead>\n",
       "  <tbody>\n",
       "    <tr>\n",
       "      <th>0</th>\n",
       "      <td>1</td>\n",
       "      <td>Examining interdependence between product user...</td>\n",
       "      <td>Firm-sponsored online user communities have be...</td>\n",
       "    </tr>\n",
       "    <tr>\n",
       "      <th>1</th>\n",
       "      <td>2</td>\n",
       "      <td>Information management as an enabler of knowle...</td>\n",
       "      <td>This paper explores the much ignored but criti...</td>\n",
       "    </tr>\n",
       "    <tr>\n",
       "      <th>2</th>\n",
       "      <td>3</td>\n",
       "      <td>A Business Process Perspective on Enterprise C...</td>\n",
       "      <td>The huge amount of content in today’s work lif...</td>\n",
       "    </tr>\n",
       "    <tr>\n",
       "      <th>3</th>\n",
       "      <td>4</td>\n",
       "      <td>A Holistic Approach for Enriching Information ...</td>\n",
       "      <td>Past literature has indicated the need for add...</td>\n",
       "    </tr>\n",
       "    <tr>\n",
       "      <th>4</th>\n",
       "      <td>5</td>\n",
       "      <td>A NEW LOOK AT USER COMMITMENT TOWARDS INFORMAT...</td>\n",
       "      <td>This study is concerned with the factors affec...</td>\n",
       "    </tr>\n",
       "  </tbody>\n",
       "</table>\n",
       "</div>"
      ],
      "text/plain": [
       "   article_id                                              title  \\\n",
       "0           1  Examining interdependence between product user...   \n",
       "1           2  Information management as an enabler of knowle...   \n",
       "2           3  A Business Process Perspective on Enterprise C...   \n",
       "3           4  A Holistic Approach for Enriching Information ...   \n",
       "4           5  A NEW LOOK AT USER COMMITMENT TOWARDS INFORMAT...   \n",
       "\n",
       "                                            abstract  \n",
       "0  Firm-sponsored online user communities have be...  \n",
       "1  This paper explores the much ignored but criti...  \n",
       "2  The huge amount of content in today’s work lif...  \n",
       "3  Past literature has indicated the need for add...  \n",
       "4  This study is concerned with the factors affec...  "
      ]
     },
     "execution_count": 20,
     "metadata": {},
     "output_type": "execute_result"
    }
   ],
   "source": [
    "df.head(5)"
   ]
  },
  {
   "cell_type": "code",
   "execution_count": 21,
   "metadata": {},
   "outputs": [],
   "source": [
    "model = SentenceTransformer('paraphrase-MiniLM-L6-v2')\n",
    "texts = (df['title'] + ' ' + df['abstract']).tolist()"
   ]
  },
  {
   "cell_type": "code",
   "execution_count": 22,
   "metadata": {},
   "outputs": [],
   "source": [
    "persist_directory = 'chroma_db'"
   ]
  },
  {
   "cell_type": "code",
   "execution_count": 23,
   "metadata": {},
   "outputs": [
    {
     "name": "stdout",
     "output_type": "stream",
     "text": [
      "None value found for abstract in row with article_id=9 and title=Data Quality: Success Factors\n",
      "None value found for abstract in row with article_id=90 and title=Multi-sided platforms\n",
      "None value found for abstract in row with article_id=113 and title=Guest Editorial\n",
      "None value found for abstract in row with article_id=121 and title=Designing and Managing Human-AI Interactions\n",
      "None value found for abstract in row with article_id=140 and title=‘Employees First’: The Relationship between Employee Experience Management Systems and Customer Experience Management\n",
      "None value found for title in row with article_id=144 and abstract=None\n",
      "None value found for abstract in row with article_id=144 and title=None\n",
      "None value found for abstract in row with article_id=159 and title=Investigating Users' Continuous Adoption of Cryptocurrency\n",
      "None value found for abstract in row with article_id=180 and title=Adapting a Process Model of Initial Representation Formation to a Knowledge Management Application\n",
      "None value found for abstract in row with article_id=209 and title=Phishing video game to validate the principles of persuasion in university students\n",
      "None value found for abstract in row with article_id=218 and title=WHAT’S IN A NAME: EXAMINING DISCRIMINATION ON SHARING PLATFORMS AND ITS POSSIBLE REMEDIES\n",
      "None value found for abstract in row with article_id=221 and title=Linked Data in Business\n",
      "None value found for abstract in row with article_id=222 and title=Semantics and Web 2.0 Technologies to Support Business Process Management\n",
      "None value found for abstract in row with article_id=225 and title=Financial Electronic Brokerages: A Transaction Cost Perspective\n",
      "None value found for abstract in row with article_id=234 and title=Leveraging Technology for Refugee Integration: How Can We Help?\n",
      "None value found for abstract in row with article_id=259 and title=Antecedents of Information Adoption of Sharing Mobile Social Commerce Experience: The Mediation Role of Trust\n",
      "None value found for abstract in row with article_id=268 and title=Contrasting GDSSs and GSSs in the Context of Strategic Change Implications for Facilitation\n",
      "None value found for abstract in row with article_id=273 and title=Micro-processes in Group Decision and Negotiation: Practices and Routines for Supporting Decision Making\n",
      "None value found for abstract in row with article_id=274 and title=European Research on Group Decision Support Systems: Introduction to the Special Issue\n",
      "None value found for abstract in row with article_id=275 and title=Special Issue on ‘Advances in Designing Group Decision and Negotiation Processes’\n",
      "None value found for abstract in row with article_id=279 and title=Minimizing post-harvest losses through digitally enabled supply chain visibility: a design science approach\n",
      "None value found for abstract in row with article_id=354 and title=DOES PROCESS REENGINEERING AND DIGITALIZATION ELIMINATE CORRUPTION? EXPLORING ‘PAPERLESS’ VEHICLE CLEARANCE AT GHANA’S PORT\n",
      "None value found for abstract in row with article_id=366 and title=Assessing Organization Processes for Ensuring Information Systems Quality\n",
      "None value found for abstract in row with article_id=367 and title=Information Quality Process - A Primary Success Requirement in Management Information Systems Projects: Results from a Case Study\n",
      "None value found for abstract in row with article_id=425 and title=“The two faces of Janus”: the role of soldiering in information integration in the emergency sector\n",
      "None value found for abstract in row with article_id=437 and title=Pricing for Market Segmentation in Data Networks\n",
      "None value found for abstract in row with article_id=460 and title=Rethinking consumers' data sharing decisions with the emergence of multi-party computation: an experimental design for evaluation\n",
      "None value found for abstract in row with article_id=488 and title=Editors' Preface\n"
     ]
    }
   ],
   "source": [
    "for _, row in df.iterrows():\n",
    "    article_id = row['article_id']\n",
    "    title = row['title']\n",
    "    abstract = row['abstract']\n",
    "    \n",
    "    if article_id is None:\n",
    "        print(f\"None value found for article_id in row with title={title} and abstract={abstract}\")\n",
    "    if title is None:\n",
    "        print(f\"None value found for title in row with article_id={article_id} and abstract={abstract}\")\n",
    "    if abstract is None:\n",
    "        print(f\"None value found for abstract in row with article_id={article_id} and title={title}\")"
   ]
  },
  {
   "cell_type": "code",
   "execution_count": 24,
   "metadata": {},
   "outputs": [],
   "source": [
    "df['article_id'].fillna('Unknown article_id', inplace=True)\n",
    "df['title'].fillna('No title available', inplace=True)\n",
    "df['abstract'].fillna('No abstract available', inplace=True)"
   ]
  },
  {
   "cell_type": "code",
   "execution_count": 25,
   "metadata": {},
   "outputs": [],
   "source": [
    "documents = [\n",
    "    Document(page_content=text, metadata={'id': row['article_id'], 'title': row['title'], 'abstract': row['abstract']})\n",
    "    for text, (_, row) in zip(texts, df.iterrows())\n",
    "]"
   ]
  },
  {
   "cell_type": "code",
   "execution_count": 26,
   "metadata": {},
   "outputs": [],
   "source": [
    "embedding_model = HuggingFaceEmbeddings(model_name='sentence-transformers/paraphrase-MiniLM-L6-v2')"
   ]
  },
  {
   "cell_type": "code",
   "execution_count": 27,
   "metadata": {},
   "outputs": [],
   "source": [
    "vectordb = Chroma.from_documents(documents=documents, \n",
    "                                 embedding=embedding_model,\n",
    "                                 persist_directory=persist_directory,\n",
    "                                 collection_name=\"title_abstract_chroma_db\")"
   ]
  },
  {
   "cell_type": "code",
   "execution_count": 28,
   "metadata": {},
   "outputs": [],
   "source": [
    "vectordb.persist()\n",
    "vectordb = None"
   ]
  },
  {
   "cell_type": "code",
   "execution_count": 29,
   "metadata": {},
   "outputs": [],
   "source": [
    "vectordb = Chroma(persist_directory=persist_directory, \n",
    "                  embedding_function=embedding_model,\n",
    "                  collection_name=\"title_abstract_chroma_db\")"
   ]
  },
  {
   "cell_type": "code",
   "execution_count": 30,
   "metadata": {},
   "outputs": [],
   "source": [
    "retriever = vectordb.as_retriever()"
   ]
  },
  {
   "cell_type": "code",
   "execution_count": 31,
   "metadata": {},
   "outputs": [],
   "source": [
    "def query_vectordb(query, top_k=1):\n",
    "    results = retriever.get_relevant_documents(query, k=top_k)\n",
    "    return results"
   ]
  },
  {
   "cell_type": "code",
   "execution_count": 32,
   "metadata": {},
   "outputs": [],
   "source": [
    "query = \"AD blockers\"\n",
    "results = query_vectordb(query)"
   ]
  },
  {
   "cell_type": "code",
   "execution_count": 33,
   "metadata": {},
   "outputs": [
    {
     "name": "stdout",
     "output_type": "stream",
     "text": [
      "[Document(page_content='Adaptive Advertisement Recommender Systems for Digital Signage With the incorporation of new technologies, digital signages can adopt their content in real time to the audience demographic and temporal features. This research proposes an adaptive advertisement recommender system for digital signage. Our objective is to create a quantitative method for targeted advertising. After analyzing digital signage advertisement viewing data collected over the course of two months, our results show that learning-to-rank approach using Stochastic Gradient-Boosted Trees (SGBT) yields the best adaptive advertisement recommender system. Our system can identify the best sequence of advertisements to attract the most viewing. More importantly, we can use the same method for different business objectives like attracting the longest time of viewing or targeting a certain age groups or genders.', metadata={'abstract': 'With the incorporation of new technologies, digital signages can adopt their content in real time to the audience demographic and temporal features. This research proposes an adaptive advertisement recommender system for digital signage. Our objective is to create a quantitative method for targeted advertising. After analyzing digital signage advertisement viewing data collected over the course of two months, our results show that learning-to-rank approach using Stochastic Gradient-Boosted Trees (SGBT) yields the best adaptive advertisement recommender system. Our system can identify the best sequence of advertisements to attract the most viewing. More importantly, we can use the same method for different business objectives like attracting the longest time of viewing or targeting a certain age groups or genders.', 'id': 349, 'title': 'Adaptive Advertisement Recommender Systems for Digital Signage'}), Document(page_content='Adaptive Advertisement Recommender Systems for Digital Signage With the incorporation of new technologies, digital signages can adopt their content in real time to the audience demographic and temporal features. This research proposes an adaptive advertisement recommender system for digital signage. Our objective is to create a quantitative method for targeted advertising. After analyzing digital signage advertisement viewing data collected over the course of two months, our results show that learning-to-rank approach using Stochastic Gradient-Boosted Trees (SGBT) yields the best adaptive advertisement recommender system. Our system can identify the best sequence of advertisements to attract the most viewing. More importantly, we can use the same method for different business objectives like attracting the longest time of viewing or targeting a certain age groups or genders.', metadata={'abstract': 'With the incorporation of new technologies, digital signages can adopt their content in real time to the audience demographic and temporal features. This research proposes an adaptive advertisement recommender system for digital signage. Our objective is to create a quantitative method for targeted advertising. After analyzing digital signage advertisement viewing data collected over the course of two months, our results show that learning-to-rank approach using Stochastic Gradient-Boosted Trees (SGBT) yields the best adaptive advertisement recommender system. Our system can identify the best sequence of advertisements to attract the most viewing. More importantly, we can use the same method for different business objectives like attracting the longest time of viewing or targeting a certain age groups or genders.', 'id': 349, 'title': 'Adaptive Advertisement Recommender Systems for Digital Signage'}), Document(page_content='Adaptive Advertisement Recommender Systems for Digital Signage With the incorporation of new technologies, digital signages can adopt their content in real time to the audience demographic and temporal features. This research proposes an adaptive advertisement recommender system for digital signage. Our objective is to create a quantitative method for targeted advertising. After analyzing digital signage advertisement viewing data collected over the course of two months, our results show that learning-to-rank approach using Stochastic Gradient-Boosted Trees (SGBT) yields the best adaptive advertisement recommender system. Our system can identify the best sequence of advertisements to attract the most viewing. More importantly, we can use the same method for different business objectives like attracting the longest time of viewing or targeting a certain age groups or genders.', metadata={'abstract': 'With the incorporation of new technologies, digital signages can adopt their content in real time to the audience demographic and temporal features. This research proposes an adaptive advertisement recommender system for digital signage. Our objective is to create a quantitative method for targeted advertising. After analyzing digital signage advertisement viewing data collected over the course of two months, our results show that learning-to-rank approach using Stochastic Gradient-Boosted Trees (SGBT) yields the best adaptive advertisement recommender system. Our system can identify the best sequence of advertisements to attract the most viewing. More importantly, we can use the same method for different business objectives like attracting the longest time of viewing or targeting a certain age groups or genders.', 'id': 349, 'title': 'Adaptive Advertisement Recommender Systems for Digital Signage'}), Document(page_content='Auto pricing Strategy for Real time bidding in advertising: A dynamic programming approach Unlike the traditional advertising practices, in the process of Real time bidding (RTB), the impressions of a mobile application or a website are mapped to a particular advertiser through a real time auction, which triggers after an application is launched. As one of the key components of the RTB ecosystem, demand side platform (DSP) furnishes the advertisers a full pledge window to bid for available impressions. Due to fast growing market of mobile applications and websites, the selection of the most pertinent target audience to a particular advertiser, is not a simple human mediated process. Therefore, we propose an Auto Pricing Strategy (APS) approach to determine the applications to bid for and their respective bid prices from the advertisement agency perspective. We applied the APS on a real RTB bidding data and demonstrated how it outperforms the existing RTB approaches with a higher conversion rate for the same target spend.', metadata={'abstract': 'Unlike the traditional advertising practices, in the process of Real time bidding (RTB), the impressions of a mobile application or a website are mapped to a particular advertiser through a real time auction, which triggers after an application is launched. As one of the key components of the RTB ecosystem, demand side platform (DSP) furnishes the advertisers a full pledge window to bid for available impressions. Due to fast growing market of mobile applications and websites, the selection of the most pertinent target audience to a particular advertiser, is not a simple human mediated process. Therefore, we propose an Auto Pricing Strategy (APS) approach to determine the applications to bid for and their respective bid prices from the advertisement agency perspective. We applied the APS on a real RTB bidding data and demonstrated how it outperforms the existing RTB approaches with a higher conversion rate for the same target spend.', 'id': 386, 'title': 'Auto pricing Strategy for Real time bidding in advertising: A dynamic programming approach'})]\n"
     ]
    }
   ],
   "source": [
    "print(results)"
   ]
  },
  {
   "cell_type": "code",
   "execution_count": 34,
   "metadata": {},
   "outputs": [
    {
     "name": "stdout",
     "output_type": "stream",
     "text": [
      "Document 1:\n",
      "Title: Adaptive Advertisement Recommender Systems for Digital Signage\n",
      "Abstract: With the incorporation of new technologies, digital signages can adopt their content in real time to the audience demographic and temporal features. This research proposes an adaptive advertisement recommender system for digital signage. Our objective is to create a quantitative method for targeted advertising. After analyzing digital signage advertisement viewing data collected over the course of two months, our results show that learning-to-rank approach using Stochastic Gradient-Boosted Trees (SGBT) yields the best adaptive advertisement recommender system. Our system can identify the best sequence of advertisements to attract the most viewing. More importantly, we can use the same method for different business objectives like attracting the longest time of viewing or targeting a certain age groups or genders.\n",
      "\n",
      "Document 2:\n",
      "Title: Adaptive Advertisement Recommender Systems for Digital Signage\n",
      "Abstract: With the incorporation of new technologies, digital signages can adopt their content in real time to the audience demographic and temporal features. This research proposes an adaptive advertisement recommender system for digital signage. Our objective is to create a quantitative method for targeted advertising. After analyzing digital signage advertisement viewing data collected over the course of two months, our results show that learning-to-rank approach using Stochastic Gradient-Boosted Trees (SGBT) yields the best adaptive advertisement recommender system. Our system can identify the best sequence of advertisements to attract the most viewing. More importantly, we can use the same method for different business objectives like attracting the longest time of viewing or targeting a certain age groups or genders.\n",
      "\n",
      "Document 3:\n",
      "Title: Adaptive Advertisement Recommender Systems for Digital Signage\n",
      "Abstract: With the incorporation of new technologies, digital signages can adopt their content in real time to the audience demographic and temporal features. This research proposes an adaptive advertisement recommender system for digital signage. Our objective is to create a quantitative method for targeted advertising. After analyzing digital signage advertisement viewing data collected over the course of two months, our results show that learning-to-rank approach using Stochastic Gradient-Boosted Trees (SGBT) yields the best adaptive advertisement recommender system. Our system can identify the best sequence of advertisements to attract the most viewing. More importantly, we can use the same method for different business objectives like attracting the longest time of viewing or targeting a certain age groups or genders.\n",
      "\n",
      "Document 4:\n",
      "Title: Auto pricing Strategy for Real time bidding in advertising: A dynamic programming approach\n",
      "Abstract: Unlike the traditional advertising practices, in the process of Real time bidding (RTB), the impressions of a mobile application or a website are mapped to a particular advertiser through a real time auction, which triggers after an application is launched. As one of the key components of the RTB ecosystem, demand side platform (DSP) furnishes the advertisers a full pledge window to bid for available impressions. Due to fast growing market of mobile applications and websites, the selection of the most pertinent target audience to a particular advertiser, is not a simple human mediated process. Therefore, we propose an Auto Pricing Strategy (APS) approach to determine the applications to bid for and their respective bid prices from the advertisement agency perspective. We applied the APS on a real RTB bidding data and demonstrated how it outperforms the existing RTB approaches with a higher conversion rate for the same target spend.\n",
      "\n"
     ]
    }
   ],
   "source": [
    "for i, doc in enumerate(results, 1):\n",
    "    print(f\"Document {i}:\")\n",
    "    print(f\"Title: {doc.metadata['title']}\")\n",
    "    print(f\"Abstract: {doc.metadata['abstract']}\")\n",
    "    print()"
   ]
  },
  {
   "cell_type": "code",
   "execution_count": 36,
   "metadata": {},
   "outputs": [
    {
     "name": "stdout",
     "output_type": "stream",
     "text": [
      "/opt/homebrew/lib/python3.11/site-packages/chromadb/__init__.py\n"
     ]
    }
   ],
   "source": [
    "import chromadb\n",
    "print(chromadb.__file__)\n"
   ]
  }
 ],
 "metadata": {
  "kernelspec": {
   "display_name": "Python 3",
   "language": "python",
   "name": "python3"
  },
  "language_info": {
   "codemirror_mode": {
    "name": "ipython",
    "version": 3
   },
   "file_extension": ".py",
   "mimetype": "text/x-python",
   "name": "python",
   "nbconvert_exporter": "python",
   "pygments_lexer": "ipython3",
   "version": "3.11.6"
  }
 },
 "nbformat": 4,
 "nbformat_minor": 2
}
