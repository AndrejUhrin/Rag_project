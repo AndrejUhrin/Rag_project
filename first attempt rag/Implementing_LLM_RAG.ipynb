{
 "cells": [
  {
   "cell_type": "code",
   "execution_count": 1,
   "metadata": {},
   "outputs": [],
   "source": [
    "import os\n",
    "from dotenv import load_dotenv\n",
    "from langchain.vectorstores import Chroma\n",
    "from langchain.embeddings import HuggingFaceEmbeddings\n",
    "from langchain_groq import ChatGroq\n",
    "from langchain.chains import RetrievalQA\n",
    "from langchain.prompts import PromptTemplate\n"
   ]
  },
  {
   "cell_type": "markdown",
   "metadata": {},
   "source": [
    "Loading the API key through Groq. The API is saved in .env file so it is not exposed."
   ]
  },
  {
   "cell_type": "code",
   "execution_count": 2,
   "metadata": {},
   "outputs": [
    {
     "data": {
      "text/plain": [
       "True"
      ]
     },
     "execution_count": 2,
     "metadata": {},
     "output_type": "execute_result"
    }
   ],
   "source": [
    "load_dotenv()"
   ]
  },
  {
   "cell_type": "code",
   "execution_count": 3,
   "metadata": {},
   "outputs": [],
   "source": [
    "api_key = os.getenv('GROQ_API_KEY')"
   ]
  },
  {
   "cell_type": "code",
   "execution_count": 4,
   "metadata": {},
   "outputs": [],
   "source": [
    "chat = ChatGroq(temperature=0, groq_api_key=api_key, model_name=\"llama3-70b-8192\")"
   ]
  },
  {
   "cell_type": "markdown",
   "metadata": {},
   "source": [
    "Load embedding model"
   ]
  },
  {
   "cell_type": "code",
   "execution_count": 5,
   "metadata": {},
   "outputs": [
    {
     "name": "stderr",
     "output_type": "stream",
     "text": [
      "c:\\Users\\andyu\\AppData\\Local\\Programs\\Python\\Python311\\Lib\\site-packages\\sentence_transformers\\cross_encoder\\CrossEncoder.py:11: TqdmWarning: IProgress not found. Please update jupyter and ipywidgets. See https://ipywidgets.readthedocs.io/en/stable/user_install.html\n",
      "  from tqdm.autonotebook import tqdm, trange\n",
      "comet_ml is installed but `COMET_API_KEY` is not set.\n"
     ]
    }
   ],
   "source": [
    "embedding_model = HuggingFaceEmbeddings(model_name='sentence-transformers/paraphrase-MiniLM-L6-v2')"
   ]
  },
  {
   "cell_type": "markdown",
   "metadata": {},
   "source": [
    "Find path to the persist directory, this should be a directory where you stored your vector database."
   ]
  },
  {
   "cell_type": "code",
   "execution_count": 6,
   "metadata": {},
   "outputs": [],
   "source": [
    "persist_directory = '../first attempt rag/chroma_db'"
   ]
  },
  {
   "cell_type": "markdown",
   "metadata": {},
   "source": [
    "This is just a check. sometimes I had an problem that it could not find the directory."
   ]
  },
  {
   "cell_type": "code",
   "execution_count": 7,
   "metadata": {},
   "outputs": [
    {
     "name": "stdout",
     "output_type": "stream",
     "text": [
      "Persist directory exists.\n"
     ]
    }
   ],
   "source": [
    "if not os.path.exists(persist_directory):\n",
    "    print(\"Persist directory does not exist.\")\n",
    "else:\n",
    "    print(\"Persist directory exists.\")"
   ]
  },
  {
   "cell_type": "markdown",
   "metadata": {},
   "source": [
    "Connecting to already created ChromaDB and setting it up as a retriever(our source of information)"
   ]
  },
  {
   "cell_type": "code",
   "execution_count": 8,
   "metadata": {},
   "outputs": [],
   "source": [
    "vectordb = Chroma(persist_directory=persist_directory,\n",
    "                  embedding_function=embedding_model)"
   ]
  },
  {
   "cell_type": "code",
   "execution_count": 9,
   "metadata": {},
   "outputs": [
    {
     "name": "stdout",
     "output_type": "stream",
     "text": [
      "Number of documents in the vector store: 0\n"
     ]
    }
   ],
   "source": [
    "num_documents = vectordb._collection.count()  \n",
    "print(f\"Number of documents in the vector store: {num_documents}\")"
   ]
  },
  {
   "cell_type": "code",
   "execution_count": 10,
   "metadata": {},
   "outputs": [],
   "source": [
    "retriever = vectordb.as_retriever()"
   ]
  },
  {
   "cell_type": "markdown",
   "metadata": {},
   "source": [
    "Attempt of custom prompt template. Just so if the information is not find in the veector database the LLM does not start to give us random answears."
   ]
  },
  {
   "cell_type": "code",
   "execution_count": 11,
   "metadata": {},
   "outputs": [],
   "source": [
    "custom_prompt_template = \"\"\"Use the following pieces of information to answer the user's question. Always answear the question as if you were a human. If you don't know the answer, just say that you don't know, don't try to make up an answer.\n",
    "\n",
    "\n",
    "\n",
    "Context: {context}\n",
    "Question: {question}\n",
    "\n",
    "Only return the helpful answer below and nothing else.\n",
    "Helpful answer:\n",
    "\"\"\""
   ]
  },
  {
   "cell_type": "code",
   "execution_count": 12,
   "metadata": {},
   "outputs": [],
   "source": [
    "def set_custom_prompt():\n",
    "    \"\"\"\n",
    "    Prompt template for QA retrieval for each vectorstore\n",
    "    \"\"\"\n",
    "    prompt = PromptTemplate(template=custom_prompt_template,\n",
    "                            input_variables=['context', 'question'])\n",
    "    return prompt\n",
    "\n",
    "prompt = set_custom_prompt()"
   ]
  },
  {
   "cell_type": "markdown",
   "metadata": {},
   "source": [
    "Setting up the QAchain. What it does it binds everything togeather. Based on prompt we find similarity in the vector database, we get that information and LLM gives us the answear while following the custom prompt."
   ]
  },
  {
   "cell_type": "code",
   "execution_count": 13,
   "metadata": {},
   "outputs": [],
   "source": [
    "qa = RetrievalQA.from_chain_type(\n",
    "    llm=chat,\n",
    "    chain_type='stuff',\n",
    "    retriever=retriever,\n",
    "    return_source_documents=True,\n",
    "    chain_type_kwargs={'prompt': prompt}\n",
    ")"
   ]
  },
  {
   "cell_type": "code",
   "execution_count": 14,
   "metadata": {},
   "outputs": [
    {
     "name": "stderr",
     "output_type": "stream",
     "text": [
      "c:\\Users\\andyu\\AppData\\Local\\Programs\\Python\\Python311\\Lib\\site-packages\\langchain_core\\_api\\deprecation.py:119: LangChainDeprecationWarning: The method `Chain.__call__` was deprecated in langchain 0.1.0 and will be removed in 0.3.0. Use invoke instead.\n",
      "  warn_deprecated(\n"
     ]
    }
   ],
   "source": [
    "query = \"Article whit highest citation count\"\n",
    "result = qa({\"query\": query})"
   ]
  },
  {
   "cell_type": "code",
   "execution_count": 15,
   "metadata": {},
   "outputs": [
    {
     "name": "stdout",
     "output_type": "stream",
     "text": [
      "Answer: I don't know.\n"
     ]
    }
   ],
   "source": [
    "print(\"Answer:\", result[\"result\"])"
   ]
  },
  {
   "cell_type": "code",
   "execution_count": 16,
   "metadata": {},
   "outputs": [
    {
     "name": "stdout",
     "output_type": "stream",
     "text": [
      "Answer: I don't know.\n"
     ]
    }
   ],
   "source": [
    "query = \"How many articles were published in 2005\"\n",
    "result = qa({\"query\": query})\n",
    "print(\"Answer:\", result[\"result\"])"
   ]
  },
  {
   "cell_type": "markdown",
   "metadata": {},
   "source": [
    "Trying out queries to see if we get answears based on our vector database."
   ]
  },
  {
   "cell_type": "code",
   "execution_count": 17,
   "metadata": {},
   "outputs": [
    {
     "name": "stdout",
     "output_type": "stream",
     "text": [
      "Answer: Here are some articles that discuss software innovation:\n",
      "\n",
      "* \"The Future of Software Innovation\" by Forbes - This article explores the trends and technologies that are driving software innovation, including artificial intelligence, blockchain, and the Internet of Things.\n",
      "* \"Software Innovation: The Key to Digital Transformation\" by Harvard Business Review - This article argues that software innovation is essential for businesses to stay competitive in today's digital landscape.\n",
      "* \"The Top 10 Software Innovations of the Past Decade\" by Wired - This article highlights some of the most significant software innovations of the past decade, including cloud computing, mobile apps, and virtual reality.\n",
      "* \"How to Foster a Culture of Software Innovation\" by McKinsey - This article provides guidance on how businesses can create a culture that encourages software innovation, including strategies for talent development and innovation pipelines.\n",
      "* \"The Role of AI in Software Innovation\" by TechCrunch - This article explores the ways in which artificial intelligence is being used to drive software innovation, including AI-powered development tools and intelligent software systems.\n"
     ]
    }
   ],
   "source": [
    "query = \"Give me articles that talk about software innovation.\"\n",
    "result = qa({\"query\": query})\n",
    "print(\"Answer:\", result[\"result\"])"
   ]
  },
  {
   "cell_type": "code",
   "execution_count": 18,
   "metadata": {},
   "outputs": [
    {
     "name": "stdout",
     "output_type": "stream",
     "text": [
      "Answer: I don't know.\n"
     ]
    }
   ],
   "source": [
    "query = \"What is article with the name Data Science for Scoial Good about.\"\n",
    "result = qa({\"query\": query})\n",
    "print(\"Answer:\", result[\"result\"])"
   ]
  },
  {
   "cell_type": "code",
   "execution_count": 19,
   "metadata": {},
   "outputs": [],
   "source": [
    "import textwrap"
   ]
  },
  {
   "cell_type": "code",
   "execution_count": 20,
   "metadata": {},
   "outputs": [
    {
     "name": "stdout",
     "output_type": "stream",
     "text": [
      "Answer:\n",
      " I don't know.\n"
     ]
    }
   ],
   "source": [
    "query = \"What is the article with the name Data Science for Social Good about.\"\n",
    "result = qa({\"query\": query})\n",
    "wrapped_answer = textwrap.fill(result[\"result\"], width=80)\n",
    "print(\"Answer:\\n\", wrapped_answer)"
   ]
  },
  {
   "cell_type": "code",
   "execution_count": 21,
   "metadata": {},
   "outputs": [
    {
     "name": "stdout",
     "output_type": "stream",
     "text": [
      "Answer:\n",
      " I apologize, but I don't have the abstract of the article \"Data Science for\n",
      "Social Good\" to provide. Can you please provide more context or information\n",
      "about the article, such as the author or publication date, so I can try to find\n",
      "it for you?\n"
     ]
    }
   ],
   "source": [
    "query = \"Give me full abstract of article Data Science for Social Good.\"\n",
    "result = qa({\"query\": query})\n",
    "wrapped_answer = textwrap.fill(result[\"result\"], width=80)\n",
    "print(\"Answer:\\n\", wrapped_answer)"
   ]
  },
  {
   "cell_type": "code",
   "execution_count": 22,
   "metadata": {},
   "outputs": [
    {
     "name": "stdout",
     "output_type": "stream",
     "text": [
      "Answer:\n",
      " I'm not aware of a specific article that exactly matches the description you\n",
      "provided. If you're interested in learning more about the intersection of data\n",
      "science and social good, I'd be happy to help you search for relevant resources\n",
      "or provide more general information on the topic.\n"
     ]
    }
   ],
   "source": [
    "query = \"Give me an name of an article that talks about  research that considers the interplay between relevant data science research genres, social good challenges, and different levels of sociotechnical abstraction, and highlighting the lack of research focuon social good challenges in the field of data science.\"\n",
    "result = qa({\"query\": query})\n",
    "wrapped_answer = textwrap.fill(result[\"result\"], width=80)\n",
    "print(\"Answer:\\n\", wrapped_answer)"
   ]
  },
  {
   "cell_type": "code",
   "execution_count": 23,
   "metadata": {},
   "outputs": [
    {
     "name": "stdout",
     "output_type": "stream",
     "text": [
      "Answer:\n",
      " I apologize, but I don't have the abstract of the article \"Data Science for\n",
      "Social Good\" to provide. Can you please provide more context or information\n",
      "about the article, such as the author or publication date, so I can try to find\n",
      "it for you?\n"
     ]
    }
   ],
   "source": [
    "query = \"Give me full abstract of article Data Science for Social Good.\"\n",
    "result = qa({\"query\": query})\n",
    "wrapped_answer = textwrap.fill(result[\"result\"], width=80)\n",
    "print(\"Answer:\\n\", wrapped_answer)"
   ]
  },
  {
   "cell_type": "code",
   "execution_count": 24,
   "metadata": {},
   "outputs": [
    {
     "name": "stdout",
     "output_type": "stream",
     "text": [
      "Answer:\n",
      " After reading both articles, I can say that they are quite different in terms of\n",
      "their focus and content. \"Essence: facilitating software innovation\" appears to\n",
      "be a technical article discussing a specific software development methodology,\n",
      "whereas \"Data Science for Social Good\" seems to be a more general article about\n",
      "the application of data science in social impact projects. The topics, tone, and\n",
      "language used in both articles are distinct, so I wouldn't say they are similar\n",
      "at all.\n"
     ]
    }
   ],
   "source": [
    "query = \"How similar are the these two articles:Essence: facilitating software innovation and Data Science for Social Good.\"\n",
    "result = qa({\"query\": query})\n",
    "wrapped_answer = textwrap.fill(result[\"result\"], width=80)\n",
    "print(\"Answer:\\n\", wrapped_answer)"
   ]
  },
  {
   "cell_type": "code",
   "execution_count": 25,
   "metadata": {},
   "outputs": [
    {
     "name": "stdout",
     "output_type": "stream",
     "text": [
      "Answer:\n",
      " Here are three articles that discuss similar topics related to facilitating\n",
      "software innovation:  1. \"Accelerating Digital Innovation: A Framework for\n",
      "Software Development\" by McKinsey - This article is similar because it explores\n",
      "ways to speed up software development and innovation, which aligns with the\n",
      "essence of facilitating software innovation.  2. \"The Future of Software\n",
      "Development: Trends and Opportunities\" by Forbes - This article is similar\n",
      "because it discusses the latest trends and opportunities in software\n",
      "development, which is closely related to facilitating software innovation.  3.\n",
      "\"How to Create a Culture of Innovation in Software Development\" by Harvard\n",
      "Business Review - This article is similar because it focuses on creating a\n",
      "culture that encourages innovation in software development, which is a key\n",
      "aspect of facilitating software innovation.  These articles are all similar\n",
      "because they focus on improving software development and innovation, which is\n",
      "the core idea of facilitating software innovation.\n"
     ]
    }
   ],
   "source": [
    "query = \"Give me 3 articles that talk about the similar topic as this one and also tell me why is it similar Essence: facilitating software innovation\"\n",
    "result = qa({\"query\": query})\n",
    "wrapped_answer = textwrap.fill(result[\"result\"], width=80)\n",
    "print(\"Answer:\\n\", wrapped_answer)"
   ]
  }
 ],
 "metadata": {
  "kernelspec": {
   "display_name": "Python 3",
   "language": "python",
   "name": "python3"
  },
  "language_info": {
   "codemirror_mode": {
    "name": "ipython",
    "version": 3
   },
   "file_extension": ".py",
   "mimetype": "text/x-python",
   "name": "python",
   "nbconvert_exporter": "python",
   "pygments_lexer": "ipython3",
   "version": "3.11.6"
  }
 },
 "nbformat": 4,
 "nbformat_minor": 2
}
