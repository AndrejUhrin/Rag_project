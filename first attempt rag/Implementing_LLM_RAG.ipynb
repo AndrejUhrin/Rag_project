{
 "cells": [
  {
   "cell_type": "code",
   "execution_count": 14,
   "metadata": {},
   "outputs": [],
   "source": [
    "import os\n",
    "from dotenv import load_dotenv\n",
    "from langchain.vectorstores import Chroma\n",
    "from langchain.embeddings import HuggingFaceEmbeddings\n",
    "from langchain_groq import ChatGroq\n",
    "from langchain.chains import RetrievalQA\n",
    "from langchain.prompts import PromptTemplate\n"
   ]
  },
  {
   "cell_type": "code",
   "execution_count": 4,
   "metadata": {},
   "outputs": [
    {
     "data": {
      "text/plain": [
       "True"
      ]
     },
     "execution_count": 4,
     "metadata": {},
     "output_type": "execute_result"
    }
   ],
   "source": [
    "load_dotenv()"
   ]
  },
  {
   "cell_type": "code",
   "execution_count": 5,
   "metadata": {},
   "outputs": [],
   "source": [
    "api_key = os.getenv('GROQ_API_KEY')"
   ]
  },
  {
   "cell_type": "code",
   "execution_count": 6,
   "metadata": {},
   "outputs": [],
   "source": [
    "chat = ChatGroq(temperature=0, groq_api_key=api_key, model_name=\"llama3-70b-8192\")"
   ]
  },
  {
   "cell_type": "code",
   "execution_count": 7,
   "metadata": {},
   "outputs": [
    {
     "name": "stderr",
     "output_type": "stream",
     "text": [
      "c:\\Users\\andyu\\AppData\\Local\\Programs\\Python\\Python311\\Lib\\site-packages\\sentence_transformers\\cross_encoder\\CrossEncoder.py:11: TqdmWarning: IProgress not found. Please update jupyter and ipywidgets. See https://ipywidgets.readthedocs.io/en/stable/user_install.html\n",
      "  from tqdm.autonotebook import tqdm, trange\n",
      "comet_ml is installed but `COMET_API_KEY` is not set.\n"
     ]
    }
   ],
   "source": [
    "persist_directory = 'chroma_db'\n",
    "embedding_model = HuggingFaceEmbeddings(model_name='sentence-transformers/paraphrase-MiniLM-L6-v2')"
   ]
  },
  {
   "cell_type": "code",
   "execution_count": 9,
   "metadata": {},
   "outputs": [],
   "source": [
    "vectordb = Chroma(persist_directory=persist_directory,\n",
    "                  embedding_function=embedding_model,\n",
    "                  collection_name=\"title_abstract_chroma_db\")"
   ]
  },
  {
   "cell_type": "code",
   "execution_count": 10,
   "metadata": {},
   "outputs": [],
   "source": [
    "retriever = vectordb.as_retriever()"
   ]
  },
  {
   "cell_type": "code",
   "execution_count": 11,
   "metadata": {},
   "outputs": [],
   "source": [
    "custom_prompt_template = \"\"\"Use the following pieces of information to answer the user's question.\n",
    "If you don't know the answer, just say that you don't know, don't try to make up an answer.\n",
    "\n",
    "Context: {context}\n",
    "Question: {question}\n",
    "\n",
    "Only return the helpful answer below and nothing else.\n",
    "Helpful answer:\n",
    "\"\"\""
   ]
  },
  {
   "cell_type": "code",
   "execution_count": 15,
   "metadata": {},
   "outputs": [],
   "source": [
    "def set_custom_prompt():\n",
    "    \"\"\"\n",
    "    Prompt template for QA retrieval for each vectorstore\n",
    "    \"\"\"\n",
    "    prompt = PromptTemplate(template=custom_prompt_template,\n",
    "                            input_variables=['context', 'question'])\n",
    "    return prompt\n",
    "\n",
    "prompt = set_custom_prompt()"
   ]
  },
  {
   "cell_type": "code",
   "execution_count": 16,
   "metadata": {},
   "outputs": [],
   "source": [
    "qa = RetrievalQA.from_chain_type(\n",
    "    llm=chat,\n",
    "    chain_type='stuff',\n",
    "    retriever=retriever,\n",
    "    return_source_documents=True,\n",
    "    chain_type_kwargs={'prompt': prompt}\n",
    ")"
   ]
  },
  {
   "cell_type": "code",
   "execution_count": 19,
   "metadata": {},
   "outputs": [],
   "source": [
    "query = \"Give me 2 articles that talk about ad blockers.\"\n",
    "result = qa({\"query\": query})"
   ]
  },
  {
   "cell_type": "code",
   "execution_count": 20,
   "metadata": {},
   "outputs": [
    {
     "name": "stdout",
     "output_type": "stream",
     "text": [
      "Answer: Here are 2 articles that talk about ad blockers:\n",
      "\n",
      "1. Ad-Blockers: A Blessing or a Curse?\n",
      "2. (No other article talks about ad blockers)\n"
     ]
    }
   ],
   "source": [
    "print(\"Answer:\", result[\"result\"])"
   ]
  },
  {
   "cell_type": "code",
   "execution_count": 22,
   "metadata": {},
   "outputs": [
    {
     "name": "stdout",
     "output_type": "stream",
     "text": [
      "Answer: The article \"Essence: facilitating software innovation\" talks about software innovation.\n"
     ]
    }
   ],
   "source": [
    "query = \"Give me articles that talk about software innovation.\"\n",
    "result = qa({\"query\": query})\n",
    "print(\"Answer:\", result[\"result\"])"
   ]
  },
  {
   "cell_type": "code",
   "execution_count": 23,
   "metadata": {},
   "outputs": [
    {
     "name": "stdout",
     "output_type": "stream",
     "text": [
      "Answer: The article \"Data Science for Social Good\" is about the diminishing emphasis on social good challenges in data science research, and presents a framework for \"data science for social good\" research that considers the interplay between relevant data science research genres, social good challenges, and different levels of sociotechnical abstraction.\n"
     ]
    }
   ],
   "source": [
    "query = \"What is article with the name Data Science for Scoial Good about.\"\n",
    "result = qa({\"query\": query})\n",
    "print(\"Answer:\", result[\"result\"])"
   ]
  },
  {
   "cell_type": "code",
   "execution_count": 24,
   "metadata": {},
   "outputs": [],
   "source": [
    "import textwrap\n"
   ]
  },
  {
   "cell_type": "code",
   "execution_count": 25,
   "metadata": {},
   "outputs": [
    {
     "name": "stdout",
     "output_type": "stream",
     "text": [
      "Answer:\n",
      " The article \"Data Science for Social Good\" is about presenting a framework for\n",
      "\"data science for social good\" (DSSG) research that considers the interplay\n",
      "between relevant data science research genres, social good challenges, and\n",
      "different levels of sociotechnical abstraction, and highlighting the lack of\n",
      "research focus on social good challenges in the field of data science.\n"
     ]
    }
   ],
   "source": [
    "query = \"What is the article with the name Data Science for Social Good about.\"\n",
    "result = qa({\"query\": query})\n",
    "wrapped_answer = textwrap.fill(result[\"result\"], width=80)\n",
    "print(\"Answer:\\n\", wrapped_answer)"
   ]
  },
  {
   "cell_type": "code",
   "execution_count": 26,
   "metadata": {},
   "outputs": [
    {
     "name": "stdout",
     "output_type": "stream",
     "text": [
      "Answer:\n",
      " Here is the abstract of the article \"Data Science for Social Good\":  Data\n",
      "science has been described as the fourth paradigm of scientific discovery. The\n",
      "latest wave of data science research, pertaining to machine learning and\n",
      "artificial intelligence (AI), is growing exponentially and garnering millions of\n",
      "annual citations. However, this growth has been accompanied by a diminishing\n",
      "emphasis on social good challenges-our analysis reveals that the proportion of\n",
      "data science research focusing on social good is less than it has ever been. At\n",
      "the same time, the proliferation of machine learning and generative AI has\n",
      "sparked debates about the sociotechnical prospects and challenges associated\n",
      "with data science for human flourishing, organizations, and society. Against\n",
      "this backdrop, we present a framework for \"data science for social good\" (DSSG)\n",
      "research that considers the interplay between relevant data science research\n",
      "genres, social good challenges, and different levels of sociotechnical\n",
      "abstraction. We perform an analysis of the literature to empirically demonstrate\n",
      "the paucity of work on DSSG in information systems (and other related\n",
      "disciplines) and highlight current impediments. We then use our proposed\n",
      "framework to introduce the articles appearing in the JAIS special issue on data\n",
      "science for social good.\n"
     ]
    }
   ],
   "source": [
    "query = \"Give me full abstract of article Data Science for Social Good.\"\n",
    "result = qa({\"query\": query})\n",
    "wrapped_answer = textwrap.fill(result[\"result\"], width=80)\n",
    "print(\"Answer:\\n\", wrapped_answer)"
   ]
  }
 ],
 "metadata": {
  "kernelspec": {
   "display_name": "Python 3",
   "language": "python",
   "name": "python3"
  },
  "language_info": {
   "codemirror_mode": {
    "name": "ipython",
    "version": 3
   },
   "file_extension": ".py",
   "mimetype": "text/x-python",
   "name": "python",
   "nbconvert_exporter": "python",
   "pygments_lexer": "ipython3",
   "version": "3.11.6"
  }
 },
 "nbformat": 4,
 "nbformat_minor": 2
}
