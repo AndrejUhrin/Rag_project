{
 "cells": [
  {
   "cell_type": "code",
   "execution_count": 1,
   "metadata": {},
   "outputs": [
    {
     "name": "stderr",
     "output_type": "stream",
     "text": [
      "c:\\Users\\andyu\\AppData\\Local\\Programs\\Python\\Python311\\Lib\\site-packages\\sentence_transformers\\cross_encoder\\CrossEncoder.py:11: TqdmWarning: IProgress not found. Please update jupyter and ipywidgets. See https://ipywidgets.readthedocs.io/en/stable/user_install.html\n",
      "  from tqdm.autonotebook import tqdm, trange\n",
      "comet_ml is installed but `COMET_API_KEY` is not set.\n"
     ]
    }
   ],
   "source": [
    "import os\n",
    "import duckdb\n",
    "from sentence_transformers import SentenceTransformer\n",
    "from langchain.embeddings import HuggingFaceInstructEmbeddings\n",
    "from langchain.embeddings import HuggingFaceEmbeddings\n",
    "from langchain.vectorstores import Chroma\n",
    "from langchain.schema import Document"
   ]
  },
  {
   "cell_type": "markdown",
   "metadata": {},
   "source": [
    "Connecting to DuckDB and setting which columns do we use for the vector database. We have decided to only use papers from MISQ journal that are mentioned in the article \"MISQ Research Curation on IS Use\""
   ]
  },
  {
   "cell_type": "code",
   "execution_count": 2,
   "metadata": {},
   "outputs": [],
   "source": [
    "db_path = '../duck_db/isrecon_AIS11.duckdb'"
   ]
  },
  {
   "cell_type": "code",
   "execution_count": 3,
   "metadata": {},
   "outputs": [],
   "source": [
    "with duckdb.connect(database=db_path, read_only=True) as conn:\n",
    "    query = '''SELECT article_id,authors, year, title, journal, abstract, keywords, citation_count FROM papers\n",
    "    WHERE title IN (\n",
    "    'Technology Adaptation: The Case of a Computer-Supported Inter-organizational Virtual Team',\n",
    "    'How Do Suppliers Benefit from Information Technology Use in Supply Chain Relationships?',\n",
    "    'A Multilevel Model of Resistance to Information Technology Implementation',\n",
    "    'Understanding User Responses to Information Technology: A Coping Model of User Adaptation',\n",
    "    'A Comprehensive Conceputalization of the Post-Adoptive Behaviors Associated with IT-Enabled Work Systems',\n",
    "    'Information Technology and the Performance of the Customer Service Process: A Resource-Based Analysis',\n",
    "    'Toward a Deeper Understanding of System Usage in Organizations: A Multilevel Perspective',\n",
    "    'How Habit Limits the Predictive Power of Intention: The Case of Information Systems Continuance',\n",
    "    'Predicting Different Conceptualizations of System Use: The Competing Roles of Behavioral Intention, Facilitating Conditions, and Behavioral Expectation',\n",
    "    'The Integrative Framework of Technology Use: An Extension and Test',\n",
    "    'Why Break the Habit of a Lifetime? Rethinking the Roles of Intention, Habit, and Emotion in Continuing Information Technology Use',\n",
    "    'An Alternative to Methodological Individualism: A Non-Reductionist Approach to Studying Technology Adoption by Groups',\n",
    "    'Capturing Bottom-Up Information Technology Use Processes: A Complex Adaptive Systems Model',\n",
    "    'Understanding User Revisions When Using Information System Features: Adaptive System Use and Triggers',\n",
    "    'Interfirm IT Capability Profiles and Communications for Cocreating Relational Value: Evidence from the Logistics Industry',\n",
    "    'A Dramaturgical Model of the Production of Performance Data',\n",
    "    'The Embeddedness of Information Systems Habits in Organizational and Individual Level Routines: Development and Disruption',\n",
    "    'When Does Technology Use Enable Network Change in Organizations? A Comparative Study of Feature Use and Shared Affordances',\n",
    "    'Nature and Nurture: The Impact of Automaticity and the Structuration of Communication on Virtual Team Behavior and Performance',\n",
    "    'An Investigation of Information Systems Use Patterns: Technological Events as Triggers, the Effect of Time, and Consequences for Performance',\n",
    "    'Toward Generalizable Sociomaterial Inquiry: A Computational Approach for Zooming In and Out of Sociomaterial Routines',\n",
    "    'Coping with Information Technology: Mixed Emotions, Vacillation, and Nonconforming Use Patterns',\n",
    "    'Information Technology Use as a Learning Mechanism: The Impact of IT Use on Knowledge Transfer Effectiveness, Absorptive Capacity, and Franchisee Performance',\n",
    "    'ICT, Intermediaries, and the Transformation of Gendered Power Structures',\n",
    "    'Multiplex Appropriation in Complex Systems Implementation: The Case of Brazil''s Correspondent Banking System',\n",
    "    'Revisiting Group-Based Technology Adoption as a Dynamic Process: The Role of Changing Attitude-Rationale Configurations',\n",
    "    'Capturing the Complexity of Malleable IT Use: Adaptive Structuration Theory for Individuals',\n",
    "    'A Temporally Situated Self-Agency Theory of Information Technology Reinvention'\n",
    ");'''\n",
    "    df_article = conn.execute(query).fetchdf()"
   ]
  },
  {
   "cell_type": "markdown",
   "metadata": {},
   "source": [
    "Controlling the values in the dataframe"
   ]
  },
  {
   "cell_type": "code",
   "execution_count": 4,
   "metadata": {},
   "outputs": [
    {
     "name": "stdout",
     "output_type": "stream",
     "text": [
      "   article_id                                     authors  year  \\\n",
      "0         926        Bartelt, Valerie L.; Dennis, Alan R.  2014   \n",
      "1        1033          Beaudry, Anne; Pinsonneault, Alain  2005   \n",
      "2        1658  Burton-Jones, Andrew; Gallivan, Michael J.  2007   \n",
      "3        6541                                Kim, Sung S.  2009   \n",
      "4        7061           Lapointe, Liette; Rivard, Suzanne  2005   \n",
      "\n",
      "                                               title  \\\n",
      "0  Nature and Nurture: The Impact of Automaticity...   \n",
      "1  Understanding User Responses to Information Te...   \n",
      "2  Toward a Deeper Understanding of System Usage ...   \n",
      "3  The Integrative Framework of Technology Use: A...   \n",
      "4  A Multilevel Model of Resistance to Informatio...   \n",
      "\n",
      "                                    journal  \\\n",
      "0  Management Information Systems Quarterly   \n",
      "1  Management Information Systems Quarterly   \n",
      "2  Management Information Systems Quarterly   \n",
      "3  Management Information Systems Quarterly   \n",
      "4  Management Information Systems Quarterly   \n",
      "\n",
      "                                            abstract  \\\n",
      "0  Much prior research on virtual teams has exami...   \n",
      "1  This paper defines user adaptation as the cogn...   \n",
      "2  The objective of this paper is to contribute t...   \n",
      "3  The integrative framework of technology use (I...   \n",
      "4  To better explain resistance to information te...   \n",
      "\n",
      "                                            keywords  citation_count  \n",
      "0  Collaboration, virtual teams, genre rules, str...               4  \n",
      "1  Coping theory, user adaptation, IT appropriati...             299  \n",
      "2  System usage, multilevel, construct, configura...               0  \n",
      "3  Longitudinal study, panel model, technology us...              67  \n",
      "4  User resistance, information techno- logy impl...             296  \n"
     ]
    }
   ],
   "source": [
    "print(df_article.head())"
   ]
  },
  {
   "cell_type": "code",
   "execution_count": 5,
   "metadata": {},
   "outputs": [
    {
     "name": "stdout",
     "output_type": "stream",
     "text": [
      "(19, 8)\n"
     ]
    }
   ],
   "source": [
    "print(df_article.shape)"
   ]
  },
  {
   "cell_type": "code",
   "execution_count": 6,
   "metadata": {},
   "outputs": [],
   "source": [
    "null_counts = df_article.isnull().sum()"
   ]
  },
  {
   "cell_type": "markdown",
   "metadata": {},
   "source": [
    "Null values have to be handled before creating vector database because they are causing error"
   ]
  },
  {
   "cell_type": "code",
   "execution_count": 7,
   "metadata": {},
   "outputs": [
    {
     "name": "stdout",
     "output_type": "stream",
     "text": [
      "article_id        0\n",
      "authors           0\n",
      "year              0\n",
      "title             0\n",
      "journal           0\n",
      "abstract          0\n",
      "keywords          0\n",
      "citation_count    0\n",
      "dtype: int64\n"
     ]
    }
   ],
   "source": [
    "print(null_counts)"
   ]
  },
  {
   "cell_type": "markdown",
   "metadata": {},
   "source": [
    "We see that there are no missing values but in different tests we hade some null values so we implement filling of them just in case for the future."
   ]
  },
  {
   "cell_type": "code",
   "execution_count": 8,
   "metadata": {},
   "outputs": [],
   "source": [
    "df_article = df_article.fillna('Information not provided in the source DB')"
   ]
  },
  {
   "cell_type": "markdown",
   "metadata": {},
   "source": [
    "In this step we concatenate the columns of the dataframe to create a new column called page content. We do this because we want cannot use tabular data as input to the embeddings model. We need to convert the tabular data into a text format."
   ]
  },
  {
   "cell_type": "code",
   "execution_count": 9,
   "metadata": {},
   "outputs": [],
   "source": [
    "page_content = (df_article['article_id'].astype(str) + ' ' + df_article['authors'] + ' ' + df_article['year'].astype(str) + ' ' + df_article['title'] + ' ' + df_article['journal'] + ' ' + df_article['abstract'] + ' ' + df_article['keywords'] + ' ' + df_article['citation_count'].astype(str)).tolist()"
   ]
  },
  {
   "cell_type": "markdown",
   "metadata": {},
   "source": [
    "Creating a persist directory where the vector database will be stored"
   ]
  },
  {
   "cell_type": "code",
   "execution_count": 10,
   "metadata": {},
   "outputs": [],
   "source": [
    "persist_directory = '../RAG_multiple_vector_stores/article_chroma_db_MISQ'"
   ]
  },
  {
   "cell_type": "markdown",
   "metadata": {},
   "source": [
    " Here we are creating object with concatenated text (page content) with metadata that is associated to the page content."
   ]
  },
  {
   "cell_type": "code",
   "execution_count": 11,
   "metadata": {},
   "outputs": [],
   "source": [
    "documents = [\n",
    "    Document(page_content=text, metadata={'article_id': row['article_id'], 'authors': row['authors'], 'year': row['year'], 'title': row['title'], 'journal': row['journal'], 'abstract': row['abstract'], 'keywords': row['keywords'], 'citation_count': row['citation_count']})\n",
    "    for text, (_, row) in zip(page_content, df_article.iterrows())\n",
    "]"
   ]
  },
  {
   "cell_type": "markdown",
   "metadata": {},
   "source": [
    "We use sentence transformers model for our embeddings model"
   ]
  },
  {
   "cell_type": "code",
   "execution_count": 12,
   "metadata": {},
   "outputs": [],
   "source": [
    "embedding_model = HuggingFaceEmbeddings(model_name='sentence-transformers/paraphrase-MiniLM-L6-v2')"
   ]
  },
  {
   "cell_type": "markdown",
   "metadata": {},
   "source": [
    "In this step we create our vector database where we take doucuments which is the source of information and which will get embedded and stored in the vector database, embedding model which is \"sentence transformes\", and we store this vector database in persist directory for later use. This way the vector database is stored on disk and we can access it later without recreating it from the scratch."
   ]
  },
  {
   "cell_type": "code",
   "execution_count": 13,
   "metadata": {},
   "outputs": [],
   "source": [
    "vectordb_articles = Chroma.from_documents(documents=documents, \n",
    "                                 embedding=embedding_model,\n",
    "                                 persist_directory=persist_directory)"
   ]
  },
  {
   "cell_type": "code",
   "execution_count": 29,
   "metadata": {},
   "outputs": [],
   "source": [
    "retriever = vectordb_articles.as_retriever()"
   ]
  },
  {
   "cell_type": "code",
   "execution_count": 30,
   "metadata": {},
   "outputs": [],
   "source": [
    "def query_vectordb(query, top_k=1):\n",
    "    results = retriever.get_relevant_documents(query, k=top_k)\n",
    "    return results"
   ]
  },
  {
   "cell_type": "code",
   "execution_count": 31,
   "metadata": {},
   "outputs": [
    {
     "name": "stdout",
     "output_type": "stream",
     "text": [
      "[Document(page_content='1658 Burton-Jones, Andrew; Gallivan, Michael J. 2007 Toward a Deeper Understanding of System Usage in Organizations: A Multilevel Perspective Management Information Systems Quarterly The objective of this paper is to contribute to a deeper understanding of system usage in organizations by examining its multilevel nature. Past research on system usage has suffered from a levels bias, with researchers studying system usage at single levels of analysis only (e.g., the individual, group, or organizational level). Although single-level research can be useful, we suggest that studying organizations one level at a time will ultimately lead to an unnatural, incomplete, and very disjointed view of how information systems are used in practice. To redress this situation, we draw on recent advances in multilevel theory to present system usage as a multilevel construct and provide an illustration for what it takes for researchers to study it as such. The multilevel perspective advanced in this article offers rich opportunities for theoretical and empirical insights and suggests a new foundation for in-depth research on the nature of system usage, its emergence and change, and its antecedents and consequences. System usage, multilevel, construct, configura- tion, IT impact, longitudinal 0', metadata={'abstract': 'The objective of this paper is to contribute to a deeper understanding of system usage in organizations by examining its multilevel nature. Past research on system usage has suffered from a levels bias, with researchers studying system usage at single levels of analysis only (e.g., the individual, group, or organizational level). Although single-level research can be useful, we suggest that studying organizations one level at a time will ultimately lead to an unnatural, incomplete, and very disjointed view of how information systems are used in practice. To redress this situation, we draw on recent advances in multilevel theory to present system usage as a multilevel construct and provide an illustration for what it takes for researchers to study it as such. The multilevel perspective advanced in this article offers rich opportunities for theoretical and empirical insights and suggests a new foundation for in-depth research on the nature of system usage, its emergence and change, and its antecedents and consequences.', 'article_id': 1658, 'authors': 'Burton-Jones, Andrew; Gallivan, Michael J.', 'citation_count': 0, 'journal': 'Management Information Systems Quarterly', 'keywords': 'System usage, multilevel, construct, configura- tion, IT impact, longitudinal', 'title': 'Toward a Deeper Understanding of System Usage in Organizations: A Multilevel Perspective', 'year': 2007}), Document(page_content=\"10360 Ray, Gautam; Muhanna, Waleed A.; Barney, Jay B. 2005 Information Technology and the Performance of the Customer Service Process: A Resource-Based Analysis Management Information Systems Quarterly Delivering quality customer service has emerged as a strategic imperative, one that is increasingly tied to a firm's information technology resources and capabilities. This paper presents an empirical study that examines the extent to which IT impacts customer service. More specifically, this study investigates the differential effects of various IT resources and capabilities on the performance of the customer service process across firms that compete in the North American life and health insurance industry. The paper builds on (1) information systems work that suggests that the effects of IT are best documented at the level of processes within a firm, (2) information systems work that suggests that the performance effects of IT are likely to be contingent in nature, and (3) developments in the resource-based view, which describes the kinds of IT resources and capabilities that are likely to enable a process in one firm to outperform the same process in competing firms. The findings suggest that tacit, socially complex, firm-specific resources explain variation in process performance across firms and that IT resources and capabilities without these attributes do not. Of particular interest to IS scholars, it is found that shared knowledge between IT and customer service units--an important driver of how IT is implemented and used in the customer service process--is a key IT capability that affects customer service process performance and moderates the impacts of explicit IT resources such as the generic information technologies used in the process and IT spending, which--consistent with resource-based predictions--were not found to be directly and positively associated with relative process performance. The implications of the findings for research and practice are discussed. IT resources and capabilities, shared knowledge, resource-based theory, business pro- cesses, process performance, business value of IT 7\", metadata={'abstract': \"Delivering quality customer service has emerged as a strategic imperative, one that is increasingly tied to a firm's information technology resources and capabilities. This paper presents an empirical study that examines the extent to which IT impacts customer service. More specifically, this study investigates the differential effects of various IT resources and capabilities on the performance of the customer service process across firms that compete in the North American life and health insurance industry. The paper builds on (1) information systems work that suggests that the effects of IT are best documented at the level of processes within a firm, (2) information systems work that suggests that the performance effects of IT are likely to be contingent in nature, and (3) developments in the resource-based view, which describes the kinds of IT resources and capabilities that are likely to enable a process in one firm to outperform the same process in competing firms. The findings suggest that tacit, socially complex, firm-specific resources explain variation in process performance across firms and that IT resources and capabilities without these attributes do not. Of particular interest to IS scholars, it is found that shared knowledge between IT and customer service units--an important driver of how IT is implemented and used in the customer service process--is a key IT capability that affects customer service process performance and moderates the impacts of explicit IT resources such as the generic information technologies used in the process and IT spending, which--consistent with resource-based predictions--were not found to be directly and positively associated with relative process performance. The implications of the findings for research and practice are discussed.\", 'article_id': 10360, 'authors': 'Ray, Gautam; Muhanna, Waleed A.; Barney, Jay B.', 'citation_count': 7, 'journal': 'Management Information Systems Quarterly', 'keywords': 'IT resources and capabilities, shared knowledge, resource-based theory, business pro- cesses, process performance, business value of IT', 'title': 'Information Technology and the Performance of the Customer Service Process: A Resource-Based Analysis', 'year': 2005}), Document(page_content=\"10863 Sarker, Saonee; Valacich, Joseph S. 2010 An Alternative to Methodological Individualism: A Non-Reductionist Approach to Studying Technology Adoption by Groups Management Information Systems Quarterly Studies on groups within the MIS discipline have largely been based on the paradigm of methodological individualism. Commentaries on methodological individualism within the reference disciplines suggest that studies embracing this paradigm can lead to potentially misleading or incorrect conclusions. This study illustrates the appropriateness of the alternate non-reductionist approach to investigating group-related phenomenon, specifically in the context of technology adoption. Drawing on theories of group influence, prior research on conflict, technology characteristics, task- technology fit, group communication media, and recent theoretical work surrounding group technology adoption, the paper proposes and empirically tests a new non-reductionist model for conceptualizing technology adoption by groups. Further, the study also empirically compares this nonreductionist model with a (hypothetical) methodological individualist model of technology adoption by groups. Results strongly support most of the assertions of the non-reductionist model and highlight that this model provides a more robust explanation of technology adoption by groups than a methodological individualist view. Further, the study also highlights some conditions wherein the methodological individualist view fails to provide correct explanations. The implications of the study's findings for future research are discussed. Methodological individualism, non-reductionist view, multilevel theory, group technology adoption, valence, task-technology fit, technology characteristics, PLS analysis 0\", metadata={'abstract': \"Studies on groups within the MIS discipline have largely been based on the paradigm of methodological individualism. Commentaries on methodological individualism within the reference disciplines suggest that studies embracing this paradigm can lead to potentially misleading or incorrect conclusions. This study illustrates the appropriateness of the alternate non-reductionist approach to investigating group-related phenomenon, specifically in the context of technology adoption. Drawing on theories of group influence, prior research on conflict, technology characteristics, task- technology fit, group communication media, and recent theoretical work surrounding group technology adoption, the paper proposes and empirically tests a new non-reductionist model for conceptualizing technology adoption by groups. Further, the study also empirically compares this nonreductionist model with a (hypothetical) methodological individualist model of technology adoption by groups. Results strongly support most of the assertions of the non-reductionist model and highlight that this model provides a more robust explanation of technology adoption by groups than a methodological individualist view. Further, the study also highlights some conditions wherein the methodological individualist view fails to provide correct explanations. The implications of the study's findings for future research are discussed.\", 'article_id': 10863, 'authors': 'Sarker, Saonee; Valacich, Joseph S.', 'citation_count': 0, 'journal': 'Management Information Systems Quarterly', 'keywords': 'Methodological individualism, non-reductionist view, multilevel theory, group technology adoption, valence, task-technology fit, technology characteristics, PLS analysis', 'title': 'An Alternative to Methodological Individualism: A Non-Reductionist Approach to Studying Technology Adoption by Groups', 'year': 2010}), Document(page_content=\"7061 Lapointe, Liette; Rivard, Suzanne 2005 A Multilevel Model of Resistance to Information Technology Implementation Management Information Systems Quarterly To better explain resistance to information technology implementation, we used a multilevel, longitudinal approach. We first assessed extant models of resistance to IT. Using semantic analysis, we identified five basic components of resistance: behaviors, object, subject, threats, and initial conditions. We further examined extant models to (1) carry out a preliminary specification of the nature of the relationships between these components and (2) refine our understanding of the multilevel nature of the phenomenon. Using analytic induction, we examined data from three case studies of clinical information systems implementations in hospital settings, focusing on physicians' resistance behaviors. The resulting mixed-determinants model suggests that group resistance behaviors vary during implementation. When a system is introduced, users in a group will first assess it in terms of the interplay between its features and individual and/or organizational-level initial conditions. They then make projections about the consequences of its use. If expected consequences are threatening, resistance behaviors will result. During implementation, should some trigger occur to either modify or activate an initial condition involving the balance of power between the group and other user groups, it will also modify the object of resistance, from system to system significance. If the relevant initial conditions pertain to the power of the resisting group vis-à-vis the system advocates, the object of resistance will also be modified, from system significance to system advocates. Resistance behaviors will follow if threats are perceived from the interaction between the object of resistance and initial conditions. We also found that the bottom-up process by which group resistance behaviors emerge from individual behaviors is not the same in early versus late implementation. In early implementation, the emergence process is one of compilation, described as a combination of independent, individual behaviors. In later stages of implementation, if group level initial conditions have become active, the emergence process is one of composition, described as the convergence of individual behaviors. User resistance, information techno- logy implementation, information system imple- mentation, longitudinal perspective, multilevel ap- proach, resistance behaviors, semantic analysis, case study 296\", metadata={'abstract': \"To better explain resistance to information technology implementation, we used a multilevel, longitudinal approach. We first assessed extant models of resistance to IT. Using semantic analysis, we identified five basic components of resistance: behaviors, object, subject, threats, and initial conditions. We further examined extant models to (1) carry out a preliminary specification of the nature of the relationships between these components and (2) refine our understanding of the multilevel nature of the phenomenon. Using analytic induction, we examined data from three case studies of clinical information systems implementations in hospital settings, focusing on physicians' resistance behaviors. The resulting mixed-determinants model suggests that group resistance behaviors vary during implementation. When a system is introduced, users in a group will first assess it in terms of the interplay between its features and individual and/or organizational-level initial conditions. They then make projections about the consequences of its use. If expected consequences are threatening, resistance behaviors will result. During implementation, should some trigger occur to either modify or activate an initial condition involving the balance of power between the group and other user groups, it will also modify the object of resistance, from system to system significance. If the relevant initial conditions pertain to the power of the resisting group vis-à-vis the system advocates, the object of resistance will also be modified, from system significance to system advocates. Resistance behaviors will follow if threats are perceived from the interaction between the object of resistance and initial conditions. We also found that the bottom-up process by which group resistance behaviors emerge from individual behaviors is not the same in early versus late implementation. In early implementation, the emergence process is one of compilation, described as a combination of independent, individual behaviors. In later stages of implementation, if group level initial conditions have become active, the emergence process is one of composition, described as the convergence of individual behaviors.\", 'article_id': 7061, 'authors': 'Lapointe, Liette; Rivard, Suzanne', 'citation_count': 296, 'journal': 'Management Information Systems Quarterly', 'keywords': 'User resistance, information techno- logy implementation, information system imple- mentation, longitudinal perspective, multilevel ap- proach, resistance behaviors, semantic analysis, case study', 'title': 'A Multilevel Model of Resistance to Information Technology Implementation', 'year': 2005})]\n"
     ]
    },
    {
     "name": "stderr",
     "output_type": "stream",
     "text": [
      "c:\\Users\\andyu\\AppData\\Local\\Programs\\Python\\Python311\\Lib\\site-packages\\langchain_core\\_api\\deprecation.py:119: LangChainDeprecationWarning: The method `BaseRetriever.get_relevant_documents` was deprecated in langchain-core 0.1.46 and will be removed in 0.3.0. Use invoke instead.\n",
      "  warn_deprecated(\n"
     ]
    }
   ],
   "source": [
    "query = \"which article has highest citation count?\"\n",
    "results = query_vectordb(query)\n",
    "print(results)"
   ]
  },
  {
   "cell_type": "markdown",
   "metadata": {},
   "source": [
    "We take the same steps for sentences table where we have full article separated into sentences --> each row = 1 sentence"
   ]
  },
  {
   "cell_type": "code",
   "execution_count": 14,
   "metadata": {},
   "outputs": [],
   "source": [
    "with duckdb.connect(database=db_path, read_only=True) as conn:\n",
    "    query = '''SELECT title , last_section_title, sentence_type, sentence_original FROM sentences\n",
    "                JOIN papers ON sentences.article_id = papers.article_id\n",
    "                WHERE title IN (\n",
    "                'Technology Adaptation: The Case of a Computer-Supported Inter-organizational Virtual Team',\n",
    "                'How Do Suppliers Benefit from Information Technology Use in Supply Chain Relationships?',\n",
    "                'A Multilevel Model of Resistance to Information Technology Implementation',\n",
    "                'Understanding User Responses to Information Technology: A Coping Model of User Adaptation',\n",
    "                'A Comprehensive Conceputalization of the Post-Adoptive Behaviors Associated with IT-Enabled Work Systems',\n",
    "                'Information Technology and the Performance of the Customer Service Process: A Resource-Based Analysis',\n",
    "                'Toward a Deeper Understanding of System Usage in Organizations: A Multilevel Perspective',\n",
    "                'How Habit Limits the Predictive Power of Intention: The Case of Information Systems Continuance',\n",
    "                'Predicting Different Conceptualizations of System Use: The Competing Roles of Behavioral Intention, Facilitating Conditions, and Behavioral Expectation',\n",
    "                'The Integrative Framework of Technology Use: An Extension and Test',\n",
    "                'Why Break the Habit of a Lifetime? Rethinking the Roles of Intention, Habit, and Emotion in Continuing Information Technology Use',\n",
    "                'An Alternative to Methodological Individualism: A Non-Reductionist Approach to Studying Technology Adoption by Groups',\n",
    "                'Capturing Bottom-Up Information Technology Use Processes: A Complex Adaptive Systems Model',\n",
    "                'Understanding User Revisions When Using Information System Features: Adaptive System Use and Triggers',\n",
    "                'Interfirm IT Capability Profiles and Communications for Cocreating Relational Value: Evidence from the Logistics Industry',\n",
    "                'A Dramaturgical Model of the Production of Performance Data',\n",
    "                'The Embeddedness of Information Systems Habits in Organizational and Individual Level Routines: Development and Disruption',\n",
    "                'When Does Technology Use Enable Network Change in Organizations? A Comparative Study of Feature Use and Shared Affordances',\n",
    "                'Nature and Nurture: The Impact of Automaticity and the Structuration of Communication on Virtual Team Behavior and Performance',\n",
    "                'An Investigation of Information Systems Use Patterns: Technological Events as Triggers, the Effect of Time, and Consequences for Performance',\n",
    "                'Toward Generalizable Sociomaterial Inquiry: A Computational Approach for Zooming In and Out of Sociomaterial Routines',\n",
    "                'Coping with Information Technology: Mixed Emotions, Vacillation, and Nonconforming Use Patterns',\n",
    "                'Information Technology Use as a Learning Mechanism: The Impact of IT Use on Knowledge Transfer Effectiveness, Absorptive Capacity, and Franchisee Performance',\n",
    "                'ICT, Intermediaries, and the Transformation of Gendered Power Structures',\n",
    "                'Multiplex Appropriation in Complex Systems Implementation: The Case of Brazil''s Correspondent Banking System',\n",
    "                'Revisiting Group-Based Technology Adoption as a Dynamic Process: The Role of Changing Attitude-Rationale Configurations',\n",
    "                'Capturing the Complexity of Malleable IT Use: Adaptive Structuration Theory for Individuals',\n",
    "                'A Temporally Situated Self-Agency Theory of Information Technology Reinvention'\n",
    "                );'''\n",
    "    df_sentences= conn.execute(query).fetchdf()"
   ]
  },
  {
   "cell_type": "code",
   "execution_count": 16,
   "metadata": {},
   "outputs": [
    {
     "name": "stdout",
     "output_type": "stream",
     "text": [
      "                                               title last_section_title  \\\n",
      "0  Nature and Nurture: The Impact of Automaticity...               None   \n",
      "1  Nature and Nurture: The Impact of Automaticity...           Abstract   \n",
      "2  Nature and Nurture: The Impact of Automaticity...           Abstract   \n",
      "3  Nature and Nurture: The Impact of Automaticity...           Abstract   \n",
      "4  Nature and Nurture: The Impact of Automaticity...           Abstract   \n",
      "\n",
      "  sentence_type                                  sentence_original  \n",
      "0     PARAGRAPH  NATURE AND NURTURE: THE IMPACT OF AUTOMATICITY...  \n",
      "1      ABSTRACT  Much prior research on virtual teams has exami...  \n",
      "2      ABSTRACT  In this paper, we examine how the social struc...  \n",
      "3      ABSTRACT  During habitual use situations, team members e...  \n",
      "4      ABSTRACT  These genre rules influence how teams interact...  \n"
     ]
    }
   ],
   "source": [
    "print(df_sentences.head())"
   ]
  },
  {
   "cell_type": "code",
   "execution_count": 17,
   "metadata": {},
   "outputs": [
    {
     "name": "stdout",
     "output_type": "stream",
     "text": [
      "(17388, 4)\n"
     ]
    }
   ],
   "source": [
    "print(df_sentences.shape)"
   ]
  },
  {
   "cell_type": "code",
   "execution_count": 18,
   "metadata": {},
   "outputs": [],
   "source": [
    "null_counts = df_sentences.isnull().sum()"
   ]
  },
  {
   "cell_type": "code",
   "execution_count": 19,
   "metadata": {},
   "outputs": [
    {
     "name": "stdout",
     "output_type": "stream",
     "text": [
      "title                    0\n",
      "last_section_title    6009\n",
      "sentence_type            0\n",
      "sentence_original        0\n",
      "dtype: int64\n"
     ]
    }
   ],
   "source": [
    "print(null_counts)"
   ]
  },
  {
   "cell_type": "code",
   "execution_count": 20,
   "metadata": {},
   "outputs": [],
   "source": [
    "df_sentences = df_sentences.fillna('No section information')"
   ]
  },
  {
   "cell_type": "code",
   "execution_count": 21,
   "metadata": {},
   "outputs": [
    {
     "name": "stdout",
     "output_type": "stream",
     "text": [
      "sentence_type\n",
      "PARAGRAPH        10229\n",
      "TABLE             5462\n",
      "HEADER             819\n",
      "TABLE_HEADER       243\n",
      "CAPTION            236\n",
      "ABSTRACT           199\n",
      "ANNEX              128\n",
      "FIGURE_HEADER       26\n",
      "FORMULA             25\n",
      "FIGURE              20\n",
      "RQ                   1\n",
      "Name: count, dtype: int64\n"
     ]
    }
   ],
   "source": [
    "print(df_sentences['sentence_type'].value_counts())"
   ]
  },
  {
   "cell_type": "code",
   "execution_count": 22,
   "metadata": {},
   "outputs": [],
   "source": [
    "df_sentences = df_sentences.fillna('No section info')"
   ]
  },
  {
   "cell_type": "code",
   "execution_count": 25,
   "metadata": {},
   "outputs": [],
   "source": [
    "page_content2 = (df_sentences['title'].astype(str) + ' ' + df_sentences['last_section_title'].astype(str) + ' ' + df_sentences['sentence_type'].astype(str) + ' ' + df_sentences['sentence_original'].astype(str)).tolist()"
   ]
  },
  {
   "cell_type": "code",
   "execution_count": 26,
   "metadata": {},
   "outputs": [],
   "source": [
    "documents2 = [\n",
    "    Document(page_content=text, metadata={'title': row['title'], 'last_section_title': row['last_section_title'], 'sentence_type': row['sentence_type'], 'sentence_original': row['sentence_original']})\n",
    "    for text, (_, row) in zip(page_content, df_sentences.iterrows())\n",
    "]"
   ]
  },
  {
   "cell_type": "code",
   "execution_count": 27,
   "metadata": {},
   "outputs": [],
   "source": [
    "persist_directory2 = '../RAG_multiple_vector_stores/sentence_chroma_db_MISQ'"
   ]
  },
  {
   "cell_type": "code",
   "execution_count": 28,
   "metadata": {},
   "outputs": [],
   "source": [
    "vectordb_sentences = Chroma.from_documents(documents=documents2, \n",
    "                                 embedding=embedding_model,\n",
    "                                 persist_directory=persist_directory2)"
   ]
  }
 ],
 "metadata": {
  "kernelspec": {
   "display_name": "Python 3",
   "language": "python",
   "name": "python3"
  },
  "language_info": {
   "codemirror_mode": {
    "name": "ipython",
    "version": 3
   },
   "file_extension": ".py",
   "mimetype": "text/x-python",
   "name": "python",
   "nbconvert_exporter": "python",
   "pygments_lexer": "ipython3",
   "version": "3.11.6"
  }
 },
 "nbformat": 4,
 "nbformat_minor": 2
}
