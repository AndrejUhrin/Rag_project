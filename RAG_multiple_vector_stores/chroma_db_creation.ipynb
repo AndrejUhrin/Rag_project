{
 "cells": [
  {
   "cell_type": "code",
   "execution_count": 1,
   "metadata": {},
   "outputs": [
    {
     "name": "stderr",
     "output_type": "stream",
     "text": [
      "c:\\Users\\andyu\\AppData\\Local\\Programs\\Python\\Python311\\Lib\\site-packages\\sentence_transformers\\cross_encoder\\CrossEncoder.py:11: TqdmWarning: IProgress not found. Please update jupyter and ipywidgets. See https://ipywidgets.readthedocs.io/en/stable/user_install.html\n",
      "  from tqdm.autonotebook import tqdm, trange\n",
      "comet_ml is installed but `COMET_API_KEY` is not set.\n"
     ]
    }
   ],
   "source": [
    "import os\n",
    "import duckdb\n",
    "from sentence_transformers import SentenceTransformer\n",
    "from langchain.embeddings import HuggingFaceInstructEmbeddings\n",
    "from langchain.embeddings import HuggingFaceEmbeddings\n",
    "from langchain.vectorstores import Chroma\n",
    "from langchain.schema import Document"
   ]
  },
  {
   "cell_type": "markdown",
   "metadata": {},
   "source": [
    "Connecting to DuckDB and setting which columns do we use for the vector database. We have decided to only use papers from MISQ journal that are mentioned in the article \"MISQ Research Curation on IS Use\""
   ]
  },
  {
   "cell_type": "code",
   "execution_count": 2,
   "metadata": {},
   "outputs": [],
   "source": [
    "db_path = '../duck_db/isrecon_AIS11.duckdb'"
   ]
  },
  {
   "cell_type": "code",
   "execution_count": 3,
   "metadata": {},
   "outputs": [],
   "source": [
    "with duckdb.connect(database=db_path, read_only=True) as conn:\n",
    "    query = '''SELECT article_id,authors, year, title, journal, abstract, keywords, citation_count FROM papers\n",
    "    WHERE title IN (\n",
    "    'Technology Adaptation: The Case of a Computer-Supported Inter-organizational Virtual Team',\n",
    "    'How Do Suppliers Benefit from Information Technology Use in Supply Chain Relationships?',\n",
    "    'A Multilevel Model of Resistance to Information Technology Implementation',\n",
    "    'Understanding User Responses to Information Technology: A Coping Model of User Adaptation',\n",
    "    'A Comprehensive Conceputalization of the Post-Adoptive Behaviors Associated with IT-Enabled Work Systems',\n",
    "    'Information Technology and the Performance of the Customer Service Process: A Resource-Based Analysis',\n",
    "    'Toward a Deeper Understanding of System Usage in Organizations: A Multilevel Perspective',\n",
    "    'How Habit Limits the Predictive Power of Intention: The Case of Information Systems Continuance',\n",
    "    'Predicting Different Conceptualizations of System Use: The Competing Roles of Behavioral Intention, Facilitating Conditions, and Behavioral Expectation',\n",
    "    'The Integrative Framework of Technology Use: An Extension and Test',\n",
    "    'Why Break the Habit of a Lifetime? Rethinking the Roles of Intention, Habit, and Emotion in Continuing Information Technology Use',\n",
    "    'An Alternative to Methodological Individualism: A Non-Reductionist Approach to Studying Technology Adoption by Groups',\n",
    "    'Capturing Bottom-Up Information Technology Use Processes: A Complex Adaptive Systems Model',\n",
    "    'Understanding User Revisions When Using Information System Features: Adaptive System Use and Triggers',\n",
    "    'Interfirm IT Capability Profiles and Communications for Cocreating Relational Value: Evidence from the Logistics Industry',\n",
    "    'A Dramaturgical Model of the Production of Performance Data',\n",
    "    'The Embeddedness of Information Systems Habits in Organizational and Individual Level Routines: Development and Disruption',\n",
    "    'When Does Technology Use Enable Network Change in Organizations? A Comparative Study of Feature Use and Shared Affordances',\n",
    "    'Nature and Nurture: The Impact of Automaticity and the Structuration of Communication on Virtual Team Behavior and Performance',\n",
    "    'An Investigation of Information Systems Use Patterns: Technological Events as Triggers, the Effect of Time, and Consequences for Performance',\n",
    "    'Toward Generalizable Sociomaterial Inquiry: A Computational Approach for Zooming In and Out of Sociomaterial Routines',\n",
    "    'Coping with Information Technology: Mixed Emotions, Vacillation, and Nonconforming Use Patterns',\n",
    "    'Information Technology Use as a Learning Mechanism: The Impact of IT Use on Knowledge Transfer Effectiveness, Absorptive Capacity, and Franchisee Performance',\n",
    "    'ICT, Intermediaries, and the Transformation of Gendered Power Structures',\n",
    "    'Multiplex Appropriation in Complex Systems Implementation: The Case of Brazil''s Correspondent Banking System',\n",
    "    'Revisiting Group-Based Technology Adoption as a Dynamic Process: The Role of Changing Attitude-Rationale Configurations',\n",
    "    'Capturing the Complexity of Malleable IT Use: Adaptive Structuration Theory for Individuals',\n",
    "    'A Temporally Situated Self-Agency Theory of Information Technology Reinvention'\n",
    ");'''\n",
    "    df_article = conn.execute(query).fetchdf()"
   ]
  },
  {
   "cell_type": "markdown",
   "metadata": {},
   "source": [
    "Controlling the values in the dataframe"
   ]
  },
  {
   "cell_type": "code",
   "execution_count": 4,
   "metadata": {},
   "outputs": [
    {
     "name": "stdout",
     "output_type": "stream",
     "text": [
      "   article_id                                     authors  year  \\\n",
      "0         926        Bartelt, Valerie L.; Dennis, Alan R.  2014   \n",
      "1        1033          Beaudry, Anne; Pinsonneault, Alain  2005   \n",
      "2        1658  Burton-Jones, Andrew; Gallivan, Michael J.  2007   \n",
      "3        6541                                Kim, Sung S.  2009   \n",
      "4        7061           Lapointe, Liette; Rivard, Suzanne  2005   \n",
      "\n",
      "                                               title  \\\n",
      "0  Nature and Nurture: The Impact of Automaticity...   \n",
      "1  Understanding User Responses to Information Te...   \n",
      "2  Toward a Deeper Understanding of System Usage ...   \n",
      "3  The Integrative Framework of Technology Use: A...   \n",
      "4  A Multilevel Model of Resistance to Informatio...   \n",
      "\n",
      "                                    journal  \\\n",
      "0  Management Information Systems Quarterly   \n",
      "1  Management Information Systems Quarterly   \n",
      "2  Management Information Systems Quarterly   \n",
      "3  Management Information Systems Quarterly   \n",
      "4  Management Information Systems Quarterly   \n",
      "\n",
      "                                            abstract  \\\n",
      "0  Much prior research on virtual teams has exami...   \n",
      "1  This paper defines user adaptation as the cogn...   \n",
      "2  The objective of this paper is to contribute t...   \n",
      "3  The integrative framework of technology use (I...   \n",
      "4  To better explain resistance to information te...   \n",
      "\n",
      "                                            keywords  citation_count  \n",
      "0  Collaboration, virtual teams, genre rules, str...               4  \n",
      "1  Coping theory, user adaptation, IT appropriati...             299  \n",
      "2  System usage, multilevel, construct, configura...               0  \n",
      "3  Longitudinal study, panel model, technology us...              67  \n",
      "4  User resistance, information techno- logy impl...             296  \n"
     ]
    }
   ],
   "source": [
    "print(df_article.head())"
   ]
  },
  {
   "cell_type": "code",
   "execution_count": 5,
   "metadata": {},
   "outputs": [
    {
     "name": "stdout",
     "output_type": "stream",
     "text": [
      "(19, 8)\n"
     ]
    }
   ],
   "source": [
    "print(df_article.shape)"
   ]
  },
  {
   "cell_type": "code",
   "execution_count": 6,
   "metadata": {},
   "outputs": [],
   "source": [
    "null_counts = df_article.isnull().sum()"
   ]
  },
  {
   "cell_type": "markdown",
   "metadata": {},
   "source": [
    "Null values have to be handled before creating vector database because they are causing error"
   ]
  },
  {
   "cell_type": "code",
   "execution_count": 7,
   "metadata": {},
   "outputs": [
    {
     "name": "stdout",
     "output_type": "stream",
     "text": [
      "article_id        0\n",
      "authors           0\n",
      "year              0\n",
      "title             0\n",
      "journal           0\n",
      "abstract          0\n",
      "keywords          0\n",
      "citation_count    0\n",
      "dtype: int64\n"
     ]
    }
   ],
   "source": [
    "print(null_counts)"
   ]
  },
  {
   "cell_type": "markdown",
   "metadata": {},
   "source": [
    "We see that there are no missing values but in different tests we hade some null values so we implement filling of them just in case for the future."
   ]
  },
  {
   "cell_type": "code",
   "execution_count": 8,
   "metadata": {},
   "outputs": [],
   "source": [
    "df_article = df_article.fillna('Information not provided in the source DB')"
   ]
  },
  {
   "cell_type": "markdown",
   "metadata": {},
   "source": [
    "In this step we concatenate the columns of the dataframe to create a new column called page content. We do this because we want cannot use tabular data as input to the embeddings model. We need to convert the tabular data into a text format."
   ]
  },
  {
   "cell_type": "markdown",
   "metadata": {},
   "source": [
    "First we create empty list. In this list we will hold the disctionaries.\n",
    "We create this loop that iterates over each row in the dataframe.\n",
    "A the end we append all documents (one document=1 row from Dataframe) intho one list."
   ]
  },
  {
   "cell_type": "code",
   "execution_count": 9,
   "metadata": {},
   "outputs": [],
   "source": [
    "def concatenate_with_headers(df):\n",
    "    concatenated_rows = []\n",
    "    for index, row in df.iterrows():\n",
    "        concatenated_row = \" \".join([f\"{col}: {row[col]}\" for col in df.columns])\n",
    "        concatenated_rows.append(concatenated_row)\n",
    "    return concatenated_rows"
   ]
  },
  {
   "cell_type": "code",
   "execution_count": 16,
   "metadata": {},
   "outputs": [],
   "source": [
    "documents = [Document(page_content=row) for row in concatenate_with_headers(df_article)]"
   ]
  },
  {
   "cell_type": "code",
   "execution_count": 17,
   "metadata": {},
   "outputs": [
    {
     "name": "stdout",
     "output_type": "stream",
     "text": [
      "article_id: 926 authors: Bartelt, Valerie L.; Dennis, Alan R. year: 2014 title: Nature and Nurture: The Impact of Automaticity and the Structuration of Communication on Virtual Team Behavior and Performance journal: Management Information Systems Quarterly abstract: Much prior research on virtual teams has examined the impact of the features and capabilities of different communication tools (the nature of communication) on team performance. In this paper, we examine how the social structures (i.e., genre rules) that emerge around different communication tools (the nurture of communication) can be as important in influencing performance. During habitual use situations, team members enact genre rules associated with communication tools without conscious thought via automaticity. These genre rules influence how teams interact and ultimately how well they perform. We conducted an experimental study to examine the impact of different genre rules that have developed for two communication tools: instant messenger and discussion forum. Our results show that in habitual use situations, these tools triggered different genre rules with different behaviors, which in turn resulted in significantly different decision quality. We used heightened time pressure as a discrepant event to interrupt the automatic enactment of habitual genre rules and found that users adopted similar behaviors for both tools, which resulted in no significant differences in decision quality. These findings suggest that the automatic enactment of genre rules for a communication tool may have as powerful an effect on behavior and performance as the actual features of the tool itself. We believe that our results, taken together with past research showing the effects of social structures on communication, call for the expansion of task-technology fit theories to include the role of social structures in explaining the use of and performance from communication tools. keywords: Collaboration, virtual teams, genre rules, structuration theory, IM, discussion board, time pressure citation_count: 4\n",
      "article_id: 1033 authors: Beaudry, Anne; Pinsonneault, Alain year: 2005 title: Understanding User Responses to Information Technology: A Coping Model of User Adaptation journal: Management Information Systems Quarterly abstract: This paper defines user adaptation as the cognitive and behavioral efforts performed by users to cope with significant information technology events that occur in their work environment. Drawing on coping theory, we posit that users choose different adaptation strategies based on a combination of primary appraisal (i.e., a user's assessment of the expected consequences of an IT event) and secondary appraisal (i.e., a user's assessment of his/her control over the situation). On that basis, we identify four adaptation strategies (benefits maximizing, benefits satisficing, disturbance handling, and self-preservation) which are hypothesized to result in three different individual-level outcomes: restoring emotional stability, minimizing the perceived threats of the technology, and improving user effectiveness and efficiency. A study of the adaptation behaviors of six account managers in two large North American banks provides preliminary support for our model. By explaining adaptation patterns based on users' initial appraisal and subsequent responses to an IT event, our model offers predictive power while retaining an agency view of user adaptation. Also, by focusing on user cognitive and behavioral adaptation responses related to the technology, the work system, and the self, our model accounts for a wide range of user behaviors such as technology appropriation, avoidance, and resistance. keywords: Coping theory, user adaptation, IT appropriation, individual performance citation_count: 299\n",
      "article_id: 1658 authors: Burton-Jones, Andrew; Gallivan, Michael J. year: 2007 title: Toward a Deeper Understanding of System Usage in Organizations: A Multilevel Perspective journal: Management Information Systems Quarterly abstract: The objective of this paper is to contribute to a deeper understanding of system usage in organizations by examining its multilevel nature. Past research on system usage has suffered from a levels bias, with researchers studying system usage at single levels of analysis only (e.g., the individual, group, or organizational level). Although single-level research can be useful, we suggest that studying organizations one level at a time will ultimately lead to an unnatural, incomplete, and very disjointed view of how information systems are used in practice. To redress this situation, we draw on recent advances in multilevel theory to present system usage as a multilevel construct and provide an illustration for what it takes for researchers to study it as such. The multilevel perspective advanced in this article offers rich opportunities for theoretical and empirical insights and suggests a new foundation for in-depth research on the nature of system usage, its emergence and change, and its antecedents and consequences. keywords: System usage, multilevel, construct, configura- tion, IT impact, longitudinal citation_count: 0\n",
      "article_id: 6541 authors: Kim, Sung S. year: 2009 title: The Integrative Framework of Technology Use: An Extension and Test journal: Management Information Systems Quarterly abstract: The integrative framework of technology use (IFTU) posits that to fully explain post-adoption phenomena, four mechanisms--namely, reason-oriented action, sequential updating feedback, and habit--should be taken into account simultaneously in a unified model. Although IFTU sheds light on the four mechanisms underlying technology use, it lacks a coherent theoretical explanation for the underlying force that leads to the four mechanisms. To offer a more generalized and richer description of the four mechanisms, this study extends IFTU by drawing on the process model of memory in cognitive psychology. In addition, based on the extended IFTU paradigm, a three-wave panel model is developed that incorporates not only proximal effects but also distal effects of the four mechanisms on post-adoption phenomena. Three different sets of data (n=195, 160, and 342, respectively) are used to test the proposed model. The results of data analysis show that, as expected, the four mechanisms have proximal effects on subsequent evaluations and behavior. Furthermore, consistent with the memory perspective, the sequential updating and habit mechanisms are found to have distal effects on post-adoption phenomena even after controlling for their proximal effects. Overall, the findings of this study indicate that the memory perspective offers not only a seamless explanation of the four mechanisms underlying technology use but also yields deeper insights that can be validated only through a three-or-more-wave panel study. This research contributes to the literature by demonstrating that the extended IFTU paradigm has the potential to serve as a coherent theoretical framework on post-adoption phenomena in which prior experiences are internalized into memories, which in turn regulate later experiences. keywords: Longitudinal study, panel model, technology use, continued use, theory of planned behavior (TPB), process model of memory, path analysis citation_count: 67\n",
      "article_id: 7061 authors: Lapointe, Liette; Rivard, Suzanne year: 2005 title: A Multilevel Model of Resistance to Information Technology Implementation journal: Management Information Systems Quarterly abstract: To better explain resistance to information technology implementation, we used a multilevel, longitudinal approach. We first assessed extant models of resistance to IT. Using semantic analysis, we identified five basic components of resistance: behaviors, object, subject, threats, and initial conditions. We further examined extant models to (1) carry out a preliminary specification of the nature of the relationships between these components and (2) refine our understanding of the multilevel nature of the phenomenon. Using analytic induction, we examined data from three case studies of clinical information systems implementations in hospital settings, focusing on physicians' resistance behaviors. The resulting mixed-determinants model suggests that group resistance behaviors vary during implementation. When a system is introduced, users in a group will first assess it in terms of the interplay between its features and individual and/or organizational-level initial conditions. They then make projections about the consequences of its use. If expected consequences are threatening, resistance behaviors will result. During implementation, should some trigger occur to either modify or activate an initial condition involving the balance of power between the group and other user groups, it will also modify the object of resistance, from system to system significance. If the relevant initial conditions pertain to the power of the resisting group vis-à-vis the system advocates, the object of resistance will also be modified, from system significance to system advocates. Resistance behaviors will follow if threats are perceived from the interaction between the object of resistance and initial conditions. We also found that the bottom-up process by which group resistance behaviors emerge from individual behaviors is not the same in early versus late implementation. In early implementation, the emergence process is one of compilation, described as a combination of independent, individual behaviors. In later stages of implementation, if group level initial conditions have become active, the emergence process is one of composition, described as the convergence of individual behaviors. keywords: User resistance, information techno- logy implementation, information system imple- mentation, longitudinal perspective, multilevel ap- proach, resistance behaviors, semantic analysis, case study citation_count: 296\n"
     ]
    }
   ],
   "source": [
    "for doc in documents[:5]:\n",
    "    print(doc.page_content)"
   ]
  },
  {
   "cell_type": "code",
   "execution_count": 10,
   "metadata": {},
   "outputs": [],
   "source": [
    "documents = [\n",
    "    Document(page_content=row_content, metadata=row.to_dict())\n",
    "    for row_content, (_, row) in zip(concatenate_with_headers(df_article), df_article.iterrows())\n",
    "]"
   ]
  },
  {
   "cell_type": "code",
   "execution_count": 11,
   "metadata": {},
   "outputs": [
    {
     "name": "stdout",
     "output_type": "stream",
     "text": [
      "Page Content: article_id: 926 authors: Bartelt, Valerie L.; Dennis, Alan R. year: 2014 title: Nature and Nurture: The Impact of Automaticity and the Structuration of Communication on Virtual Team Behavior and Performance journal: Management Information Systems Quarterly abstract: Much prior research on virtual teams has examined the impact of the features and capabilities of different communication tools (the nature of communication) on team performance. In this paper, we examine how the social structures (i.e., genre rules) that emerge around different communication tools (the nurture of communication) can be as important in influencing performance. During habitual use situations, team members enact genre rules associated with communication tools without conscious thought via automaticity. These genre rules influence how teams interact and ultimately how well they perform. We conducted an experimental study to examine the impact of different genre rules that have developed for two communication tools: instant messenger and discussion forum. Our results show that in habitual use situations, these tools triggered different genre rules with different behaviors, which in turn resulted in significantly different decision quality. We used heightened time pressure as a discrepant event to interrupt the automatic enactment of habitual genre rules and found that users adopted similar behaviors for both tools, which resulted in no significant differences in decision quality. These findings suggest that the automatic enactment of genre rules for a communication tool may have as powerful an effect on behavior and performance as the actual features of the tool itself. We believe that our results, taken together with past research showing the effects of social structures on communication, call for the expansion of task-technology fit theories to include the role of social structures in explaining the use of and performance from communication tools. keywords: Collaboration, virtual teams, genre rules, structuration theory, IM, discussion board, time pressure citation_count: 4\n",
      "Metadata: {'article_id': 926, 'authors': 'Bartelt, Valerie L.; Dennis, Alan R.', 'year': 2014, 'title': 'Nature and Nurture: The Impact of Automaticity and the Structuration of Communication on Virtual Team Behavior and Performance', 'journal': 'Management Information Systems Quarterly', 'abstract': 'Much prior research on virtual teams has examined the impact of the features and capabilities of different communication tools (the nature of communication) on team performance. In this paper, we examine how the social structures (i.e., genre rules) that emerge around different communication tools (the nurture of communication) can be as important in influencing performance. During habitual use situations, team members enact genre rules associated with communication tools without conscious thought via automaticity. These genre rules influence how teams interact and ultimately how well they perform. We conducted an experimental study to examine the impact of different genre rules that have developed for two communication tools: instant messenger and discussion forum. Our results show that in habitual use situations, these tools triggered different genre rules with different behaviors, which in turn resulted in significantly different decision quality. We used heightened time pressure as a discrepant event to interrupt the automatic enactment of habitual genre rules and found that users adopted similar behaviors for both tools, which resulted in no significant differences in decision quality. These findings suggest that the automatic enactment of genre rules for a communication tool may have as powerful an effect on behavior and performance as the actual features of the tool itself. We believe that our results, taken together with past research showing the effects of social structures on communication, call for the expansion of task-technology fit theories to include the role of social structures in explaining the use of and performance from communication tools.', 'keywords': 'Collaboration, virtual teams, genre rules, structuration theory, IM, discussion board, time pressure', 'citation_count': 4}\n",
      "Page Content: article_id: 1033 authors: Beaudry, Anne; Pinsonneault, Alain year: 2005 title: Understanding User Responses to Information Technology: A Coping Model of User Adaptation journal: Management Information Systems Quarterly abstract: This paper defines user adaptation as the cognitive and behavioral efforts performed by users to cope with significant information technology events that occur in their work environment. Drawing on coping theory, we posit that users choose different adaptation strategies based on a combination of primary appraisal (i.e., a user's assessment of the expected consequences of an IT event) and secondary appraisal (i.e., a user's assessment of his/her control over the situation). On that basis, we identify four adaptation strategies (benefits maximizing, benefits satisficing, disturbance handling, and self-preservation) which are hypothesized to result in three different individual-level outcomes: restoring emotional stability, minimizing the perceived threats of the technology, and improving user effectiveness and efficiency. A study of the adaptation behaviors of six account managers in two large North American banks provides preliminary support for our model. By explaining adaptation patterns based on users' initial appraisal and subsequent responses to an IT event, our model offers predictive power while retaining an agency view of user adaptation. Also, by focusing on user cognitive and behavioral adaptation responses related to the technology, the work system, and the self, our model accounts for a wide range of user behaviors such as technology appropriation, avoidance, and resistance. keywords: Coping theory, user adaptation, IT appropriation, individual performance citation_count: 299\n",
      "Metadata: {'article_id': 1033, 'authors': 'Beaudry, Anne; Pinsonneault, Alain', 'year': 2005, 'title': 'Understanding User Responses to Information Technology: A Coping Model of User Adaptation', 'journal': 'Management Information Systems Quarterly', 'abstract': \"This paper defines user adaptation as the cognitive and behavioral efforts performed by users to cope with significant information technology events that occur in their work environment. Drawing on coping theory, we posit that users choose different adaptation strategies based on a combination of primary appraisal (i.e., a user's assessment of the expected consequences of an IT event) and secondary appraisal (i.e., a user's assessment of his/her control over the situation). On that basis, we identify four adaptation strategies (benefits maximizing, benefits satisficing, disturbance handling, and self-preservation) which are hypothesized to result in three different individual-level outcomes: restoring emotional stability, minimizing the perceived threats of the technology, and improving user effectiveness and efficiency. A study of the adaptation behaviors of six account managers in two large North American banks provides preliminary support for our model. By explaining adaptation patterns based on users' initial appraisal and subsequent responses to an IT event, our model offers predictive power while retaining an agency view of user adaptation. Also, by focusing on user cognitive and behavioral adaptation responses related to the technology, the work system, and the self, our model accounts for a wide range of user behaviors such as technology appropriation, avoidance, and resistance.\", 'keywords': 'Coping theory, user adaptation, IT appropriation, individual performance', 'citation_count': 299}\n",
      "Page Content: article_id: 1658 authors: Burton-Jones, Andrew; Gallivan, Michael J. year: 2007 title: Toward a Deeper Understanding of System Usage in Organizations: A Multilevel Perspective journal: Management Information Systems Quarterly abstract: The objective of this paper is to contribute to a deeper understanding of system usage in organizations by examining its multilevel nature. Past research on system usage has suffered from a levels bias, with researchers studying system usage at single levels of analysis only (e.g., the individual, group, or organizational level). Although single-level research can be useful, we suggest that studying organizations one level at a time will ultimately lead to an unnatural, incomplete, and very disjointed view of how information systems are used in practice. To redress this situation, we draw on recent advances in multilevel theory to present system usage as a multilevel construct and provide an illustration for what it takes for researchers to study it as such. The multilevel perspective advanced in this article offers rich opportunities for theoretical and empirical insights and suggests a new foundation for in-depth research on the nature of system usage, its emergence and change, and its antecedents and consequences. keywords: System usage, multilevel, construct, configura- tion, IT impact, longitudinal citation_count: 0\n",
      "Metadata: {'article_id': 1658, 'authors': 'Burton-Jones, Andrew; Gallivan, Michael J.', 'year': 2007, 'title': 'Toward a Deeper Understanding of System Usage in Organizations: A Multilevel Perspective', 'journal': 'Management Information Systems Quarterly', 'abstract': 'The objective of this paper is to contribute to a deeper understanding of system usage in organizations by examining its multilevel nature. Past research on system usage has suffered from a levels bias, with researchers studying system usage at single levels of analysis only (e.g., the individual, group, or organizational level). Although single-level research can be useful, we suggest that studying organizations one level at a time will ultimately lead to an unnatural, incomplete, and very disjointed view of how information systems are used in practice. To redress this situation, we draw on recent advances in multilevel theory to present system usage as a multilevel construct and provide an illustration for what it takes for researchers to study it as such. The multilevel perspective advanced in this article offers rich opportunities for theoretical and empirical insights and suggests a new foundation for in-depth research on the nature of system usage, its emergence and change, and its antecedents and consequences.', 'keywords': 'System usage, multilevel, construct, configura- tion, IT impact, longitudinal', 'citation_count': 0}\n",
      "Page Content: article_id: 6541 authors: Kim, Sung S. year: 2009 title: The Integrative Framework of Technology Use: An Extension and Test journal: Management Information Systems Quarterly abstract: The integrative framework of technology use (IFTU) posits that to fully explain post-adoption phenomena, four mechanisms--namely, reason-oriented action, sequential updating feedback, and habit--should be taken into account simultaneously in a unified model. Although IFTU sheds light on the four mechanisms underlying technology use, it lacks a coherent theoretical explanation for the underlying force that leads to the four mechanisms. To offer a more generalized and richer description of the four mechanisms, this study extends IFTU by drawing on the process model of memory in cognitive psychology. In addition, based on the extended IFTU paradigm, a three-wave panel model is developed that incorporates not only proximal effects but also distal effects of the four mechanisms on post-adoption phenomena. Three different sets of data (n=195, 160, and 342, respectively) are used to test the proposed model. The results of data analysis show that, as expected, the four mechanisms have proximal effects on subsequent evaluations and behavior. Furthermore, consistent with the memory perspective, the sequential updating and habit mechanisms are found to have distal effects on post-adoption phenomena even after controlling for their proximal effects. Overall, the findings of this study indicate that the memory perspective offers not only a seamless explanation of the four mechanisms underlying technology use but also yields deeper insights that can be validated only through a three-or-more-wave panel study. This research contributes to the literature by demonstrating that the extended IFTU paradigm has the potential to serve as a coherent theoretical framework on post-adoption phenomena in which prior experiences are internalized into memories, which in turn regulate later experiences. keywords: Longitudinal study, panel model, technology use, continued use, theory of planned behavior (TPB), process model of memory, path analysis citation_count: 67\n",
      "Metadata: {'article_id': 6541, 'authors': 'Kim, Sung S.', 'year': 2009, 'title': 'The Integrative Framework of Technology Use: An Extension and Test', 'journal': 'Management Information Systems Quarterly', 'abstract': 'The integrative framework of technology use (IFTU) posits that to fully explain post-adoption phenomena, four mechanisms--namely, reason-oriented action, sequential updating feedback, and habit--should be taken into account simultaneously in a unified model. Although IFTU sheds light on the four mechanisms underlying technology use, it lacks a coherent theoretical explanation for the underlying force that leads to the four mechanisms. To offer a more generalized and richer description of the four mechanisms, this study extends IFTU by drawing on the process model of memory in cognitive psychology. In addition, based on the extended IFTU paradigm, a three-wave panel model is developed that incorporates not only proximal effects but also distal effects of the four mechanisms on post-adoption phenomena. Three different sets of data (n=195, 160, and 342, respectively) are used to test the proposed model. The results of data analysis show that, as expected, the four mechanisms have proximal effects on subsequent evaluations and behavior. Furthermore, consistent with the memory perspective, the sequential updating and habit mechanisms are found to have distal effects on post-adoption phenomena even after controlling for their proximal effects. Overall, the findings of this study indicate that the memory perspective offers not only a seamless explanation of the four mechanisms underlying technology use but also yields deeper insights that can be validated only through a three-or-more-wave panel study. This research contributes to the literature by demonstrating that the extended IFTU paradigm has the potential to serve as a coherent theoretical framework on post-adoption phenomena in which prior experiences are internalized into memories, which in turn regulate later experiences.', 'keywords': 'Longitudinal study, panel model, technology use, continued use, theory of planned behavior (TPB), process model of memory, path analysis', 'citation_count': 67}\n",
      "Page Content: article_id: 7061 authors: Lapointe, Liette; Rivard, Suzanne year: 2005 title: A Multilevel Model of Resistance to Information Technology Implementation journal: Management Information Systems Quarterly abstract: To better explain resistance to information technology implementation, we used a multilevel, longitudinal approach. We first assessed extant models of resistance to IT. Using semantic analysis, we identified five basic components of resistance: behaviors, object, subject, threats, and initial conditions. We further examined extant models to (1) carry out a preliminary specification of the nature of the relationships between these components and (2) refine our understanding of the multilevel nature of the phenomenon. Using analytic induction, we examined data from three case studies of clinical information systems implementations in hospital settings, focusing on physicians' resistance behaviors. The resulting mixed-determinants model suggests that group resistance behaviors vary during implementation. When a system is introduced, users in a group will first assess it in terms of the interplay between its features and individual and/or organizational-level initial conditions. They then make projections about the consequences of its use. If expected consequences are threatening, resistance behaviors will result. During implementation, should some trigger occur to either modify or activate an initial condition involving the balance of power between the group and other user groups, it will also modify the object of resistance, from system to system significance. If the relevant initial conditions pertain to the power of the resisting group vis-à-vis the system advocates, the object of resistance will also be modified, from system significance to system advocates. Resistance behaviors will follow if threats are perceived from the interaction between the object of resistance and initial conditions. We also found that the bottom-up process by which group resistance behaviors emerge from individual behaviors is not the same in early versus late implementation. In early implementation, the emergence process is one of compilation, described as a combination of independent, individual behaviors. In later stages of implementation, if group level initial conditions have become active, the emergence process is one of composition, described as the convergence of individual behaviors. keywords: User resistance, information techno- logy implementation, information system imple- mentation, longitudinal perspective, multilevel ap- proach, resistance behaviors, semantic analysis, case study citation_count: 296\n",
      "Metadata: {'article_id': 7061, 'authors': 'Lapointe, Liette; Rivard, Suzanne', 'year': 2005, 'title': 'A Multilevel Model of Resistance to Information Technology Implementation', 'journal': 'Management Information Systems Quarterly', 'abstract': \"To better explain resistance to information technology implementation, we used a multilevel, longitudinal approach. We first assessed extant models of resistance to IT. Using semantic analysis, we identified five basic components of resistance: behaviors, object, subject, threats, and initial conditions. We further examined extant models to (1) carry out a preliminary specification of the nature of the relationships between these components and (2) refine our understanding of the multilevel nature of the phenomenon. Using analytic induction, we examined data from three case studies of clinical information systems implementations in hospital settings, focusing on physicians' resistance behaviors. The resulting mixed-determinants model suggests that group resistance behaviors vary during implementation. When a system is introduced, users in a group will first assess it in terms of the interplay between its features and individual and/or organizational-level initial conditions. They then make projections about the consequences of its use. If expected consequences are threatening, resistance behaviors will result. During implementation, should some trigger occur to either modify or activate an initial condition involving the balance of power between the group and other user groups, it will also modify the object of resistance, from system to system significance. If the relevant initial conditions pertain to the power of the resisting group vis-à-vis the system advocates, the object of resistance will also be modified, from system significance to system advocates. Resistance behaviors will follow if threats are perceived from the interaction between the object of resistance and initial conditions. We also found that the bottom-up process by which group resistance behaviors emerge from individual behaviors is not the same in early versus late implementation. In early implementation, the emergence process is one of compilation, described as a combination of independent, individual behaviors. In later stages of implementation, if group level initial conditions have become active, the emergence process is one of composition, described as the convergence of individual behaviors.\", 'keywords': 'User resistance, information techno- logy implementation, information system imple- mentation, longitudinal perspective, multilevel ap- proach, resistance behaviors, semantic analysis, case study', 'citation_count': 296}\n"
     ]
    }
   ],
   "source": [
    "for doc in documents[:5]:\n",
    "    print(\"Page Content:\", doc.page_content)\n",
    "    print(\"Metadata:\", doc.metadata)"
   ]
  },
  {
   "cell_type": "markdown",
   "metadata": {},
   "source": [
    "Creating a persist directory where the vector database will be stored"
   ]
  },
  {
   "cell_type": "code",
   "execution_count": 12,
   "metadata": {},
   "outputs": [],
   "source": [
    "persist_directory = '../RAG_multiple_vector_stores/article_chroma_db_MISQ'"
   ]
  },
  {
   "cell_type": "markdown",
   "metadata": {},
   "source": [
    " Here we are creating object with concatenated text (page content) with metadata that is associated to the page content."
   ]
  },
  {
   "cell_type": "markdown",
   "metadata": {},
   "source": [
    "We use sentence transformers model for our embeddings model"
   ]
  },
  {
   "cell_type": "code",
   "execution_count": 3,
   "metadata": {},
   "outputs": [],
   "source": [
    "embedding_model = HuggingFaceEmbeddings(model_name='sentence-transformers/paraphrase-MiniLM-L6-v2')"
   ]
  },
  {
   "cell_type": "markdown",
   "metadata": {},
   "source": [
    "In this step we create our vector database where we take doucuments which is the source of information and which will get embedded and stored in the vector database, embedding model which is \"sentence transformes\", and we store this vector database in persist directory for later use. This way the vector database is stored on disk and we can access it later without recreating it from the scratch."
   ]
  },
  {
   "cell_type": "code",
   "execution_count": 14,
   "metadata": {},
   "outputs": [],
   "source": [
    "vectordb_articles = Chroma.from_documents(documents=documents, \n",
    "                                 embedding=embedding_model,\n",
    "                                 persist_directory=persist_directory)"
   ]
  },
  {
   "cell_type": "code",
   "execution_count": 15,
   "metadata": {},
   "outputs": [],
   "source": [
    "retriever = vectordb_articles.as_retriever()"
   ]
  },
  {
   "cell_type": "code",
   "execution_count": 18,
   "metadata": {},
   "outputs": [],
   "source": [
    "def query_vectordb(query, top_k=1):\n",
    "    results = retriever.invoke(query, k=top_k)\n",
    "    return results"
   ]
  },
  {
   "cell_type": "code",
   "execution_count": 25,
   "metadata": {},
   "outputs": [],
   "source": [
    "def query_vectordb(query, top_k=1):\n",
    "    # Perform a semantic search\n",
    "    results = retriever.invoke(query, k=top_k)\n",
    "    \n",
    "    # Example of handling numerical info: find highest citation count\n",
    "    if \"highest citation count\" in query.lower():\n",
    "        highest_citation_doc = max(results, key=lambda doc: doc.metadata.get('citation_count', 0))\n",
    "        return [highest_citation_doc]\n",
    "    \n",
    "    return results"
   ]
  },
  {
   "cell_type": "code",
   "execution_count": 26,
   "metadata": {},
   "outputs": [
    {
     "name": "stdout",
     "output_type": "stream",
     "text": [
      "[Document(page_content=\"article_id: 9462 authors: Ortiz de Guinea, Ana; Markus, M. Lynne year: 2009 title: Why Break the Habit of a Lifetime? Rethinking the Roles of Intention, Habit, and Emotion in Continuing Information Technology Use journal: Management Information Systems Quarterly abstract: One of the most welcome recent developments in Information Systems scholarship has been the growing interest in individuals' continuing use of information technology well after initial adoption, known in the literature as IT usage, IT continuance, and post-adoptive IT usage. In this essay, we explore the theoretical underpinnings of IS research on continuing IT use. Although the IS literature on continuing IT use emphasizes the role of habitual behavior that does not require conscious behavioral intention, it does so in a way that largely remains faithful to the theoretical tradition of planned behavior and reasoned action. However, a close reading of reference literatures on automatic behavior (behavior that is not consciously controlled) and the influences of emotion on behavior suggests that planned behavior and reasoned action may not provide the best theoretical foundation for the study of continuing IT use. As a result, we call for empirical research that directly compares and contrasts the consensus theory of continuing IT use with rival theories that place much greater emphasis on unplanned and unreasoned action keywords: Continuing IT use, IT continuance, post-adoptive IT usage, automatic behavior, environmental triggers, habit, emotion, intention, cognition, reasoned action, planned behavior citation_count: 75\", metadata={'abstract': \"One of the most welcome recent developments in Information Systems scholarship has been the growing interest in individuals' continuing use of information technology well after initial adoption, known in the literature as IT usage, IT continuance, and post-adoptive IT usage. In this essay, we explore the theoretical underpinnings of IS research on continuing IT use. Although the IS literature on continuing IT use emphasizes the role of habitual behavior that does not require conscious behavioral intention, it does so in a way that largely remains faithful to the theoretical tradition of planned behavior and reasoned action. However, a close reading of reference literatures on automatic behavior (behavior that is not consciously controlled) and the influences of emotion on behavior suggests that planned behavior and reasoned action may not provide the best theoretical foundation for the study of continuing IT use. As a result, we call for empirical research that directly compares and contrasts the consensus theory of continuing IT use with rival theories that place much greater emphasis on unplanned and unreasoned action\", 'article_id': 9462, 'authors': 'Ortiz de Guinea, Ana; Markus, M. Lynne', 'citation_count': 75, 'journal': 'Management Information Systems Quarterly', 'keywords': 'Continuing IT use, IT continuance, post-adoptive IT usage, automatic behavior, environmental triggers, habit, emotion, intention, cognition, reasoned action, planned behavior', 'title': 'Why Break the Habit of a Lifetime? Rethinking the Roles of Intention, Habit, and Emotion in Continuing Information Technology Use', 'year': 2009}), Document(page_content='article_id: 9183 authors: Nevo, Saggi; Nevo, Dorit; Pinsonneault, Alain year: 2016 title: A Temporally Situated Self-Agency Theory of Information Technology Reinvention journal: Management Information Systems Quarterly abstract: Our knowledge of how users reinvent information technologies (IT) in ways that depart from their intended purposes to achieve new goals is relatively limited. Drawing on a human agency theory that situates actors in the flow of time, this paper develops a theory of IT reinvention. It identifies the key subprocesses of IT reinvention, describes two patterns of reinvention (performance-oriented and mastery-oriented), and explains how the present and the past influence the ambiguities, demands, and dilemmas inherent to each pattern. The outcomes associated with each pattern of IT reinvention are also discussed. The paper provides the theoretical foundations to understand how users reinvent IT as well as new insights into a broader range of post-adoption behaviors. keywords: IT reinvention, human agency, temporal orientation, prospective technological capabilities, mastery goals, performance goals, post-adoption, technology adaptation, process theory, innovation diffusion citation_count: 0', metadata={'abstract': 'Our knowledge of how users reinvent information technologies (IT) in ways that depart from their intended purposes to achieve new goals is relatively limited. Drawing on a human agency theory that situates actors in the flow of time, this paper develops a theory of IT reinvention. It identifies the key subprocesses of IT reinvention, describes two patterns of reinvention (performance-oriented and mastery-oriented), and explains how the present and the past influence the ambiguities, demands, and dilemmas inherent to each pattern. The outcomes associated with each pattern of IT reinvention are also discussed. The paper provides the theoretical foundations to understand how users reinvent IT as well as new insights into a broader range of post-adoption behaviors.', 'article_id': 9183, 'authors': 'Nevo, Saggi; Nevo, Dorit; Pinsonneault, Alain', 'citation_count': 0, 'journal': 'Management Information Systems Quarterly', 'keywords': 'IT reinvention, human agency, temporal orientation, prospective technological capabilities, mastery goals, performance goals, post-adoption, technology adaptation, process theory, innovation diffusion', 'title': 'A Temporally Situated Self-Agency Theory of Information Technology Reinvention', 'year': 2016}), Document(page_content=\"article_id: 11680 authors: Stein, Mari-Klara; Newell, Sue; Wagner, Erica L.; Galliers, Robert D. year: 2015 title: Coping with Information Technology: Mixed Emotions, Vacillation, and Nonconforming Use Patterns journal: Management Information Systems Quarterly abstract: Achieving the promised business benefits of an IT system is intimately tied to the continued incorporation of the system into the work practices it is intended to support. While much is known about different social, cognitive, and technical factors that influence initial adoption and use, less is known about the role of emotional factors in users' behaviors. Through an in-depth field study conducted in two North American universities, we examine the role of emotions in how specific IT use patterns emerge. We find that there are five different characteristics of an IT stimulus event (cues) that, when interacting in a reinforcing manner, elicit a single class of emotions (uniform affective responses) and, when interacting in an oppositional manner, elicit mixed emotions (ambivalent affective responses). While users respond to uniform emotions with clear adaptation strategies, they deal with ambivalent emotions by combining different adaptation behaviors, a vacillating strategy between emphasizing positive and negative aspects of the stimulus. Surprisingly, these ambivalent emotions and vacillating strategies can lead to active and positive user engagement, exhibited in task and tool adaptation behaviors and improvisational use patterns that, despite their nonconformity to terms of use, can have positive organizational implications. keywords: Emotions, IT use patterns, adaptation behaviors, ambivalence, qualitative research citation_count: 102\", metadata={'abstract': \"Achieving the promised business benefits of an IT system is intimately tied to the continued incorporation of the system into the work practices it is intended to support. While much is known about different social, cognitive, and technical factors that influence initial adoption and use, less is known about the role of emotional factors in users' behaviors. Through an in-depth field study conducted in two North American universities, we examine the role of emotions in how specific IT use patterns emerge. We find that there are five different characteristics of an IT stimulus event (cues) that, when interacting in a reinforcing manner, elicit a single class of emotions (uniform affective responses) and, when interacting in an oppositional manner, elicit mixed emotions (ambivalent affective responses). While users respond to uniform emotions with clear adaptation strategies, they deal with ambivalent emotions by combining different adaptation behaviors, a vacillating strategy between emphasizing positive and negative aspects of the stimulus. Surprisingly, these ambivalent emotions and vacillating strategies can lead to active and positive user engagement, exhibited in task and tool adaptation behaviors and improvisational use patterns that, despite their nonconformity to terms of use, can have positive organizational implications.\", 'article_id': 11680, 'authors': 'Stein, Mari-Klara; Newell, Sue; Wagner, Erica L.; Galliers, Robert D.', 'citation_count': 102, 'journal': 'Management Information Systems Quarterly', 'keywords': 'Emotions, IT use patterns, adaptation behaviors, ambivalence, qualitative research', 'title': 'Coping with Information Technology: Mixed Emotions, Vacillation, and Nonconforming Use Patterns', 'year': 2015}), Document(page_content=\"article_id: 9464 authors: Ortiz de Guinea, Ana; Webster, Jane year: 2013 title: An Investigation of Information Systems Use Patterns: Technological Events as Triggers, the Effect of Time, and Consequences for Performance journal: Management Information Systems Quarterly abstract: Information systems use represents one of the core concepts defining the discipline. In this article, we develop a rich conceptualization of IS use patterns as individuals' emotions, cognition, and behaviors while employing an information technology to accomplish a work-related task. By combining two novel perspectives-the affect-object paradigm and automaticity-with coping theory, we theorize how different patterns appear and disappear as a result of different IT events-expected and discrepant-as well as over time, and how these patterns influence short-term performance. In order to test our hypotheses, we conducted two studies, one qualitative and the other quantitative, that combined different methods (e.g., open-ended questions, physiological data, videos, protocol analysis) to study the influence of expected and discrepant events. The synergistic properties of the two studies demonstrate the existence of two IS use patterns, automatic and adjusting. Most interactions are automatic, and adjusting patterns, triggered by discrepant IT events, fade over time and transition into automatic ones. Further, automatic patterns result in enhanced short-term performance, while adjusting ones do not. Our conceptualization of IS use patterns is useful because it addresses important questions (such as why negative IT perceptions persist) and clarifies that it is how (rather than how much) people use IT that is pertinent for performance. keywords: Emotion, affect, behavior, cognition, performance, pattern, IS use, usage, heart rate, EKG, physiology, physiological arousal, automaticity, continuance, technological effects citation_count: 63\", metadata={'abstract': \"Information systems use represents one of the core concepts defining the discipline. In this article, we develop a rich conceptualization of IS use patterns as individuals' emotions, cognition, and behaviors while employing an information technology to accomplish a work-related task. By combining two novel perspectives-the affect-object paradigm and automaticity-with coping theory, we theorize how different patterns appear and disappear as a result of different IT events-expected and discrepant-as well as over time, and how these patterns influence short-term performance. In order to test our hypotheses, we conducted two studies, one qualitative and the other quantitative, that combined different methods (e.g., open-ended questions, physiological data, videos, protocol analysis) to study the influence of expected and discrepant events. The synergistic properties of the two studies demonstrate the existence of two IS use patterns, automatic and adjusting. Most interactions are automatic, and adjusting patterns, triggered by discrepant IT events, fade over time and transition into automatic ones. Further, automatic patterns result in enhanced short-term performance, while adjusting ones do not. Our conceptualization of IS use patterns is useful because it addresses important questions (such as why negative IT perceptions persist) and clarifies that it is how (rather than how much) people use IT that is pertinent for performance.\", 'article_id': 9464, 'authors': 'Ortiz de Guinea, Ana; Webster, Jane', 'citation_count': 63, 'journal': 'Management Information Systems Quarterly', 'keywords': 'Emotion, affect, behavior, cognition, performance, pattern, IS use, usage, heart rate, EKG, physiology, physiological arousal, automaticity, continuance, technological effects', 'title': 'An Investigation of Information Systems Use Patterns: Technological Events as Triggers, the Effect of Time, and Consequences for Performance', 'year': 2013})]\n"
     ]
    }
   ],
   "source": [
    "query = \"article where author is Ortiz de Guinea, Ana\"\n",
    "results = query_vectordb(query)\n",
    "print(results)"
   ]
  },
  {
   "cell_type": "markdown",
   "metadata": {},
   "source": [
    "We take the same steps for sentences table where we have full article separated into sentences --> each row = 1 sentence"
   ]
  },
  {
   "cell_type": "code",
   "execution_count": 4,
   "metadata": {},
   "outputs": [],
   "source": [
    "with duckdb.connect(database=db_path, read_only=True) as conn:\n",
    "    query = '''SELECT para_id, last_section_title  FROM sentences\n",
    "                JOIN papers ON sentences.article_id = papers.article_id\n",
    "                WHERE title IN (\n",
    "                'Technology Adaptation: The Case of a Computer-Supported Inter-organizational Virtual Team',\n",
    "                'How Do Suppliers Benefit from Information Technology Use in Supply Chain Relationships?',\n",
    "                'A Multilevel Model of Resistance to Information Technology Implementation',\n",
    "                'Understanding User Responses to Information Technology: A Coping Model of User Adaptation',\n",
    "                'A Comprehensive Conceputalization of the Post-Adoptive Behaviors Associated with IT-Enabled Work Systems',\n",
    "                'Information Technology and the Performance of the Customer Service Process: A Resource-Based Analysis',\n",
    "                'Toward a Deeper Understanding of System Usage in Organizations: A Multilevel Perspective',\n",
    "                'How Habit Limits the Predictive Power of Intention: The Case of Information Systems Continuance',\n",
    "                'Predicting Different Conceptualizations of System Use: The Competing Roles of Behavioral Intention, Facilitating Conditions, and Behavioral Expectation',\n",
    "                'The Integrative Framework of Technology Use: An Extension and Test',\n",
    "                'Why Break the Habit of a Lifetime? Rethinking the Roles of Intention, Habit, and Emotion in Continuing Information Technology Use',\n",
    "                'An Alternative to Methodological Individualism: A Non-Reductionist Approach to Studying Technology Adoption by Groups',\n",
    "                'Capturing Bottom-Up Information Technology Use Processes: A Complex Adaptive Systems Model',\n",
    "                'Understanding User Revisions When Using Information System Features: Adaptive System Use and Triggers',\n",
    "                'Interfirm IT Capability Profiles and Communications for Cocreating Relational Value: Evidence from the Logistics Industry',\n",
    "                'A Dramaturgical Model of the Production of Performance Data',\n",
    "                'The Embeddedness of Information Systems Habits in Organizational and Individual Level Routines: Development and Disruption',\n",
    "                'When Does Technology Use Enable Network Change in Organizations? A Comparative Study of Feature Use and Shared Affordances',\n",
    "                'Nature and Nurture: The Impact of Automaticity and the Structuration of Communication on Virtual Team Behavior and Performance',\n",
    "                'An Investigation of Information Systems Use Patterns: Technological Events as Triggers, the Effect of Time, and Consequences for Performance',\n",
    "                'Toward Generalizable Sociomaterial Inquiry: A Computational Approach for Zooming In and Out of Sociomaterial Routines',\n",
    "                'Coping with Information Technology: Mixed Emotions, Vacillation, and Nonconforming Use Patterns',\n",
    "                'Information Technology Use as a Learning Mechanism: The Impact of IT Use on Knowledge Transfer Effectiveness, Absorptive Capacity, and Franchisee Performance',\n",
    "                'ICT, Intermediaries, and the Transformation of Gendered Power Structures',\n",
    "                'Multiplex Appropriation in Complex Systems Implementation: The Case of Brazil''s Correspondent Banking System',\n",
    "                'Revisiting Group-Based Technology Adoption as a Dynamic Process: The Role of Changing Attitude-Rationale Configurations',\n",
    "                'Capturing the Complexity of Malleable IT Use: Adaptive Structuration Theory for Individuals',\n",
    "                'A Temporally Situated Self-Agency Theory of Information Technology Reinvention'\n",
    "                );'''\n",
    "    df_sentences= conn.execute(query).fetchdf()"
   ]
  },
  {
   "cell_type": "code",
   "execution_count": 5,
   "metadata": {},
   "outputs": [
    {
     "name": "stdout",
     "output_type": "stream",
     "text": [
      "  para_id last_section_title\n",
      "0   926_0               None\n",
      "1   926_1           Abstract\n",
      "2   926_1           Abstract\n",
      "3   926_1           Abstract\n",
      "4   926_1           Abstract\n"
     ]
    }
   ],
   "source": [
    "print(df_sentences.head())"
   ]
  },
  {
   "cell_type": "code",
   "execution_count": 6,
   "metadata": {},
   "outputs": [
    {
     "name": "stdout",
     "output_type": "stream",
     "text": [
      "   para_id last_section_title\n",
      "0    926_0               None\n",
      "1    926_1           Abstract\n",
      "10   926_2     Introduction 1\n",
      "11   926_3     Introduction 1\n",
      "14   926_4     Introduction 1\n"
     ]
    }
   ],
   "source": [
    "df_sentences = df_sentences.drop_duplicates(subset=['para_id'])\n",
    "print(df_sentences.head())"
   ]
  },
  {
   "cell_type": "code",
   "execution_count": 7,
   "metadata": {},
   "outputs": [],
   "source": [
    "with duckdb.connect(database=db_path, read_only=True) as conn:\n",
    "    query = '''SELECT title, para_id, paragraph FROM paragraphs\n",
    "                JOIN papers ON paragraphs.article_id = papers.article_id\n",
    "                WHERE title IN (\n",
    "                'Technology Adaptation: The Case of a Computer-Supported Inter-organizational Virtual Team',\n",
    "                'How Do Suppliers Benefit from Information Technology Use in Supply Chain Relationships?',\n",
    "                'A Multilevel Model of Resistance to Information Technology Implementation',\n",
    "                'Understanding User Responses to Information Technology: A Coping Model of User Adaptation',\n",
    "                'A Comprehensive Conceputalization of the Post-Adoptive Behaviors Associated with IT-Enabled Work Systems',\n",
    "                'Information Technology and the Performance of the Customer Service Process: A Resource-Based Analysis',\n",
    "                'Toward a Deeper Understanding of System Usage in Organizations: A Multilevel Perspective',\n",
    "                'How Habit Limits the Predictive Power of Intention: The Case of Information Systems Continuance',\n",
    "                'Predicting Different Conceptualizations of System Use: The Competing Roles of Behavioral Intention, Facilitating Conditions, and Behavioral Expectation',\n",
    "                'The Integrative Framework of Technology Use: An Extension and Test',\n",
    "                'Why Break the Habit of a Lifetime? Rethinking the Roles of Intention, Habit, and Emotion in Continuing Information Technology Use',\n",
    "                'An Alternative to Methodological Individualism: A Non-Reductionist Approach to Studying Technology Adoption by Groups',\n",
    "                'Capturing Bottom-Up Information Technology Use Processes: A Complex Adaptive Systems Model',\n",
    "                'Understanding User Revisions When Using Information System Features: Adaptive System Use and Triggers',\n",
    "                'Interfirm IT Capability Profiles and Communications for Cocreating Relational Value: Evidence from the Logistics Industry',\n",
    "                'A Dramaturgical Model of the Production of Performance Data',\n",
    "                'The Embeddedness of Information Systems Habits in Organizational and Individual Level Routines: Development and Disruption',\n",
    "                'When Does Technology Use Enable Network Change in Organizations? A Comparative Study of Feature Use and Shared Affordances',\n",
    "                'Nature and Nurture: The Impact of Automaticity and the Structuration of Communication on Virtual Team Behavior and Performance',\n",
    "                'An Investigation of Information Systems Use Patterns: Technological Events as Triggers, the Effect of Time, and Consequences for Performance',\n",
    "                'Toward Generalizable Sociomaterial Inquiry: A Computational Approach for Zooming In and Out of Sociomaterial Routines',\n",
    "                'Coping with Information Technology: Mixed Emotions, Vacillation, and Nonconforming Use Patterns',\n",
    "                'Information Technology Use as a Learning Mechanism: The Impact of IT Use on Knowledge Transfer Effectiveness, Absorptive Capacity, and Franchisee Performance',\n",
    "                'ICT, Intermediaries, and the Transformation of Gendered Power Structures',\n",
    "                'Multiplex Appropriation in Complex Systems Implementation: The Case of Brazil''s Correspondent Banking System',\n",
    "                'Revisiting Group-Based Technology Adoption as a Dynamic Process: The Role of Changing Attitude-Rationale Configurations',\n",
    "                'Capturing the Complexity of Malleable IT Use: Adaptive Structuration Theory for Individuals',\n",
    "                'A Temporally Situated Self-Agency Theory of Information Technology Reinvention'\n",
    "                );'''\n",
    "    df_paragraphs= conn.execute(query).fetchdf()"
   ]
  },
  {
   "cell_type": "code",
   "execution_count": 8,
   "metadata": {},
   "outputs": [
    {
     "name": "stdout",
     "output_type": "stream",
     "text": [
      "                                               title para_id  \\\n",
      "0  The Embeddedness of Information Systems Habits...  9957_0   \n",
      "1  The Embeddedness of Information Systems Habits...  9957_1   \n",
      "2  The Embeddedness of Information Systems Habits...  9957_3   \n",
      "3  The Embeddedness of Information Systems Habits...  9957_4   \n",
      "4  The Embeddedness of Information Systems Habits...  9957_5   \n",
      "\n",
      "                                           paragraph  \n",
      "0  THE EMBEDDEDNESS OF INFORMATION SYSTEMS HABITS...  \n",
      "1  Despite recent interest in studying informatio...  \n",
      "2  The psychological construct of habit has attra...  \n",
      "3  Further, within organizations, IS use is almos...  \n",
      "4  The objective of the current paper is to contr...  \n"
     ]
    }
   ],
   "source": [
    "print(df_paragraphs.head())"
   ]
  },
  {
   "cell_type": "code",
   "execution_count": 9,
   "metadata": {},
   "outputs": [],
   "source": [
    "merged_df = df_sentences.merge(df_paragraphs, on=['para_id'])"
   ]
  },
  {
   "cell_type": "code",
   "execution_count": 10,
   "metadata": {},
   "outputs": [
    {
     "name": "stdout",
     "output_type": "stream",
     "text": [
      "  para_id last_section_title  \\\n",
      "0   926_0               None   \n",
      "1   926_1           Abstract   \n",
      "2   926_3     Introduction 1   \n",
      "3   926_4     Introduction 1   \n",
      "4   926_5     Introduction 1   \n",
      "\n",
      "                                               title  \\\n",
      "0  Nature and Nurture: The Impact of Automaticity...   \n",
      "1  Nature and Nurture: The Impact of Automaticity...   \n",
      "2  Nature and Nurture: The Impact of Automaticity...   \n",
      "3  Nature and Nurture: The Impact of Automaticity...   \n",
      "4  Nature and Nurture: The Impact of Automaticity...   \n",
      "\n",
      "                                           paragraph  \n",
      "0  NATURE AND NURTURE: THE IMPACT OF AUTOMATICITY...  \n",
      "1  Much prior research on virtual teams has exami...  \n",
      "2  Prior research has argued-and demonstrated emp...  \n",
      "3  In this paper, we argue that nurture has an eq...  \n",
      "4  Genre rules are like many other social structu...  \n"
     ]
    }
   ],
   "source": [
    "print(merged_df.head())"
   ]
  },
  {
   "cell_type": "code",
   "execution_count": 11,
   "metadata": {},
   "outputs": [
    {
     "name": "stdout",
     "output_type": "stream",
     "text": [
      "      para_id  last_section_title  \\\n",
      "773    1033_0                None   \n",
      "774    1033_1            Abstract   \n",
      "833  1033_101       A) and Bill B   \n",
      "834  1033_102       A) and Bill B   \n",
      "835  1033_104     Data Collection   \n",
      "836  1033_105     Data Collection   \n",
      "837  1033_107     Data Collection   \n",
      "838  1033_108     Data Collection   \n",
      "839  1033_109     Data Collection   \n",
      "780   1033_11  The Coping Process   \n",
      "840  1033_111       Data Analysis   \n",
      "841  1033_112       Data Analysis   \n",
      "842  1033_113       Data Analysis   \n",
      "843  1033_115             Results   \n",
      "844  1033_116             Results   \n",
      "\n",
      "                                                 title  \\\n",
      "773  Understanding User Responses to Information Te...   \n",
      "774  Understanding User Responses to Information Te...   \n",
      "833  Understanding User Responses to Information Te...   \n",
      "834  Understanding User Responses to Information Te...   \n",
      "835  Understanding User Responses to Information Te...   \n",
      "836  Understanding User Responses to Information Te...   \n",
      "837  Understanding User Responses to Information Te...   \n",
      "838  Understanding User Responses to Information Te...   \n",
      "839  Understanding User Responses to Information Te...   \n",
      "780  Understanding User Responses to Information Te...   \n",
      "840  Understanding User Responses to Information Te...   \n",
      "841  Understanding User Responses to Information Te...   \n",
      "842  Understanding User Responses to Information Te...   \n",
      "843  Understanding User Responses to Information Te...   \n",
      "844  Understanding User Responses to Information Te...   \n",
      "\n",
      "                                             paragraph  \n",
      "773  UNDERSTANDING USER RESPONSES TO INFORMATION TE...  \n",
      "774  This paper defines user adaptation as the cogn...  \n",
      "833  Bank B's assets are worth $69 billion. It oper...  \n",
      "834  Reach was developed in-house and comprises man...  \n",
      "835  Our study examined the relationships among the...  \n",
      "836  As shown in Table 2, nine semi-structured inte...  \n",
      "837  an account manager's job through interviews wi...  \n",
      "838  The second step consisted of studying the adap...  \n",
      "839  The interviews with the six account managers a...  \n",
      "780  Individuals cope with disruptions by using two...  \n",
      "840  The unit of analysis of the model is the adapt...  \n",
      "841  Coding was done in two phases. First, the data...  \n",
      "842  The second step in the data analysis was the c...  \n",
      "843  The reactions and responses of account manager...  \n",
      "844  Link was perceived by most account managers as...  \n"
     ]
    }
   ],
   "source": [
    "print(merged_df.sort_values(by='para_id').head(15))"
   ]
  },
  {
   "cell_type": "code",
   "execution_count": 12,
   "metadata": {},
   "outputs": [],
   "source": [
    "with duckdb.connect(database=db_path, read_only=True) as conn:\n",
    "    query = '''SELECT para_id, ent_id, level_3, FROM entities\n",
    "                JOIN papers ON entities.article_id = papers.article_id\n",
    "                WHERE title IN (\n",
    "                'Technology Adaptation: The Case of a Computer-Supported Inter-organizational Virtual Team',\n",
    "                'How Do Suppliers Benefit from Information Technology Use in Supply Chain Relationships?',\n",
    "                'A Multilevel Model of Resistance to Information Technology Implementation',\n",
    "                'Understanding User Responses to Information Technology: A Coping Model of User Adaptation',\n",
    "                'A Comprehensive Conceputalization of the Post-Adoptive Behaviors Associated with IT-Enabled Work Systems',\n",
    "                'Information Technology and the Performance of the Customer Service Process: A Resource-Based Analysis',\n",
    "                'Toward a Deeper Understanding of System Usage in Organizations: A Multilevel Perspective',\n",
    "                'How Habit Limits the Predictive Power of Intention: The Case of Information Systems Continuance',\n",
    "                'Predicting Different Conceptualizations of System Use: The Competing Roles of Behavioral Intention, Facilitating Conditions, and Behavioral Expectation',\n",
    "                'The Integrative Framework of Technology Use: An Extension and Test',\n",
    "                'Why Break the Habit of a Lifetime? Rethinking the Roles of Intention, Habit, and Emotion in Continuing Information Technology Use',\n",
    "                'An Alternative to Methodological Individualism: A Non-Reductionist Approach to Studying Technology Adoption by Groups',\n",
    "                'Capturing Bottom-Up Information Technology Use Processes: A Complex Adaptive Systems Model',\n",
    "                'Understanding User Revisions When Using Information System Features: Adaptive System Use and Triggers',\n",
    "                'Interfirm IT Capability Profiles and Communications for Cocreating Relational Value: Evidence from the Logistics Industry',\n",
    "                'A Dramaturgical Model of the Production of Performance Data',\n",
    "                'The Embeddedness of Information Systems Habits in Organizational and Individual Level Routines: Development and Disruption',\n",
    "                'When Does Technology Use Enable Network Change in Organizations? A Comparative Study of Feature Use and Shared Affordances',\n",
    "                'Nature and Nurture: The Impact of Automaticity and the Structuration of Communication on Virtual Team Behavior and Performance',\n",
    "                'An Investigation of Information Systems Use Patterns: Technological Events as Triggers, the Effect of Time, and Consequences for Performance',\n",
    "                'Toward Generalizable Sociomaterial Inquiry: A Computational Approach for Zooming In and Out of Sociomaterial Routines',\n",
    "                'Coping with Information Technology: Mixed Emotions, Vacillation, and Nonconforming Use Patterns',\n",
    "                'Information Technology Use as a Learning Mechanism: The Impact of IT Use on Knowledge Transfer Effectiveness, Absorptive Capacity, and Franchisee Performance',\n",
    "                'ICT, Intermediaries, and the Transformation of Gendered Power Structures',\n",
    "                'Multiplex Appropriation in Complex Systems Implementation: The Case of Brazil''s Correspondent Banking System',\n",
    "                'Revisiting Group-Based Technology Adoption as a Dynamic Process: The Role of Changing Attitude-Rationale Configurations',\n",
    "                'Capturing the Complexity of Malleable IT Use: Adaptive Structuration Theory for Individuals',\n",
    "                'A Temporally Situated Self-Agency Theory of Information Technology Reinvention'\n",
    "                );'''\n",
    "    df_entities= conn.execute(query).fetchdf()"
   ]
  },
  {
   "cell_type": "code",
   "execution_count": 13,
   "metadata": {},
   "outputs": [
    {
     "name": "stdout",
     "output_type": "stream",
     "text": [
      "  para_id                         ent_id        level_3\n",
      "0  1033_0                  IS technology  IS technology\n",
      "1  1033_1                  IS technology  IS technology\n",
      "2  1033_1              theoretical model          model\n",
      "3  1033_1                  IS technology  IS technology\n",
      "4  1033_1  theory of bounded rationality   named theory\n"
     ]
    }
   ],
   "source": [
    "print(df_entities.head())"
   ]
  },
  {
   "cell_type": "code",
   "execution_count": 14,
   "metadata": {},
   "outputs": [],
   "source": [
    "df_entities = df_entities.groupby('para_id').agg({\n",
    "    'ent_id': lambda x: ', '.join(sorted(set(x))),\n",
    "    'level_3': lambda x: ', '.join(sorted(set(x)))\n",
    "}).reset_index()"
   ]
  },
  {
   "cell_type": "code",
   "execution_count": 15,
   "metadata": {},
   "outputs": [
    {
     "name": "stdout",
     "output_type": "stream",
     "text": [
      "    para_id                                             ent_id  \\\n",
      "0    1033_0                                      IS technology   \n",
      "1    1033_1  IS technology, United States, individual level...   \n",
      "2  1033_100                                   banking industry   \n",
      "3  1033_101  banking industry, database system, individual ...   \n",
      "4  1033_102  banking industry, database system, electronic ...   \n",
      "\n",
      "                                             level_3  \n",
      "0                                      IS technology  \n",
      "1  IS technology, IS topic, geographic names, lev...  \n",
      "2                                    economic sector  \n",
      "3       IS technology, economic sector, study object  \n",
      "4    IS technology, economic sector, research method  \n"
     ]
    }
   ],
   "source": [
    "print(df_entities.head())"
   ]
  },
  {
   "cell_type": "code",
   "execution_count": 16,
   "metadata": {},
   "outputs": [],
   "source": [
    "merged_df = merged_df.merge(df_entities, on=['para_id'])"
   ]
  },
  {
   "cell_type": "code",
   "execution_count": 17,
   "metadata": {},
   "outputs": [
    {
     "name": "stdout",
     "output_type": "stream",
     "text": [
      "  para_id last_section_title  \\\n",
      "0   926_0               None   \n",
      "1   926_1           Abstract   \n",
      "2   926_3     Introduction 1   \n",
      "3   926_4     Introduction 1   \n",
      "4   926_5     Introduction 1   \n",
      "\n",
      "                                               title  \\\n",
      "0  Nature and Nurture: The Impact of Automaticity...   \n",
      "1  Nature and Nurture: The Impact of Automaticity...   \n",
      "2  Nature and Nurture: The Impact of Automaticity...   \n",
      "3  Nature and Nurture: The Impact of Automaticity...   \n",
      "4  Nature and Nurture: The Impact of Automaticity...   \n",
      "\n",
      "                                           paragraph  \\\n",
      "0  NATURE AND NURTURE: THE IMPACT OF AUTOMATICITY...   \n",
      "1  Much prior research on virtual teams has exami...   \n",
      "2  Prior research has argued-and demonstrated emp...   \n",
      "3  In this paper, we argue that nurture has an eq...   \n",
      "4  Genre rules are like many other social structu...   \n",
      "\n",
      "                                              ent_id  \\\n",
      "0       IT supported collaboration, virtual teamwork   \n",
      "1  IT supported collaboration, communication serv...   \n",
      "2  communication service infrastructure, prior st...   \n",
      "3               communication service infrastructure   \n",
      "4  Guinea, communication service infrastructure, ...   \n",
      "\n",
      "                                             level_3  \n",
      "0                            IS technology, IS topic  \n",
      "1  IS technology, IS topic, named theory, researc...  \n",
      "2        IS technology, named theory, research stage  \n",
      "3                                      IS technology  \n",
      "4          IS technology, IS topic, geographic names  \n"
     ]
    }
   ],
   "source": [
    "print(merged_df.head())"
   ]
  },
  {
   "cell_type": "code",
   "execution_count": 18,
   "metadata": {},
   "outputs": [
    {
     "name": "stdout",
     "output_type": "stream",
     "text": [
      "(1829, 6)\n"
     ]
    }
   ],
   "source": [
    "print(merged_df.shape)"
   ]
  },
  {
   "cell_type": "code",
   "execution_count": 36,
   "metadata": {},
   "outputs": [],
   "source": [
    "merged_df = merged_df.rename(columns={'title':'Title of the article', 'last_section_title': 'Title of the section', 'paragraph': 'Paragraph', 'ent_id': 'Entity from text', 'level_3': 'Entity more general'})"
   ]
  },
  {
   "cell_type": "code",
   "execution_count": 19,
   "metadata": {},
   "outputs": [],
   "source": [
    "merged_df = merged_df[['para_id','title', 'last_section_title', 'paragraph', 'ent_id', 'level_3']]"
   ]
  },
  {
   "cell_type": "code",
   "execution_count": 20,
   "metadata": {},
   "outputs": [],
   "source": [
    "null_counts = merged_df.isnull().sum()"
   ]
  },
  {
   "cell_type": "code",
   "execution_count": 21,
   "metadata": {},
   "outputs": [
    {
     "name": "stdout",
     "output_type": "stream",
     "text": [
      "para_id                0\n",
      "title                  0\n",
      "last_section_title    22\n",
      "paragraph              0\n",
      "ent_id                 0\n",
      "level_3                0\n",
      "dtype: int64\n"
     ]
    }
   ],
   "source": [
    "print(null_counts)"
   ]
  },
  {
   "cell_type": "code",
   "execution_count": 22,
   "metadata": {},
   "outputs": [],
   "source": [
    "merged_df = merged_df.fillna('No section information')"
   ]
  },
  {
   "cell_type": "code",
   "execution_count": 23,
   "metadata": {},
   "outputs": [],
   "source": [
    "null_counts = merged_df.isnull().sum()"
   ]
  },
  {
   "cell_type": "code",
   "execution_count": 24,
   "metadata": {},
   "outputs": [
    {
     "name": "stdout",
     "output_type": "stream",
     "text": [
      "para_id               0\n",
      "title                 0\n",
      "last_section_title    0\n",
      "paragraph             0\n",
      "ent_id                0\n",
      "level_3               0\n",
      "dtype: int64\n"
     ]
    }
   ],
   "source": [
    "print(null_counts)"
   ]
  },
  {
   "cell_type": "code",
   "execution_count": 25,
   "metadata": {},
   "outputs": [],
   "source": [
    "def concatenate_with_headers(df):\n",
    "    concatenated_rows = []\n",
    "    for index, row in df.iterrows():\n",
    "        concatenated_row = \" \".join([f\"{col}: {row[col]}\" for col in df.columns])\n",
    "        concatenated_rows.append(concatenated_row)\n",
    "    return concatenated_rows"
   ]
  },
  {
   "cell_type": "code",
   "execution_count": 27,
   "metadata": {},
   "outputs": [],
   "source": [
    "documents2 = [\n",
    "    Document(\n",
    "        page_content=row['paragraph'], \n",
    "        metadata={\n",
    "            'para_id': row['para_id'],\n",
    "            'title': row['title'],\n",
    "            'last_section_title': row['last_section_title'],\n",
    "            'ent_id': row['ent_id'],\n",
    "            'level_3': row['level_3']\n",
    "        }\n",
    "    )\n",
    "    for _, row in merged_df.iterrows()\n",
    "]"
   ]
  },
  {
   "cell_type": "code",
   "execution_count": 28,
   "metadata": {},
   "outputs": [
    {
     "name": "stdout",
     "output_type": "stream",
     "text": [
      "Page Content: NATURE AND NURTURE: THE IMPACT OF AUTOMATICITY AND THE STRUCTURATION OF COMMUNICATION ON VIRTUAL TEAM BEHAVIOR AND PERFORMANCE \n",
      "Metadata: {'para_id': '926_0', 'title': 'Nature and Nurture: The Impact of Automaticity and the Structuration of Communication on Virtual Team Behavior and Performance', 'last_section_title': 'No section information', 'ent_id': 'IT supported collaboration, virtual teamwork', 'level_3': 'IS technology, IS topic'}\n",
      "Page Content: Much prior research on virtual teams has examined the impact of the features and capabilities of different communication tools (the nature of communication) on team performance. In this paper, we examine how the social structures (i.e., genre rules) that emerge around different communication tools (the nurture of communication) can be as important in influencing performance. During habitual use situations, team members enact genre rules associated with communication tools without conscious thought via automaticity. These genre rules influence how teams interact and ultimately how well they perform. We conducted an experimental study to examine the impact of different genre rules that have developed for two communication tools: instant messenger and discussion forum. Our results show that in habitual use situations, these tools triggered different genre rules with different behaviors, which in turn resulted in significantly different decision quality. We used heightened time pressure as a discrepant event to interrupt the automatic enactment of habitual genre rules and found that users adopted similar behaviors for both tools, which resulted in no significant differences in decision quality. These findings suggest that the automatic enactment of genre rules for a communication tool may have as powerful an effect on behavior and performance as the actual features of the tool itself. We believe that our results, taken together with past research showing the effects of social structures on communication, call for the expansion of task-technology fit theories to include the role of social structures in explaining the use of and performance from communication tools. \n",
      "Metadata: {'para_id': '926_1', 'title': 'Nature and Nurture: The Impact of Automaticity and the Structuration of Communication on Virtual Team Behavior and Performance', 'last_section_title': 'Abstract', 'ent_id': 'IT supported collaboration, communication service infrastructure, decision quality, experiment, no statistical significance, online chat, prior study, social media, team productivity, theory of task technology fit, virtual teamwork', 'level_3': 'IS technology, IS topic, named theory, research method, research stage, statistical metric'}\n",
      "Page Content: Prior research has argued-and demonstrated empiricallythat the nature of a communication technology (i.e., its innate features and capabilities) influences both how the tool is used, and the type of performance that ensues from its use (Dennis and Wixom 2001-02;Fjermested and Hiltz 1998-99). That is, the task-technology fit of a communication technology not only matters, but has a substantial influence on the processes and outcomes of communication (Zigurs and Buckland 1998) . Past research has also shown that teams can use the innate features of technologies in different ways that are faithful or unfaithful to their intent (DeSanctis and Pool 1994) and that the way a tool is used can significantly affect behavior and performance (Dennis et al. 2001) . \n",
      "Metadata: {'para_id': '926_3', 'title': 'Nature and Nurture: The Impact of Automaticity and the Structuration of Communication on Virtual Team Behavior and Performance', 'last_section_title': 'Introduction 1', 'ent_id': 'communication service infrastructure, prior study, theory of task technology fit', 'level_3': 'IS technology, named theory, research stage'}\n",
      "Page Content: In this paper, we argue that nurture has an equally important impact on the processes and outcomes of communication. By nurture, we mean the social structures for using a communication technology that are habitually enacted, usually without a conscious decision (i.e., the genre rules). Genre rules are the social structures that guide the form and substance of communication (Orlikowski and Yates 1994; Yates and Orlikowski 1992) . Genre rules develop over time from repeated use of a communication tool and are typically based on the commonly occurring habitual patterns of use that emerge (Erickson 1999) . Genre rules are influenced by the capabilities of the tool itself and usually emerge from repeated use (Karjalainen and Salminen 2000) , although they can develop through formal guidance (Thomas and Bostrom 2010b; Yates et al. 1999) . Genre rules are usually enacted without a conscious decision (they are akin to a habit), unlike the deliberate appropriation processes that occur during the adoption of new technologies (DeSanctis and Poole 1994) . \n",
      "Metadata: {'para_id': '926_4', 'title': 'Nature and Nurture: The Impact of Automaticity and the Structuration of Communication on Virtual Team Behavior and Performance', 'last_section_title': 'Introduction 1', 'ent_id': 'communication service infrastructure', 'level_3': 'IS technology'}\n",
      "Page Content: Genre rules are like many other social structures in that they both enable and constrain future behavior, and evolve over time (Giddens 1984) . The genre rules that have grown from communication tool use exhibit a powerful impact on the processes of communication, above and beyond the innate nature of the communication tool itself. Past research has shown that genre rules influence behavior (e.g., Köhler et al. 2012; Yates and Orlikowski 2002; Yates et al. 1999 ), but we are unaware of any research that has shown that genre rules influence the outcomes of team work. Thus, one key question that this paper addresses is: Does the use of different genre rules lead to different outcomes? Technology use has traditionally been considered as being based on rational, intentional choices about behavior (Ortiz de Guinea and Markus 2009); however, in recent years, researchers have come to realize that much of human behavior, especially habitual behavior (such as use of a familiar technology), is performed without conscious thought (Jasperson et al. 2005; Kim et al. 2005; Limayem et al. 2007; Ortiz de Guinea and Markus 2009 ). Instead, when users encounter a familiar situation, they enact the social structures they have used in the past, automatically and without thought (Bargh and Morsella 2009; Kim et al. 2005; Ortiz de Guinea and Markus 2009) . \n",
      "Metadata: {'para_id': '926_5', 'title': 'Nature and Nurture: The Impact of Automaticity and the Structuration of Communication on Virtual Team Behavior and Performance', 'last_section_title': 'Introduction 1', 'ent_id': 'Guinea, communication service infrastructure, information system use', 'level_3': 'IS technology, IS topic, geographic names'}\n"
     ]
    }
   ],
   "source": [
    "for doc in documents2[:5]:\n",
    "    print(\"Page Content:\", doc.page_content)\n",
    "    print(\"Metadata:\", doc.metadata)"
   ]
  },
  {
   "cell_type": "code",
   "execution_count": 29,
   "metadata": {},
   "outputs": [],
   "source": [
    "persist_directory2 = '../RAG_multiple_vector_stores/paragraphs_chroma_db_MISQ'"
   ]
  },
  {
   "cell_type": "code",
   "execution_count": 30,
   "metadata": {},
   "outputs": [],
   "source": [
    "vectordb_sentences = Chroma.from_documents(documents=documents2, \n",
    "                                 embedding=embedding_model,\n",
    "                                 persist_directory=persist_directory2)"
   ]
  }
 ],
 "metadata": {
  "kernelspec": {
   "display_name": "Python 3",
   "language": "python",
   "name": "python3"
  },
  "language_info": {
   "codemirror_mode": {
    "name": "ipython",
    "version": 3
   },
   "file_extension": ".py",
   "mimetype": "text/x-python",
   "name": "python",
   "nbconvert_exporter": "python",
   "pygments_lexer": "ipython3",
   "version": "3.11.6"
  }
 },
 "nbformat": 4,
 "nbformat_minor": 2
}
