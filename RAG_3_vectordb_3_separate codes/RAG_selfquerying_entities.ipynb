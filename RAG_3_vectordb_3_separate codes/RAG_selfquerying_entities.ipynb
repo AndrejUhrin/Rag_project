{
 "cells": [
  {
   "cell_type": "code",
   "execution_count": 1,
   "metadata": {},
   "outputs": [],
   "source": [
    "import os\n",
    "from dotenv import load_dotenv\n",
    "from langchain.vectorstores import Chroma\n",
    "from langchain.embeddings import HuggingFaceEmbeddings\n",
    "from langchain_groq import ChatGroq\n",
    "from langchain.chains import RetrievalQA\n",
    "from langchain.prompts import PromptTemplate\n",
    "from langchain.chains.query_constructor.base import AttributeInfo\n",
    "from langchain.retrievers.self_query.base import SelfQueryRetriever\n",
    "from langchain.schema import Document, SystemMessage, HumanMessage"
   ]
  },
  {
   "cell_type": "code",
   "execution_count": 2,
   "metadata": {},
   "outputs": [],
   "source": [
    "load_dotenv()\n",
    "api_key = os.getenv('GROQ_API_KEY')"
   ]
  },
  {
   "cell_type": "code",
   "execution_count": 3,
   "metadata": {},
   "outputs": [],
   "source": [
    "chat = ChatGroq(temperature=0, groq_api_key=api_key, model_name=\"llama3-70b-8192\")"
   ]
  },
  {
   "cell_type": "code",
   "execution_count": 4,
   "metadata": {},
   "outputs": [
    {
     "name": "stderr",
     "output_type": "stream",
     "text": [
      "c:\\Users\\andyu\\AppData\\Local\\Programs\\Python\\Python311\\Lib\\site-packages\\sentence_transformers\\cross_encoder\\CrossEncoder.py:11: TqdmWarning: IProgress not found. Please update jupyter and ipywidgets. See https://ipywidgets.readthedocs.io/en/stable/user_install.html\n",
      "  from tqdm.autonotebook import tqdm, trange\n",
      "comet_ml is installed but `COMET_API_KEY` is not set.\n"
     ]
    }
   ],
   "source": [
    "embedding_model = HuggingFaceEmbeddings(model_name='sentence-transformers/paraphrase-MiniLM-L6-v2')"
   ]
  },
  {
   "cell_type": "code",
   "execution_count": 5,
   "metadata": {},
   "outputs": [],
   "source": [
    "persist_directory = \"../RAG_3_vectordb_3_separate codes/entities_chroma_db\""
   ]
  },
  {
   "cell_type": "code",
   "execution_count": 6,
   "metadata": {},
   "outputs": [
    {
     "name": "stdout",
     "output_type": "stream",
     "text": [
      "Persist directory exists.\n"
     ]
    }
   ],
   "source": [
    "if not os.path.exists(persist_directory):\n",
    "    print(\"Persist directory does not exist.\")\n",
    "else:\n",
    "    print(\"Persist directory exists.\")"
   ]
  },
  {
   "cell_type": "code",
   "execution_count": 7,
   "metadata": {},
   "outputs": [],
   "source": [
    "vectorstore = Chroma(persist_directory=persist_directory, embedding_function=embedding_model)"
   ]
  },
  {
   "cell_type": "code",
   "execution_count": 8,
   "metadata": {},
   "outputs": [],
   "source": [
    "metadata_field_info = [\n",
    "    AttributeInfo(\n",
    "        name=\"year\",\n",
    "        description=\"Year the paper was published\",\n",
    "        type=\"integer\",\n",
    "    ),\n",
    "    AttributeInfo(\n",
    "        name=\"title\",\n",
    "        description=\"Title of the paper\",\n",
    "        type=\"string\",\n",
    "    ),\n",
    "    AttributeInfo(\n",
    "        name=\"last_section_title\",\n",
    "        description=\"Title section is associated with paragraph\",\n",
    "        type=\"string or list[string]\",\n",
    "    )\n",
    "]\n",
    "\n",
    "document_content_description = \"Provides context of each paragraph within the article\""
   ]
  },
  {
   "cell_type": "code",
   "execution_count": 9,
   "metadata": {},
   "outputs": [],
   "source": [
    "retriever = SelfQueryRetriever.from_llm(\n",
    "    llm=chat,\n",
    "    vectorstore=vectorstore,\n",
    "    document_contents=document_content_description,\n",
    "    metadata_field_info=metadata_field_info,\n",
    "    verbose=True\n",
    ")"
   ]
  },
  {
   "cell_type": "code",
   "execution_count": 10,
   "metadata": {},
   "outputs": [
    {
     "name": "stderr",
     "output_type": "stream",
     "text": [
      "c:\\Users\\andyu\\AppData\\Local\\Programs\\Python\\Python311\\Lib\\site-packages\\langchain_core\\_api\\deprecation.py:119: LangChainDeprecationWarning: The method `BaseRetriever.get_relevant_documents` was deprecated in langchain-core 0.1.46 and will be removed in 0.3.0. Use invoke instead.\n",
      "  warn_deprecated(\n"
     ]
    },
    {
     "data": {
      "text/plain": [
       "[Document(page_content='Sentence: \" Certainly it \\'s worthwhile \" ( onshore manager , Team 1 ) . Entity: onshoring Label of entity: TOPIC', metadata={'ent_id': 'onshoring', 'label': 'TOPIC', 'title': 'Revisiting Group-Based Technology Adoption as a Dynamic Process: The Role of Changing Attitude-Rationale Configurations', 'year': 2016}),\n",
       " Document(page_content='Sentence: a lot to show bits of things broken on the screen \" ( onshore engineer , Team 3 ) . \\n Entity: onshoring Label of entity: TOPIC', metadata={'ent_id': 'onshoring', 'label': 'TOPIC', 'title': 'Revisiting Group-Based Technology Adoption as a Dynamic Process: The Role of Changing Attitude-Rationale Configurations', 'year': 2016}),\n",
       " Document(page_content='Sentence: \" The concept is very , very good . There \\'s no doubt about that \" ( onshore engineer , Team 2 ) . Entity: onshoring Label of entity: TOPIC', metadata={'ent_id': 'onshoring', 'label': 'TOPIC', 'title': 'Revisiting Group-Based Technology Adoption as a Dynamic Process: The Role of Changing Attitude-Rationale Configurations', 'year': 2016}),\n",
       " Document(page_content='Sentence: In the onshore subgroup , an intensive information campaign with workshops , exhibitions , and personal consultations had created awareness and highly positive expectations based on the rationale that the new information and communication technologies would reduce collaboration barriers and thus improve performance . Entity: onshoring Label of entity: TOPIC', metadata={'ent_id': 'onshoring', 'label': 'TOPIC', 'title': 'Revisiting Group-Based Technology Adoption as a Dynamic Process: The Role of Changing Attitude-Rationale Configurations', 'year': 2016})]"
      ]
     },
     "execution_count": 10,
     "metadata": {},
     "output_type": "execute_result"
    }
   ],
   "source": [
    "query = \"How many articles were published in 2016\"\n",
    "retriever.get_relevant_documents(query)"
   ]
  },
  {
   "cell_type": "code",
   "execution_count": 31,
   "metadata": {},
   "outputs": [],
   "source": [
    "custom_prompt_template = \"\"\"Use the following pieces of information to answer the user's question. Always answear the question as if you were a human and answear in full sentance. During your answear be really specific. If you don't know the answer, just say that you don't know, don't try to make up an answer.\n",
    "\n",
    "\n",
    "\n",
    "Context: {context}\n",
    "Question: {question}\n",
    "\n",
    "Only return the helpful answer below and nothing else.\n",
    "Helpful answer:\n",
    "\"\"\""
   ]
  },
  {
   "cell_type": "code",
   "execution_count": 32,
   "metadata": {},
   "outputs": [],
   "source": [
    "def set_custom_prompt():\n",
    "    \"\"\"\n",
    "    Prompt template for QA retrieval for each vectorstore\n",
    "    \"\"\"\n",
    "    prompt = PromptTemplate(template=custom_prompt_template,\n",
    "                            input_variables=['context', 'question'])\n",
    "    return prompt\n",
    "\n",
    "prompt = set_custom_prompt()"
   ]
  },
  {
   "cell_type": "code",
   "execution_count": 33,
   "metadata": {},
   "outputs": [],
   "source": [
    "qa = RetrievalQA.from_chain_type(\n",
    "    llm=chat,\n",
    "    chain_type='stuff',\n",
    "    retriever=retriever,\n",
    "    return_source_documents=True,\n",
    "    chain_type_kwargs={'prompt': prompt}\n",
    ")"
   ]
  },
  {
   "cell_type": "code",
   "execution_count": 34,
   "metadata": {},
   "outputs": [
    {
     "name": "stdout",
     "output_type": "stream",
     "text": [
      "Answer: The study in the article \"A Multilevel Model of Resistance to Information Technology Implementation\" was conducted using a combination of research methods, specifically a longitudinal perspective, case study research, and data analysis method.\n"
     ]
    }
   ],
   "source": [
    "query = \"How was study conduted in article: A Multilevel Model of Resistance to Information Technology Implementation, be very specififc\"\n",
    "result = qa({\"query\": query})\n",
    "print(\"Answer:\", result[\"result\"])"
   ]
  },
  {
   "cell_type": "code",
   "execution_count": 35,
   "metadata": {},
   "outputs": [
    {
     "name": "stdout",
     "output_type": "stream",
     "text": [
      "Answer: The study was conducted using a three-or-more-wave panel study, which is a type of longitudinal research.\n"
     ]
    }
   ],
   "source": [
    "query = \"How was study conduted in article: The Integrative Framework of Technology Use: An Extension and Test.\"\n",
    "result = qa({\"query\": query})\n",
    "print(\"Answer:\", result[\"result\"])"
   ]
  },
  {
   "cell_type": "code",
   "execution_count": 41,
   "metadata": {},
   "outputs": [
    {
     "name": "stdout",
     "output_type": "stream",
     "text": [
      "Answer: Yes, the survey is used in the article as a collection method, specifically a longitudinal survey, to measure behavior over time and track responses from different time periods.\n"
     ]
    }
   ],
   "source": [
    "query = \"Is survey used in article: Predicting Different Conceptualizations of System Use: The Competing Roles of Behavioral Intention, Facilitating Conditions, and Behavioral Expectation\"\n",
    "result = qa({\"query\": query})\n",
    "print(\"Answer:\", result[\"result\"])"
   ]
  },
  {
   "cell_type": "code",
   "execution_count": 42,
   "metadata": {},
   "outputs": [
    {
     "name": "stdout",
     "output_type": "stream",
     "text": [
      "Answer: According to the article, data is analyzed using Partial Least Squares (PLS) regression, specifically with the PLS-Graph software package, version 3, build 1126.\n"
     ]
    }
   ],
   "source": [
    "query = \"How is data analysed in article: Predicting Different Conceptualizations of System Use: The Competing Roles of Behavioral Intention, Facilitating Conditions, and Behavioral Expectation\"\n",
    "result = qa({\"query\": query})\n",
    "print(\"Answer:\", result[\"result\"])"
   ]
  },
  {
   "cell_type": "markdown",
   "metadata": {},
   "source": [
    "Testing part"
   ]
  },
  {
   "cell_type": "code",
   "execution_count": 62,
   "metadata": {},
   "outputs": [
    {
     "name": "stdout",
     "output_type": "stream",
     "text": [
      "Answer: The study was conducted by combining a survey of 70 undergraduate students with an experiment, where the survey and experiment had different samples of participants to avoid influencing the behavior of the experimental participants, and the results were verified using four separate General Linear Model (GLM) analyses in addition to Partial Least Squares (PLS) regression.\n"
     ]
    }
   ],
   "source": [
    "query = \"How was the study conducted in the article: Nature and Nurture: The Impact of Automaticity and the Structuration of Communication on Virtual Team Behavior and Performance.\"\n",
    "result = qa({\"query\": query})\n",
    "print(\"Answer:\", result[\"result\"])"
   ]
  },
  {
   "cell_type": "code",
   "execution_count": 44,
   "metadata": {},
   "outputs": [
    {
     "name": "stdout",
     "output_type": "stream",
     "text": [
      "Answer: The study was conducted by studying the adaptation process of six account managers, three from Bank A and three from Bank B, who were selected to maximize variation in their views and opinions about the systems and to have different usage patterns, following the approach outlined by Miles and Huberman (1994).\n"
     ]
    }
   ],
   "source": [
    "query = \"How was the study conducted in the article: Understanding User Responses to Information Technology: A Coping Model of User Adaptation.\"\n",
    "result = qa({\"query\": query})\n",
    "print(\"Answer:\", result[\"result\"])"
   ]
  },
  {
   "cell_type": "code",
   "execution_count": 45,
   "metadata": {},
   "outputs": [
    {
     "name": "stdout",
     "output_type": "stream",
     "text": [
      "Answer: The study was conducted by having 76 groups of 2 to 5 students use MS Excel to complete a business analysis task.\n"
     ]
    }
   ],
   "source": [
    "query = \"How was the study conducted in the article: Toward a Deeper Understanding of System Usage in Organizations: A Multilevel Perspective.\"\n",
    "result = qa({\"query\": query})\n",
    "print(\"Answer:\", result[\"result\"])"
   ]
  },
  {
   "cell_type": "code",
   "execution_count": 46,
   "metadata": {},
   "outputs": [
    {
     "name": "stdout",
     "output_type": "stream",
     "text": [
      "Answer: According to the information provided, the study was conducted through a thorough literature review, specifically identifying past studies that conducted a theory of planned behavior-based three-wave panel study and reported data in the form of correlations.\n"
     ]
    }
   ],
   "source": [
    "query = \"How was the study conducted in the article: The Integrative Framework of Technology Use: An Extension and Test.\"\n",
    "result = qa({\"query\": query})\n",
    "print(\"Answer:\", result[\"result\"])"
   ]
  },
  {
   "cell_type": "code",
   "execution_count": 47,
   "metadata": {},
   "outputs": [
    {
     "name": "stdout",
     "output_type": "stream",
     "text": [
      "Answer: The study in the article \"A Multilevel Model of Resistance to Information Technology Implementation\" was conducted using a combination of research methods, specifically, a longitudinal perspective, case study research, and data analysis method.\n"
     ]
    }
   ],
   "source": [
    "query = \"How was the study conducted in the article: A Multilevel Model of Resistance to Information Technology Implementation.\"\n",
    "result = qa({\"query\": query})\n",
    "print(\"Answer:\", result[\"result\"])"
   ]
  },
  {
   "cell_type": "code",
   "execution_count": 48,
   "metadata": {},
   "outputs": [
    {
     "name": "stdout",
     "output_type": "stream",
     "text": [
      "Answer: The study was conducted in two stages: the first stage involved analyzing tracking logs to identify patterns of technology use, and the second stage involved using observational data to explain why these patterns existed and what consequences arose from them.\n"
     ]
    }
   ],
   "source": [
    "query = \"How was the study conducted in the article: When Does Technology Use Enable Network Change in Organizations? A Comparative Study of Feature Use and Shared Affordances.\"\n",
    "result = qa({\"query\": query})\n",
    "print(\"Answer:\", result[\"result\"])"
   ]
  },
  {
   "cell_type": "code",
   "execution_count": 49,
   "metadata": {},
   "outputs": [
    {
     "name": "stdout",
     "output_type": "stream",
     "text": [
      "Answer: The study in the article \"How Habit Limits the Predictive Power of Intention: The Case of Information Systems Continuance\" was conducted using a methodology that involved comparing two models, one with and one without the interaction construct, and testing the results using f-statistics, as indicated in Figure 6, which showed that the path coefficients were significant.\n"
     ]
    }
   ],
   "source": [
    "query = \"How was the study conducted in the article: How Habit Limits the Predictive Power of Intention: The Case of Information Systems Continuance.\"\n",
    "result = qa({\"query\": query})\n",
    "print(\"Answer:\", result[\"result\"])"
   ]
  },
  {
   "cell_type": "code",
   "execution_count": 50,
   "metadata": {},
   "outputs": [
    {
     "name": "stdout",
     "output_type": "stream",
     "text": [
      "Answer: The study was conducted using a prospective qualitative research design, which employed process tracing through verbal protocols as the data collection method, allowing researchers to observe users in their interactions with information technologies and identify the specific reinvention subprocess that currently draws their attention.\n"
     ]
    }
   ],
   "source": [
    "query = \"How was the study conducted in the article: A Temporally Situated Self-Agency Theory of Information Technology Reinvention.\"\n",
    "result = qa({\"query\": query})\n",
    "print(\"Answer:\", result[\"result\"])"
   ]
  },
  {
   "cell_type": "code",
   "execution_count": 51,
   "metadata": {},
   "outputs": [
    {
     "name": "stdout",
     "output_type": "stream",
     "text": [
      "Answer: The study was conducted by reading and analyzing the reference literature in psychology that is frequently cited in the IS research, as well as continuing to read in related fields such as neuropsychology, in order to come to different conclusions about the mental and behavioral processes that underlie continuing IT use.\n"
     ]
    }
   ],
   "source": [
    "query = \"How was the study conducted in the article: Why Break the Habit of a Lifetime? Rethinking the Roles of Intention, Habit, and Emotion in Continuing Information Technology Use.\"\n",
    "result = qa({\"query\": query})\n",
    "print(\"Answer:\", result[\"result\"])"
   ]
  },
  {
   "cell_type": "code",
   "execution_count": 52,
   "metadata": {},
   "outputs": [
    {
     "name": "stdout",
     "output_type": "stream",
     "text": [
      "Answer: The study was conducted by randomly assigning participants to one of three experimental conditions: a control group with 42 participants where only expected IT events occurred, a group with 39 participants that included short-term discrepant IT events that could be easily overcome, and a group with 22 participants that included long-term discrepant IT events.\n"
     ]
    }
   ],
   "source": [
    "query = \"How was the study conducted in the article: An Investigation of Information Systems Use Patterns: Technological Events as Triggers, the Effect of Time, and Consequences for Performance.\"\n",
    "result = qa({\"query\": query})\n",
    "print(\"Answer:\", result[\"result\"])"
   ]
  },
  {
   "cell_type": "code",
   "execution_count": 53,
   "metadata": {},
   "outputs": [
    {
     "name": "stdout",
     "output_type": "stream",
     "text": [
      "Answer: According to the article, the study was conducted by having student participants keep a diary of all behaviors performed in their daily lives, which included exercising, newspaper reading, and TV watching, in order to examine their habits and routines.\n"
     ]
    }
   ],
   "source": [
    "query = \"How was the study conducted in the article: The Embeddedness of Information Systems Habits in Organizational and Individual Level Routines: Development and Disruption.\"\n",
    "result = qa({\"query\": query})\n",
    "print(\"Answer:\", result[\"result\"])"
   ]
  },
  {
   "cell_type": "code",
   "execution_count": 54,
   "metadata": {},
   "outputs": [
    {
     "name": "stdout",
     "output_type": "stream",
     "text": [
      "Answer: The study was conducted through an empirical analysis in the context of one specific process in the insurance industry.\n"
     ]
    }
   ],
   "source": [
    "query = \"How was the study conducted in the article: Information Technology and the Performance of the Customer Service Process: A Resource-Based Analysis.\"\n",
    "result = qa({\"query\": query})\n",
    "print(\"Answer:\", result[\"result\"])"
   ]
  },
  {
   "cell_type": "code",
   "execution_count": 55,
   "metadata": {},
   "outputs": [
    {
     "name": "stdout",
     "output_type": "stream",
     "text": [
      "Answer: The study was conducted in a multi-stage process, starting with a pilot study to validate the instruments and clarify the experimental procedures, followed by an empirical test of the Model of Technology Adoption by Groups (TAG), and then a post-hoc analysis of the data, which consisted of 86 groups due to some participants not completing the questionnaire after the training session.\n"
     ]
    }
   ],
   "source": [
    "query = \"How was the study conducted in the article: An Alternative to Methodological Individualism: A Non-Reductionist Approach to Studying Technology Adoption by Groups.\"\n",
    "result = qa({\"query\": query})\n",
    "print(\"Answer:\", result[\"result\"])"
   ]
  },
  {
   "cell_type": "code",
   "execution_count": 56,
   "metadata": {},
   "outputs": [
    {
     "name": "stdout",
     "output_type": "stream",
     "text": [
      "Answer: The study was conducted through a case study approach, where data was collected from multiple sources over time, including samples of data and coding in the form of quotes in the text and as tables in Appendix D. The data collection process involved within-case analyses of three teams, and the steps taken for analysis were explained in the method section, including the presentation of intermediate steps in Appendix C, which showed a summary of events and changes in attitudes toward new technologies and reasons for adoption decisions in the three teams. Additionally, the study used a theoretical model, as shown in Figure 1, to summarize the findings, and the authors allowed the data to inform their personal and theoretical perspectives, rather than imposing their own perspectives onto the data.\n"
     ]
    }
   ],
   "source": [
    "query = \"How was the study conducted in the article: Revisiting Group-Based Technology Adoption as a Dynamic Process: The Role of Changing Attitude-Rationale Configurations.\"\n",
    "result = qa({\"query\": query})\n",
    "print(\"Answer:\", result[\"result\"])"
   ]
  },
  {
   "cell_type": "code",
   "execution_count": 57,
   "metadata": {},
   "outputs": [
    {
     "name": "stdout",
     "output_type": "stream",
     "text": [
      "Answer: The study was conducted by first introducing the theoretical foundation for the study, followed by an explanation of the research method adopted, which involved collecting additional data in the form of meeting recordings, university-wide memos, e-mails, and informal conversations, including over 17.5 hours of observational data, and examining this data to investigate the two research questions.\n"
     ]
    }
   ],
   "source": [
    "query = \"How was the study conducted in the article: Coping with Information Technology: Mixed Emotions, Vacillation, and Nonconforming Use Patterns.\"\n",
    "result = qa({\"query\": query})\n",
    "print(\"Answer:\", result[\"result\"])"
   ]
  },
  {
   "cell_type": "code",
   "execution_count": 58,
   "metadata": {},
   "outputs": [
    {
     "name": "stdout",
     "output_type": "stream",
     "text": [
      "Answer: The study was conducted by developing survey items and then collecting data through a data collection method, and subsequently, the data was analyzed using Partial Least Squares (PLS) regression analysis to test the research model and competing models that examined the relationship between information system use and outcomes.\n"
     ]
    }
   ],
   "source": [
    "query = \"How was the study conducted in the article: How Do Suppliers Benefit from Information Technology Use in Supply Chain Relationships?\"\n",
    "result = qa({\"query\": query})\n",
    "print(\"Answer:\", result[\"result\"])"
   ]
  },
  {
   "cell_type": "code",
   "execution_count": 59,
   "metadata": {},
   "outputs": [
    {
     "name": "stdout",
     "output_type": "stream",
     "text": [
      "Answer: The study was conducted through a survey administered by StudyResponse, a nonprofit academic service that matches researchers with individuals willing to complete surveys, and a pilot study was conducted to ensure the questionnaire was properly compiled and to assess the reliability of the scales.\n"
     ]
    }
   ],
   "source": [
    "query = \"How was the study conducted in the article: Understanding User Revisions When Using Information System Features: Adaptive System Use and Triggers.\"\n",
    "result = qa({\"query\": query})\n",
    "print(\"Answer:\", result[\"result\"])"
   ]
  },
  {
   "cell_type": "code",
   "execution_count": 60,
   "metadata": {},
   "outputs": [
    {
     "name": "stdout",
     "output_type": "stream",
     "text": [
      "Answer: The study was conducted using a longitudinal research method, which means that it was a long-term study that involved collecting data over a period of time, allowing the researchers to observe and analyze changes and patterns in the behavior of system use.\n"
     ]
    }
   ],
   "source": [
    "query = \"How was the study conducted in the article: Predicting Different Conceptualizations of System Use: The Competing Roles of Behavioral Intention, Facilitating Conditions, and Behavioral Expectation.\"\n",
    "result = qa({\"query\": query})\n",
    "print(\"Answer:\", result[\"result\"])"
   ]
  },
  {
   "cell_type": "code",
   "execution_count": 61,
   "metadata": {},
   "outputs": [
    {
     "name": "stdout",
     "output_type": "stream",
     "text": [
      "Answer: The study was conducted through full-time participant observation at DeskSales during the first five quarters of the unit's existence, as specified in Table 3 which lists the data collection procedures.\n"
     ]
    }
   ],
   "source": [
    "query = \"How was the study conducted in the article: A Dramaturgical Model of the Production of Performance Data.\"\n",
    "result = qa({\"query\": query})\n",
    "print(\"Answer:\", result[\"result\"])"
   ]
  }
 ],
 "metadata": {
  "kernelspec": {
   "display_name": "Python 3",
   "language": "python",
   "name": "python3"
  },
  "language_info": {
   "codemirror_mode": {
    "name": "ipython",
    "version": 3
   },
   "file_extension": ".py",
   "mimetype": "text/x-python",
   "name": "python",
   "nbconvert_exporter": "python",
   "pygments_lexer": "ipython3",
   "version": "3.11.6"
  }
 },
 "nbformat": 4,
 "nbformat_minor": 2
}
