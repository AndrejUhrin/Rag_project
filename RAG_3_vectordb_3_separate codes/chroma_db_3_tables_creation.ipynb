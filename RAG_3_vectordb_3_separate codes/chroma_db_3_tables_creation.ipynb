{
 "cells": [
  {
   "cell_type": "code",
   "execution_count": 1,
   "metadata": {},
   "outputs": [
    {
     "name": "stderr",
     "output_type": "stream",
     "text": [
      "/Library/Frameworks/Python.framework/Versions/3.11/lib/python3.11/site-packages/sentence_transformers/cross_encoder/CrossEncoder.py:11: TqdmExperimentalWarning: Using `tqdm.autonotebook.tqdm` in notebook mode. Use `tqdm.tqdm` instead to force console mode (e.g. in jupyter console)\n",
      "  from tqdm.autonotebook import tqdm, trange\n",
      "2024-07-21 16:49:22.086914: I tensorflow/core/platform/cpu_feature_guard.cc:210] This TensorFlow binary is optimized to use available CPU instructions in performance-critical operations.\n",
      "To enable the following instructions: AVX2 FMA, in other operations, rebuild TensorFlow with the appropriate compiler flags.\n",
      "comet_ml is installed but `COMET_API_KEY` is not set.\n"
     ]
    }
   ],
   "source": [
    "import os\n",
    "import duckdb\n",
    "from sentence_transformers import SentenceTransformer\n",
    "from langchain.embeddings import HuggingFaceInstructEmbeddings\n",
    "from langchain.embeddings import HuggingFaceEmbeddings\n",
    "from langchain.vectorstores import Chroma\n",
    "from langchain.schema import Document"
   ]
  },
  {
   "cell_type": "markdown",
   "metadata": {},
   "source": [
    "Connecting to DuckDB and setting which columns do we use for the vector database. We have decided to only use papers from MISQ journal that are mentioned in the article \"MISQ Research Curation on IS Use\""
   ]
  },
  {
   "cell_type": "code",
   "execution_count": 2,
   "metadata": {},
   "outputs": [],
   "source": [
    "db_path = '../duck_db/isrecon_AIS11.duckdb'"
   ]
  },
  {
   "cell_type": "code",
   "execution_count": 3,
   "metadata": {},
   "outputs": [
    {
     "ename": "IOException",
     "evalue": "IO Error: Cannot open database \"/Users/yashill/Documents/2. Semester BIPM/Text, Web and Social Media/Rag_project_3/Rag_project/RAG_3_vectordb_3_separate codes/../duck_db/isrecon_AIS11.duckdb\" in read-only mode: database does not exist",
     "output_type": "error",
     "traceback": [
      "\u001b[0;31m---------------------------------------------------------------------------\u001b[0m",
      "\u001b[0;31mIOException\u001b[0m                               Traceback (most recent call last)",
      "Cell \u001b[0;32mIn[3], line 1\u001b[0m\n\u001b[0;32m----> 1\u001b[0m \u001b[38;5;28;01mwith\u001b[39;00m \u001b[43mduckdb\u001b[49m\u001b[38;5;241;43m.\u001b[39;49m\u001b[43mconnect\u001b[49m\u001b[43m(\u001b[49m\u001b[43mdatabase\u001b[49m\u001b[38;5;241;43m=\u001b[39;49m\u001b[43mdb_path\u001b[49m\u001b[43m,\u001b[49m\u001b[43m \u001b[49m\u001b[43mread_only\u001b[49m\u001b[38;5;241;43m=\u001b[39;49m\u001b[38;5;28;43;01mTrue\u001b[39;49;00m\u001b[43m)\u001b[49m \u001b[38;5;28;01mas\u001b[39;00m conn:\n\u001b[1;32m      2\u001b[0m     query \u001b[38;5;241m=\u001b[39m \u001b[38;5;124m'''\u001b[39m\u001b[38;5;124mSELECT title, authors, year, abstract, keywords, citation_count FROM papers\u001b[39m\n\u001b[1;32m      3\u001b[0m \u001b[38;5;124m    WHERE title IN (\u001b[39m\n\u001b[1;32m      4\u001b[0m \u001b[38;5;124m    \u001b[39m\u001b[38;5;124m'\u001b[39m\u001b[38;5;124mTechnology Adaptation: The Case of a Computer-Supported Inter-organizational Virtual Team\u001b[39m\u001b[38;5;124m'\u001b[39m\u001b[38;5;124m,\u001b[39m\n\u001b[0;32m   (...)\u001b[0m\n\u001b[1;32m     31\u001b[0m \u001b[38;5;124m    \u001b[39m\u001b[38;5;124m'\u001b[39m\u001b[38;5;124mA Temporally Situated Self-Agency Theory of Information Technology Reinvention\u001b[39m\u001b[38;5;124m'\u001b[39m\n\u001b[1;32m     32\u001b[0m \u001b[38;5;124m);\u001b[39m\u001b[38;5;124m'''\u001b[39m\n\u001b[1;32m     33\u001b[0m     df_article \u001b[38;5;241m=\u001b[39m conn\u001b[38;5;241m.\u001b[39mexecute(query)\u001b[38;5;241m.\u001b[39mfetchdf()\n",
      "\u001b[0;31mIOException\u001b[0m: IO Error: Cannot open database \"/Users/yashill/Documents/2. Semester BIPM/Text, Web and Social Media/Rag_project_3/Rag_project/RAG_3_vectordb_3_separate codes/../duck_db/isrecon_AIS11.duckdb\" in read-only mode: database does not exist"
     ]
    }
   ],
   "source": [
    "with duckdb.connect(database=db_path, read_only=True) as conn:\n",
    "    query = '''SELECT title, authors, year, abstract, keywords, citation_count FROM papers\n",
    "    WHERE title IN (\n",
    "    'Technology Adaptation: The Case of a Computer-Supported Inter-organizational Virtual Team',\n",
    "    'How Do Suppliers Benefit from Information Technology Use in Supply Chain Relationships?',\n",
    "    'A Multilevel Model of Resistance to Information Technology Implementation',\n",
    "    'Understanding User Responses to Information Technology: A Coping Model of User Adaptation',\n",
    "    'A Comprehensive Conceputalization of the Post-Adoptive Behaviors Associated with IT-Enabled Work Systems',\n",
    "    'Information Technology and the Performance of the Customer Service Process: A Resource-Based Analysis',\n",
    "    'Toward a Deeper Understanding of System Usage in Organizations: A Multilevel Perspective',\n",
    "    'How Habit Limits the Predictive Power of Intention: The Case of Information Systems Continuance',\n",
    "    'Predicting Different Conceptualizations of System Use: The Competing Roles of Behavioral Intention, Facilitating Conditions, and Behavioral Expectation',\n",
    "    'The Integrative Framework of Technology Use: An Extension and Test',\n",
    "    'Why Break the Habit of a Lifetime? Rethinking the Roles of Intention, Habit, and Emotion in Continuing Information Technology Use',\n",
    "    'An Alternative to Methodological Individualism: A Non-Reductionist Approach to Studying Technology Adoption by Groups',\n",
    "    'Capturing Bottom-Up Information Technology Use Processes: A Complex Adaptive Systems Model',\n",
    "    'Understanding User Revisions When Using Information System Features: Adaptive System Use and Triggers',\n",
    "    'Interfirm IT Capability Profiles and Communications for Cocreating Relational Value: Evidence from the Logistics Industry',\n",
    "    'A Dramaturgical Model of the Production of Performance Data',\n",
    "    'The Embeddedness of Information Systems Habits in Organizational and Individual Level Routines: Development and Disruption',\n",
    "    'When Does Technology Use Enable Network Change in Organizations? A Comparative Study of Feature Use and Shared Affordances',\n",
    "    'Nature and Nurture: The Impact of Automaticity and the Structuration of Communication on Virtual Team Behavior and Performance',\n",
    "    'An Investigation of Information Systems Use Patterns: Technological Events as Triggers, the Effect of Time, and Consequences for Performance',\n",
    "    'Toward Generalizable Sociomaterial Inquiry: A Computational Approach for Zooming In and Out of Sociomaterial Routines',\n",
    "    'Coping with Information Technology: Mixed Emotions, Vacillation, and Nonconforming Use Patterns',\n",
    "    'Information Technology Use as a Learning Mechanism: The Impact of IT Use on Knowledge Transfer Effectiveness, Absorptive Capacity, and Franchisee Performance',\n",
    "    'ICT, Intermediaries, and the Transformation of Gendered Power Structures',\n",
    "    'Multiplex Appropriation in Complex Systems Implementation: The Case of Brazil''s Correspondent Banking System',\n",
    "    'Revisiting Group-Based Technology Adoption as a Dynamic Process: The Role of Changing Attitude-Rationale Configurations',\n",
    "    'Capturing the Complexity of Malleable IT Use: Adaptive Structuration Theory for Individuals',\n",
    "    'A Temporally Situated Self-Agency Theory of Information Technology Reinvention'\n",
    ");'''\n",
    "    df_article = conn.execute(query).fetchdf()"
   ]
  },
  {
   "cell_type": "markdown",
   "metadata": {},
   "source": [
    "Controlling the values in the dataframe"
   ]
  },
  {
   "cell_type": "code",
   "execution_count": null,
   "metadata": {},
   "outputs": [
    {
     "name": "stdout",
     "output_type": "stream",
     "text": [
      "                                               title  \\\n",
      "0  Nature and Nurture: The Impact of Automaticity...   \n",
      "1  Understanding User Responses to Information Te...   \n",
      "2  Toward a Deeper Understanding of System Usage ...   \n",
      "3  The Integrative Framework of Technology Use: A...   \n",
      "4  A Multilevel Model of Resistance to Informatio...   \n",
      "\n",
      "                                      authors  year  \\\n",
      "0        Bartelt, Valerie L.; Dennis, Alan R.  2014   \n",
      "1          Beaudry, Anne; Pinsonneault, Alain  2005   \n",
      "2  Burton-Jones, Andrew; Gallivan, Michael J.  2007   \n",
      "3                                Kim, Sung S.  2009   \n",
      "4           Lapointe, Liette; Rivard, Suzanne  2005   \n",
      "\n",
      "                                            abstract  \\\n",
      "0  Much prior research on virtual teams has exami...   \n",
      "1  This paper defines user adaptation as the cogn...   \n",
      "2  The objective of this paper is to contribute t...   \n",
      "3  The integrative framework of technology use (I...   \n",
      "4  To better explain resistance to information te...   \n",
      "\n",
      "                                            keywords  citation_count  \n",
      "0  Collaboration, virtual teams, genre rules, str...               4  \n",
      "1  Coping theory, user adaptation, IT appropriati...             299  \n",
      "2  System usage, multilevel, construct, configura...               0  \n",
      "3  Longitudinal study, panel model, technology us...              67  \n",
      "4  User resistance, information techno- logy impl...             296  \n"
     ]
    }
   ],
   "source": [
    "print(df_article.head())"
   ]
  },
  {
   "cell_type": "code",
   "execution_count": null,
   "metadata": {},
   "outputs": [
    {
     "name": "stdout",
     "output_type": "stream",
     "text": [
      "(19, 6)\n"
     ]
    }
   ],
   "source": [
    "print(df_article.shape)"
   ]
  },
  {
   "cell_type": "code",
   "execution_count": null,
   "metadata": {},
   "outputs": [],
   "source": [
    "null_counts = df_article.isnull().sum()"
   ]
  },
  {
   "cell_type": "markdown",
   "metadata": {},
   "source": [
    "Null values have to be handled before creating vector database because they are causing error"
   ]
  },
  {
   "cell_type": "code",
   "execution_count": null,
   "metadata": {},
   "outputs": [
    {
     "name": "stdout",
     "output_type": "stream",
     "text": [
      "title             0\n",
      "authors           0\n",
      "year              0\n",
      "abstract          0\n",
      "keywords          0\n",
      "citation_count    0\n",
      "dtype: int64\n"
     ]
    }
   ],
   "source": [
    "print(null_counts)"
   ]
  },
  {
   "cell_type": "markdown",
   "metadata": {},
   "source": [
    "We see that there are no missing values but in different tests we hade some null values so we implement filling of them just in case for the future."
   ]
  },
  {
   "cell_type": "code",
   "execution_count": null,
   "metadata": {},
   "outputs": [],
   "source": [
    "df_article = df_article.fillna('Information not provided in the source DB')"
   ]
  },
  {
   "cell_type": "markdown",
   "metadata": {},
   "source": [
    "In this step we concatenate the columns of the dataframe to create a new column called page content. We do this because we want cannot use tabular data as input to the embeddings model. We need to convert the tabular data into a text format."
   ]
  },
  {
   "cell_type": "markdown",
   "metadata": {},
   "source": [
    "First we create empty list. In this list we will hold the disctionaries.\n",
    "We create this loop that iterates over each row in the dataframe.\n",
    "A the end we append all documents (one document=1 row from Dataframe) intho one list."
   ]
  },
  {
   "cell_type": "code",
   "execution_count": null,
   "metadata": {},
   "outputs": [],
   "source": [
    "def concatenate_with_headers(df):\n",
    "    header_mapping = {\n",
    "        \"authors\": \"Authors\",\n",
    "        \"year\": \"Publication Year\",\n",
    "        \"title\": \"Title\",\n",
    "        \"abstract\": \"Abstract\",\n",
    "        \"keywords\": \"Keywords\",\n",
    "        \"citation_count\": \"Citation Count\"\n",
    "    }\n",
    "\n",
    "    concatenated_rows = []\n",
    "    for index, row in df.iterrows():\n",
    "        concatenated_row = \" \".join([f\"{header_mapping[col]}: {row[col]}\" for col in df.columns])\n",
    "        concatenated_rows.append(concatenated_row)\n",
    "    return concatenated_rows"
   ]
  },
  {
   "cell_type": "code",
   "execution_count": null,
   "metadata": {},
   "outputs": [],
   "source": [
    "documents = [Document(page_content=row) for row in concatenate_with_headers(df_article)]"
   ]
  },
  {
   "cell_type": "code",
   "execution_count": null,
   "metadata": {},
   "outputs": [
    {
     "name": "stdout",
     "output_type": "stream",
     "text": [
      "Title: Nature and Nurture: The Impact of Automaticity and the Structuration of Communication on Virtual Team Behavior and Performance Authors: Bartelt, Valerie L.; Dennis, Alan R. Publication Year: 2014 Abstract: Much prior research on virtual teams has examined the impact of the features and capabilities of different communication tools (the nature of communication) on team performance. In this paper, we examine how the social structures (i.e., genre rules) that emerge around different communication tools (the nurture of communication) can be as important in influencing performance. During habitual use situations, team members enact genre rules associated with communication tools without conscious thought via automaticity. These genre rules influence how teams interact and ultimately how well they perform. We conducted an experimental study to examine the impact of different genre rules that have developed for two communication tools: instant messenger and discussion forum. Our results show that in habitual use situations, these tools triggered different genre rules with different behaviors, which in turn resulted in significantly different decision quality. We used heightened time pressure as a discrepant event to interrupt the automatic enactment of habitual genre rules and found that users adopted similar behaviors for both tools, which resulted in no significant differences in decision quality. These findings suggest that the automatic enactment of genre rules for a communication tool may have as powerful an effect on behavior and performance as the actual features of the tool itself. We believe that our results, taken together with past research showing the effects of social structures on communication, call for the expansion of task-technology fit theories to include the role of social structures in explaining the use of and performance from communication tools. Keywords: Collaboration, virtual teams, genre rules, structuration theory, IM, discussion board, time pressure Citation Count: 4\n",
      "{}\n",
      "Title: Understanding User Responses to Information Technology: A Coping Model of User Adaptation Authors: Beaudry, Anne; Pinsonneault, Alain Publication Year: 2005 Abstract: This paper defines user adaptation as the cognitive and behavioral efforts performed by users to cope with significant information technology events that occur in their work environment. Drawing on coping theory, we posit that users choose different adaptation strategies based on a combination of primary appraisal (i.e., a user's assessment of the expected consequences of an IT event) and secondary appraisal (i.e., a user's assessment of his/her control over the situation). On that basis, we identify four adaptation strategies (benefits maximizing, benefits satisficing, disturbance handling, and self-preservation) which are hypothesized to result in three different individual-level outcomes: restoring emotional stability, minimizing the perceived threats of the technology, and improving user effectiveness and efficiency. A study of the adaptation behaviors of six account managers in two large North American banks provides preliminary support for our model. By explaining adaptation patterns based on users' initial appraisal and subsequent responses to an IT event, our model offers predictive power while retaining an agency view of user adaptation. Also, by focusing on user cognitive and behavioral adaptation responses related to the technology, the work system, and the self, our model accounts for a wide range of user behaviors such as technology appropriation, avoidance, and resistance. Keywords: Coping theory, user adaptation, IT appropriation, individual performance Citation Count: 299\n",
      "{}\n",
      "Title: Toward a Deeper Understanding of System Usage in Organizations: A Multilevel Perspective Authors: Burton-Jones, Andrew; Gallivan, Michael J. Publication Year: 2007 Abstract: The objective of this paper is to contribute to a deeper understanding of system usage in organizations by examining its multilevel nature. Past research on system usage has suffered from a levels bias, with researchers studying system usage at single levels of analysis only (e.g., the individual, group, or organizational level). Although single-level research can be useful, we suggest that studying organizations one level at a time will ultimately lead to an unnatural, incomplete, and very disjointed view of how information systems are used in practice. To redress this situation, we draw on recent advances in multilevel theory to present system usage as a multilevel construct and provide an illustration for what it takes for researchers to study it as such. The multilevel perspective advanced in this article offers rich opportunities for theoretical and empirical insights and suggests a new foundation for in-depth research on the nature of system usage, its emergence and change, and its antecedents and consequences. Keywords: System usage, multilevel, construct, configura- tion, IT impact, longitudinal Citation Count: 0\n",
      "{}\n",
      "Title: The Integrative Framework of Technology Use: An Extension and Test Authors: Kim, Sung S. Publication Year: 2009 Abstract: The integrative framework of technology use (IFTU) posits that to fully explain post-adoption phenomena, four mechanisms--namely, reason-oriented action, sequential updating feedback, and habit--should be taken into account simultaneously in a unified model. Although IFTU sheds light on the four mechanisms underlying technology use, it lacks a coherent theoretical explanation for the underlying force that leads to the four mechanisms. To offer a more generalized and richer description of the four mechanisms, this study extends IFTU by drawing on the process model of memory in cognitive psychology. In addition, based on the extended IFTU paradigm, a three-wave panel model is developed that incorporates not only proximal effects but also distal effects of the four mechanisms on post-adoption phenomena. Three different sets of data (n=195, 160, and 342, respectively) are used to test the proposed model. The results of data analysis show that, as expected, the four mechanisms have proximal effects on subsequent evaluations and behavior. Furthermore, consistent with the memory perspective, the sequential updating and habit mechanisms are found to have distal effects on post-adoption phenomena even after controlling for their proximal effects. Overall, the findings of this study indicate that the memory perspective offers not only a seamless explanation of the four mechanisms underlying technology use but also yields deeper insights that can be validated only through a three-or-more-wave panel study. This research contributes to the literature by demonstrating that the extended IFTU paradigm has the potential to serve as a coherent theoretical framework on post-adoption phenomena in which prior experiences are internalized into memories, which in turn regulate later experiences. Keywords: Longitudinal study, panel model, technology use, continued use, theory of planned behavior (TPB), process model of memory, path analysis Citation Count: 67\n",
      "{}\n",
      "Title: A Multilevel Model of Resistance to Information Technology Implementation Authors: Lapointe, Liette; Rivard, Suzanne Publication Year: 2005 Abstract: To better explain resistance to information technology implementation, we used a multilevel, longitudinal approach. We first assessed extant models of resistance to IT. Using semantic analysis, we identified five basic components of resistance: behaviors, object, subject, threats, and initial conditions. We further examined extant models to (1) carry out a preliminary specification of the nature of the relationships between these components and (2) refine our understanding of the multilevel nature of the phenomenon. Using analytic induction, we examined data from three case studies of clinical information systems implementations in hospital settings, focusing on physicians' resistance behaviors. The resulting mixed-determinants model suggests that group resistance behaviors vary during implementation. When a system is introduced, users in a group will first assess it in terms of the interplay between its features and individual and/or organizational-level initial conditions. They then make projections about the consequences of its use. If expected consequences are threatening, resistance behaviors will result. During implementation, should some trigger occur to either modify or activate an initial condition involving the balance of power between the group and other user groups, it will also modify the object of resistance, from system to system significance. If the relevant initial conditions pertain to the power of the resisting group vis-à-vis the system advocates, the object of resistance will also be modified, from system significance to system advocates. Resistance behaviors will follow if threats are perceived from the interaction between the object of resistance and initial conditions. We also found that the bottom-up process by which group resistance behaviors emerge from individual behaviors is not the same in early versus late implementation. In early implementation, the emergence process is one of compilation, described as a combination of independent, individual behaviors. In later stages of implementation, if group level initial conditions have become active, the emergence process is one of composition, described as the convergence of individual behaviors. Keywords: User resistance, information techno- logy implementation, information system imple- mentation, longitudinal perspective, multilevel ap- proach, resistance behaviors, semantic analysis, case study Citation Count: 296\n",
      "{}\n"
     ]
    }
   ],
   "source": [
    "for doc in documents[:5]:\n",
    "    print(doc.page_content)\n",
    "    print(doc.metadata)"
   ]
  },
  {
   "cell_type": "code",
   "execution_count": null,
   "metadata": {},
   "outputs": [],
   "source": [
    "documents = [\n",
    "    Document(page_content=row_content, metadata=row.to_dict())\n",
    "    for row_content, (_, row) in zip(concatenate_with_headers(df_article), df_article.iterrows())\n",
    "]"
   ]
  },
  {
   "cell_type": "code",
   "execution_count": null,
   "metadata": {},
   "outputs": [
    {
     "name": "stdout",
     "output_type": "stream",
     "text": [
      "Page Content: Title: Nature and Nurture: The Impact of Automaticity and the Structuration of Communication on Virtual Team Behavior and Performance Authors: Bartelt, Valerie L.; Dennis, Alan R. Publication Year: 2014 Abstract: Much prior research on virtual teams has examined the impact of the features and capabilities of different communication tools (the nature of communication) on team performance. In this paper, we examine how the social structures (i.e., genre rules) that emerge around different communication tools (the nurture of communication) can be as important in influencing performance. During habitual use situations, team members enact genre rules associated with communication tools without conscious thought via automaticity. These genre rules influence how teams interact and ultimately how well they perform. We conducted an experimental study to examine the impact of different genre rules that have developed for two communication tools: instant messenger and discussion forum. Our results show that in habitual use situations, these tools triggered different genre rules with different behaviors, which in turn resulted in significantly different decision quality. We used heightened time pressure as a discrepant event to interrupt the automatic enactment of habitual genre rules and found that users adopted similar behaviors for both tools, which resulted in no significant differences in decision quality. These findings suggest that the automatic enactment of genre rules for a communication tool may have as powerful an effect on behavior and performance as the actual features of the tool itself. We believe that our results, taken together with past research showing the effects of social structures on communication, call for the expansion of task-technology fit theories to include the role of social structures in explaining the use of and performance from communication tools. Keywords: Collaboration, virtual teams, genre rules, structuration theory, IM, discussion board, time pressure Citation Count: 4\n",
      "Metadata: {'title': 'Nature and Nurture: The Impact of Automaticity and the Structuration of Communication on Virtual Team Behavior and Performance', 'authors': 'Bartelt, Valerie L.; Dennis, Alan R.', 'year': 2014, 'abstract': 'Much prior research on virtual teams has examined the impact of the features and capabilities of different communication tools (the nature of communication) on team performance. In this paper, we examine how the social structures (i.e., genre rules) that emerge around different communication tools (the nurture of communication) can be as important in influencing performance. During habitual use situations, team members enact genre rules associated with communication tools without conscious thought via automaticity. These genre rules influence how teams interact and ultimately how well they perform. We conducted an experimental study to examine the impact of different genre rules that have developed for two communication tools: instant messenger and discussion forum. Our results show that in habitual use situations, these tools triggered different genre rules with different behaviors, which in turn resulted in significantly different decision quality. We used heightened time pressure as a discrepant event to interrupt the automatic enactment of habitual genre rules and found that users adopted similar behaviors for both tools, which resulted in no significant differences in decision quality. These findings suggest that the automatic enactment of genre rules for a communication tool may have as powerful an effect on behavior and performance as the actual features of the tool itself. We believe that our results, taken together with past research showing the effects of social structures on communication, call for the expansion of task-technology fit theories to include the role of social structures in explaining the use of and performance from communication tools.', 'keywords': 'Collaboration, virtual teams, genre rules, structuration theory, IM, discussion board, time pressure', 'citation_count': 4}\n",
      "Page Content: Title: Understanding User Responses to Information Technology: A Coping Model of User Adaptation Authors: Beaudry, Anne; Pinsonneault, Alain Publication Year: 2005 Abstract: This paper defines user adaptation as the cognitive and behavioral efforts performed by users to cope with significant information technology events that occur in their work environment. Drawing on coping theory, we posit that users choose different adaptation strategies based on a combination of primary appraisal (i.e., a user's assessment of the expected consequences of an IT event) and secondary appraisal (i.e., a user's assessment of his/her control over the situation). On that basis, we identify four adaptation strategies (benefits maximizing, benefits satisficing, disturbance handling, and self-preservation) which are hypothesized to result in three different individual-level outcomes: restoring emotional stability, minimizing the perceived threats of the technology, and improving user effectiveness and efficiency. A study of the adaptation behaviors of six account managers in two large North American banks provides preliminary support for our model. By explaining adaptation patterns based on users' initial appraisal and subsequent responses to an IT event, our model offers predictive power while retaining an agency view of user adaptation. Also, by focusing on user cognitive and behavioral adaptation responses related to the technology, the work system, and the self, our model accounts for a wide range of user behaviors such as technology appropriation, avoidance, and resistance. Keywords: Coping theory, user adaptation, IT appropriation, individual performance Citation Count: 299\n",
      "Metadata: {'title': 'Understanding User Responses to Information Technology: A Coping Model of User Adaptation', 'authors': 'Beaudry, Anne; Pinsonneault, Alain', 'year': 2005, 'abstract': \"This paper defines user adaptation as the cognitive and behavioral efforts performed by users to cope with significant information technology events that occur in their work environment. Drawing on coping theory, we posit that users choose different adaptation strategies based on a combination of primary appraisal (i.e., a user's assessment of the expected consequences of an IT event) and secondary appraisal (i.e., a user's assessment of his/her control over the situation). On that basis, we identify four adaptation strategies (benefits maximizing, benefits satisficing, disturbance handling, and self-preservation) which are hypothesized to result in three different individual-level outcomes: restoring emotional stability, minimizing the perceived threats of the technology, and improving user effectiveness and efficiency. A study of the adaptation behaviors of six account managers in two large North American banks provides preliminary support for our model. By explaining adaptation patterns based on users' initial appraisal and subsequent responses to an IT event, our model offers predictive power while retaining an agency view of user adaptation. Also, by focusing on user cognitive and behavioral adaptation responses related to the technology, the work system, and the self, our model accounts for a wide range of user behaviors such as technology appropriation, avoidance, and resistance.\", 'keywords': 'Coping theory, user adaptation, IT appropriation, individual performance', 'citation_count': 299}\n",
      "Page Content: Title: Toward a Deeper Understanding of System Usage in Organizations: A Multilevel Perspective Authors: Burton-Jones, Andrew; Gallivan, Michael J. Publication Year: 2007 Abstract: The objective of this paper is to contribute to a deeper understanding of system usage in organizations by examining its multilevel nature. Past research on system usage has suffered from a levels bias, with researchers studying system usage at single levels of analysis only (e.g., the individual, group, or organizational level). Although single-level research can be useful, we suggest that studying organizations one level at a time will ultimately lead to an unnatural, incomplete, and very disjointed view of how information systems are used in practice. To redress this situation, we draw on recent advances in multilevel theory to present system usage as a multilevel construct and provide an illustration for what it takes for researchers to study it as such. The multilevel perspective advanced in this article offers rich opportunities for theoretical and empirical insights and suggests a new foundation for in-depth research on the nature of system usage, its emergence and change, and its antecedents and consequences. Keywords: System usage, multilevel, construct, configura- tion, IT impact, longitudinal Citation Count: 0\n",
      "Metadata: {'title': 'Toward a Deeper Understanding of System Usage in Organizations: A Multilevel Perspective', 'authors': 'Burton-Jones, Andrew; Gallivan, Michael J.', 'year': 2007, 'abstract': 'The objective of this paper is to contribute to a deeper understanding of system usage in organizations by examining its multilevel nature. Past research on system usage has suffered from a levels bias, with researchers studying system usage at single levels of analysis only (e.g., the individual, group, or organizational level). Although single-level research can be useful, we suggest that studying organizations one level at a time will ultimately lead to an unnatural, incomplete, and very disjointed view of how information systems are used in practice. To redress this situation, we draw on recent advances in multilevel theory to present system usage as a multilevel construct and provide an illustration for what it takes for researchers to study it as such. The multilevel perspective advanced in this article offers rich opportunities for theoretical and empirical insights and suggests a new foundation for in-depth research on the nature of system usage, its emergence and change, and its antecedents and consequences.', 'keywords': 'System usage, multilevel, construct, configura- tion, IT impact, longitudinal', 'citation_count': 0}\n",
      "Page Content: Title: The Integrative Framework of Technology Use: An Extension and Test Authors: Kim, Sung S. Publication Year: 2009 Abstract: The integrative framework of technology use (IFTU) posits that to fully explain post-adoption phenomena, four mechanisms--namely, reason-oriented action, sequential updating feedback, and habit--should be taken into account simultaneously in a unified model. Although IFTU sheds light on the four mechanisms underlying technology use, it lacks a coherent theoretical explanation for the underlying force that leads to the four mechanisms. To offer a more generalized and richer description of the four mechanisms, this study extends IFTU by drawing on the process model of memory in cognitive psychology. In addition, based on the extended IFTU paradigm, a three-wave panel model is developed that incorporates not only proximal effects but also distal effects of the four mechanisms on post-adoption phenomena. Three different sets of data (n=195, 160, and 342, respectively) are used to test the proposed model. The results of data analysis show that, as expected, the four mechanisms have proximal effects on subsequent evaluations and behavior. Furthermore, consistent with the memory perspective, the sequential updating and habit mechanisms are found to have distal effects on post-adoption phenomena even after controlling for their proximal effects. Overall, the findings of this study indicate that the memory perspective offers not only a seamless explanation of the four mechanisms underlying technology use but also yields deeper insights that can be validated only through a three-or-more-wave panel study. This research contributes to the literature by demonstrating that the extended IFTU paradigm has the potential to serve as a coherent theoretical framework on post-adoption phenomena in which prior experiences are internalized into memories, which in turn regulate later experiences. Keywords: Longitudinal study, panel model, technology use, continued use, theory of planned behavior (TPB), process model of memory, path analysis Citation Count: 67\n",
      "Metadata: {'title': 'The Integrative Framework of Technology Use: An Extension and Test', 'authors': 'Kim, Sung S.', 'year': 2009, 'abstract': 'The integrative framework of technology use (IFTU) posits that to fully explain post-adoption phenomena, four mechanisms--namely, reason-oriented action, sequential updating feedback, and habit--should be taken into account simultaneously in a unified model. Although IFTU sheds light on the four mechanisms underlying technology use, it lacks a coherent theoretical explanation for the underlying force that leads to the four mechanisms. To offer a more generalized and richer description of the four mechanisms, this study extends IFTU by drawing on the process model of memory in cognitive psychology. In addition, based on the extended IFTU paradigm, a three-wave panel model is developed that incorporates not only proximal effects but also distal effects of the four mechanisms on post-adoption phenomena. Three different sets of data (n=195, 160, and 342, respectively) are used to test the proposed model. The results of data analysis show that, as expected, the four mechanisms have proximal effects on subsequent evaluations and behavior. Furthermore, consistent with the memory perspective, the sequential updating and habit mechanisms are found to have distal effects on post-adoption phenomena even after controlling for their proximal effects. Overall, the findings of this study indicate that the memory perspective offers not only a seamless explanation of the four mechanisms underlying technology use but also yields deeper insights that can be validated only through a three-or-more-wave panel study. This research contributes to the literature by demonstrating that the extended IFTU paradigm has the potential to serve as a coherent theoretical framework on post-adoption phenomena in which prior experiences are internalized into memories, which in turn regulate later experiences.', 'keywords': 'Longitudinal study, panel model, technology use, continued use, theory of planned behavior (TPB), process model of memory, path analysis', 'citation_count': 67}\n",
      "Page Content: Title: A Multilevel Model of Resistance to Information Technology Implementation Authors: Lapointe, Liette; Rivard, Suzanne Publication Year: 2005 Abstract: To better explain resistance to information technology implementation, we used a multilevel, longitudinal approach. We first assessed extant models of resistance to IT. Using semantic analysis, we identified five basic components of resistance: behaviors, object, subject, threats, and initial conditions. We further examined extant models to (1) carry out a preliminary specification of the nature of the relationships between these components and (2) refine our understanding of the multilevel nature of the phenomenon. Using analytic induction, we examined data from three case studies of clinical information systems implementations in hospital settings, focusing on physicians' resistance behaviors. The resulting mixed-determinants model suggests that group resistance behaviors vary during implementation. When a system is introduced, users in a group will first assess it in terms of the interplay between its features and individual and/or organizational-level initial conditions. They then make projections about the consequences of its use. If expected consequences are threatening, resistance behaviors will result. During implementation, should some trigger occur to either modify or activate an initial condition involving the balance of power between the group and other user groups, it will also modify the object of resistance, from system to system significance. If the relevant initial conditions pertain to the power of the resisting group vis-à-vis the system advocates, the object of resistance will also be modified, from system significance to system advocates. Resistance behaviors will follow if threats are perceived from the interaction between the object of resistance and initial conditions. We also found that the bottom-up process by which group resistance behaviors emerge from individual behaviors is not the same in early versus late implementation. In early implementation, the emergence process is one of compilation, described as a combination of independent, individual behaviors. In later stages of implementation, if group level initial conditions have become active, the emergence process is one of composition, described as the convergence of individual behaviors. Keywords: User resistance, information techno- logy implementation, information system imple- mentation, longitudinal perspective, multilevel ap- proach, resistance behaviors, semantic analysis, case study Citation Count: 296\n",
      "Metadata: {'title': 'A Multilevel Model of Resistance to Information Technology Implementation', 'authors': 'Lapointe, Liette; Rivard, Suzanne', 'year': 2005, 'abstract': \"To better explain resistance to information technology implementation, we used a multilevel, longitudinal approach. We first assessed extant models of resistance to IT. Using semantic analysis, we identified five basic components of resistance: behaviors, object, subject, threats, and initial conditions. We further examined extant models to (1) carry out a preliminary specification of the nature of the relationships between these components and (2) refine our understanding of the multilevel nature of the phenomenon. Using analytic induction, we examined data from three case studies of clinical information systems implementations in hospital settings, focusing on physicians' resistance behaviors. The resulting mixed-determinants model suggests that group resistance behaviors vary during implementation. When a system is introduced, users in a group will first assess it in terms of the interplay between its features and individual and/or organizational-level initial conditions. They then make projections about the consequences of its use. If expected consequences are threatening, resistance behaviors will result. During implementation, should some trigger occur to either modify or activate an initial condition involving the balance of power between the group and other user groups, it will also modify the object of resistance, from system to system significance. If the relevant initial conditions pertain to the power of the resisting group vis-à-vis the system advocates, the object of resistance will also be modified, from system significance to system advocates. Resistance behaviors will follow if threats are perceived from the interaction between the object of resistance and initial conditions. We also found that the bottom-up process by which group resistance behaviors emerge from individual behaviors is not the same in early versus late implementation. In early implementation, the emergence process is one of compilation, described as a combination of independent, individual behaviors. In later stages of implementation, if group level initial conditions have become active, the emergence process is one of composition, described as the convergence of individual behaviors.\", 'keywords': 'User resistance, information techno- logy implementation, information system imple- mentation, longitudinal perspective, multilevel ap- proach, resistance behaviors, semantic analysis, case study', 'citation_count': 296}\n"
     ]
    }
   ],
   "source": [
    "for doc in documents[:5]:\n",
    "    print(\"Page Content:\", doc.page_content)\n",
    "    print(\"Metadata:\", doc.metadata)"
   ]
  },
  {
   "cell_type": "markdown",
   "metadata": {},
   "source": [
    "Creating a persist directory where the vector database will be stored"
   ]
  },
  {
   "cell_type": "code",
   "execution_count": null,
   "metadata": {},
   "outputs": [],
   "source": [
    "persist_directory = '../RAG_3_vectordb_3_separate codes/article_chroma_db'"
   ]
  },
  {
   "cell_type": "markdown",
   "metadata": {},
   "source": [
    " Here we are creating object with concatenated text (page content) with metadata that is associated to the page content."
   ]
  },
  {
   "cell_type": "markdown",
   "metadata": {},
   "source": [
    "We use sentence transformers model for our embeddings model"
   ]
  },
  {
   "cell_type": "code",
   "execution_count": null,
   "metadata": {},
   "outputs": [],
   "source": [
    "embedding_model = HuggingFaceEmbeddings(model_name='sentence-transformers/paraphrase-MiniLM-L6-v2')"
   ]
  },
  {
   "cell_type": "markdown",
   "metadata": {},
   "source": [
    "In this step we create our vector database where we take doucuments which is the source of information and which will get embedded and stored in the vector database, embedding model which is \"sentence transformes\", and we store this vector database in persist directory for later use. This way the vector database is stored on disk and we can access it later without recreating it from the scratch."
   ]
  },
  {
   "cell_type": "code",
   "execution_count": null,
   "metadata": {},
   "outputs": [],
   "source": [
    "vectordb_articles = Chroma.from_documents(documents=documents, \n",
    "                                 embedding=embedding_model,\n",
    "                                 persist_directory=persist_directory)"
   ]
  },
  {
   "cell_type": "markdown",
   "metadata": {},
   "source": [
    "We take the same steps for sentences table where we have full article separated into sentences --> each row = 1 sentence"
   ]
  },
  {
   "cell_type": "code",
   "execution_count": null,
   "metadata": {},
   "outputs": [],
   "source": [
    "with duckdb.connect(database=db_path, read_only=True) as conn:\n",
    "    query = '''SELECT  title, year, paragraphs.paragraph, sentences.last_section_title   FROM paragraphs\n",
    "                JOIN papers ON paragraphs.article_id = papers.article_id\n",
    "                join sentences on paragraphs.para_id = sentences.para_id\n",
    "                WHERE title IN (\n",
    "                'Technology Adaptation: The Case of a Computer-Supported Inter-organizational Virtual Team',\n",
    "                'How Do Suppliers Benefit from Information Technology Use in Supply Chain Relationships?',\n",
    "                'A Multilevel Model of Resistance to Information Technology Implementation',\n",
    "                'Understanding User Responses to Information Technology: A Coping Model of User Adaptation',\n",
    "                'A Comprehensive Conceputalization of the Post-Adoptive Behaviors Associated with IT-Enabled Work Systems',\n",
    "                'Information Technology and the Performance of the Customer Service Process: A Resource-Based Analysis',\n",
    "                'Toward a Deeper Understanding of System Usage in Organizations: A Multilevel Perspective',\n",
    "                'How Habit Limits the Predictive Power of Intention: The Case of Information Systems Continuance',\n",
    "                'Predicting Different Conceptualizations of System Use: The Competing Roles of Behavioral Intention, Facilitating Conditions, and Behavioral Expectation',\n",
    "                'The Integrative Framework of Technology Use: An Extension and Test',\n",
    "                'Why Break the Habit of a Lifetime? Rethinking the Roles of Intention, Habit, and Emotion in Continuing Information Technology Use',\n",
    "                'An Alternative to Methodological Individualism: A Non-Reductionist Approach to Studying Technology Adoption by Groups',\n",
    "                'Capturing Bottom-Up Information Technology Use Processes: A Complex Adaptive Systems Model',\n",
    "                'Understanding User Revisions When Using Information System Features: Adaptive System Use and Triggers',\n",
    "                'Interfirm IT Capability Profiles and Communications for Cocreating Relational Value: Evidence from the Logistics Industry',\n",
    "                'A Dramaturgical Model of the Production of Performance Data',\n",
    "                'The Embeddedness of Information Systems Habits in Organizational and Individual Level Routines: Development and Disruption',\n",
    "                'When Does Technology Use Enable Network Change in Organizations? A Comparative Study of Feature Use and Shared Affordances',\n",
    "                'Nature and Nurture: The Impact of Automaticity and the Structuration of Communication on Virtual Team Behavior and Performance',\n",
    "                'An Investigation of Information Systems Use Patterns: Technological Events as Triggers, the Effect of Time, and Consequences for Performance',\n",
    "                'Toward Generalizable Sociomaterial Inquiry: A Computational Approach for Zooming In and Out of Sociomaterial Routines',\n",
    "                'Coping with Information Technology: Mixed Emotions, Vacillation, and Nonconforming Use Patterns',\n",
    "                'Information Technology Use as a Learning Mechanism: The Impact of IT Use on Knowledge Transfer Effectiveness, Absorptive Capacity, and Franchisee Performance',\n",
    "                'ICT, Intermediaries, and the Transformation of Gendered Power Structures',\n",
    "                'Multiplex Appropriation in Complex Systems Implementation: The Case of Brazil''s Correspondent Banking System',\n",
    "                'Revisiting Group-Based Technology Adoption as a Dynamic Process: The Role of Changing Attitude-Rationale Configurations',\n",
    "                'Capturing the Complexity of Malleable IT Use: Adaptive Structuration Theory for Individuals',\n",
    "                'A Temporally Situated Self-Agency Theory of Information Technology Reinvention'\n",
    "                );'''\n",
    "    df_paragraphs= conn.execute(query).fetchdf()"
   ]
  },
  {
   "cell_type": "code",
   "execution_count": null,
   "metadata": {},
   "outputs": [
    {
     "name": "stdout",
     "output_type": "stream",
     "text": [
      "                                               title  year  \\\n",
      "0  Nature and Nurture: The Impact of Automaticity...  2014   \n",
      "1  Nature and Nurture: The Impact of Automaticity...  2014   \n",
      "2  Nature and Nurture: The Impact of Automaticity...  2014   \n",
      "3  Nature and Nurture: The Impact of Automaticity...  2014   \n",
      "4  Nature and Nurture: The Impact of Automaticity...  2014   \n",
      "\n",
      "                                           paragraph last_section_title  \n",
      "0  NATURE AND NURTURE: THE IMPACT OF AUTOMATICITY...               None  \n",
      "1  Much prior research on virtual teams has exami...           Abstract  \n",
      "2  Much prior research on virtual teams has exami...           Abstract  \n",
      "3  Much prior research on virtual teams has exami...           Abstract  \n",
      "4  Much prior research on virtual teams has exami...           Abstract  \n"
     ]
    }
   ],
   "source": [
    "print(df_paragraphs.head())"
   ]
  },
  {
   "cell_type": "code",
   "execution_count": null,
   "metadata": {},
   "outputs": [
    {
     "name": "stdout",
     "output_type": "stream",
     "text": [
      "                                                title  year  \\\n",
      "0   Nature and Nurture: The Impact of Automaticity...  2014   \n",
      "1   Nature and Nurture: The Impact of Automaticity...  2014   \n",
      "10  Nature and Nurture: The Impact of Automaticity...  2014   \n",
      "13  Nature and Nurture: The Impact of Automaticity...  2014   \n",
      "19  Nature and Nurture: The Impact of Automaticity...  2014   \n",
      "\n",
      "                                            paragraph last_section_title  \n",
      "0   NATURE AND NURTURE: THE IMPACT OF AUTOMATICITY...               None  \n",
      "1   Much prior research on virtual teams has exami...           Abstract  \n",
      "10  Prior research has argued-and demonstrated emp...     Introduction 1  \n",
      "13  In this paper, we argue that nurture has an eq...     Introduction 1  \n",
      "19  Genre rules are like many other social structu...     Introduction 1  \n"
     ]
    }
   ],
   "source": [
    "df_paragraphs = df_paragraphs.drop_duplicates(subset=['paragraph'])\n",
    "print(df_paragraphs.head())"
   ]
  },
  {
   "cell_type": "code",
   "execution_count": null,
   "metadata": {},
   "outputs": [
    {
     "name": "stdout",
     "output_type": "stream",
     "text": [
      "(2464, 4)\n"
     ]
    }
   ],
   "source": [
    "print(df_paragraphs.shape)"
   ]
  },
  {
   "cell_type": "code",
   "execution_count": null,
   "metadata": {},
   "outputs": [],
   "source": [
    "df_paragraphs = df_paragraphs.fillna('No section information')"
   ]
  },
  {
   "cell_type": "code",
   "execution_count": null,
   "metadata": {},
   "outputs": [],
   "source": [
    "def concatenate_with_headers(df):\n",
    "    header_mapping = {\n",
    "        \"year\": \"Publication Year\",\n",
    "        \"title\": \"Title\",\n",
    "        \"paragraph\": \"Paragraph\",\n",
    "        \"last_section_title\": \"Title of the section\",\n",
    "\n",
    "    }\n",
    "\n",
    "    concatenated_rows = []\n",
    "    for index, row in df.iterrows():\n",
    "        concatenated_row = \" \".join([f\"{header_mapping[col]}: {row[col]}\" for col in df.columns])\n",
    "        concatenated_rows.append(concatenated_row)\n",
    "    return concatenated_rows"
   ]
  },
  {
   "cell_type": "code",
   "execution_count": null,
   "metadata": {},
   "outputs": [],
   "source": [
    "def concatenate_with_headers(df):\n",
    "    concatenated_rows = []\n",
    "    for index, row in df.iterrows():\n",
    "        concatenated_row = \" \".join([f\"{col}: {row[col]}\" for col in df.columns])\n",
    "        concatenated_rows.append(concatenated_row)\n",
    "    return concatenated_rows"
   ]
  },
  {
   "cell_type": "code",
   "execution_count": null,
   "metadata": {},
   "outputs": [],
   "source": [
    "documents = [\n",
    "    Document(\n",
    "        page_content=f\"Title: {row['title']} Year: {row['year']} Last Section Title: {row['last_section_title']} Paragraph: {row['paragraph']}\",\n",
    "        metadata={\n",
    "            'title': row['title'],\n",
    "            'year': row['year'],\n",
    "            'last_section_title': row['last_section_title'],\n",
    "        }\n",
    "    )\n",
    "    for _, row in df_paragraphs.iterrows()\n",
    "]"
   ]
  },
  {
   "cell_type": "code",
   "execution_count": null,
   "metadata": {},
   "outputs": [
    {
     "name": "stdout",
     "output_type": "stream",
     "text": [
      "Page Content: Title: Nature and Nurture: The Impact of Automaticity and the Structuration of Communication on Virtual Team Behavior and Performance Year: 2014 Last Section Title: No section information Paragraph: NATURE AND NURTURE: THE IMPACT OF AUTOMATICITY AND THE STRUCTURATION OF COMMUNICATION ON VIRTUAL TEAM BEHAVIOR AND PERFORMANCE \n",
      "Metadata: {'title': 'Nature and Nurture: The Impact of Automaticity and the Structuration of Communication on Virtual Team Behavior and Performance', 'year': 2014, 'last_section_title': 'No section information'}\n",
      "Page Content: Title: Nature and Nurture: The Impact of Automaticity and the Structuration of Communication on Virtual Team Behavior and Performance Year: 2014 Last Section Title: Abstract Paragraph: Much prior research on virtual teams has examined the impact of the features and capabilities of different communication tools (the nature of communication) on team performance. In this paper, we examine how the social structures (i.e., genre rules) that emerge around different communication tools (the nurture of communication) can be as important in influencing performance. During habitual use situations, team members enact genre rules associated with communication tools without conscious thought via automaticity. These genre rules influence how teams interact and ultimately how well they perform. We conducted an experimental study to examine the impact of different genre rules that have developed for two communication tools: instant messenger and discussion forum. Our results show that in habitual use situations, these tools triggered different genre rules with different behaviors, which in turn resulted in significantly different decision quality. We used heightened time pressure as a discrepant event to interrupt the automatic enactment of habitual genre rules and found that users adopted similar behaviors for both tools, which resulted in no significant differences in decision quality. These findings suggest that the automatic enactment of genre rules for a communication tool may have as powerful an effect on behavior and performance as the actual features of the tool itself. We believe that our results, taken together with past research showing the effects of social structures on communication, call for the expansion of task-technology fit theories to include the role of social structures in explaining the use of and performance from communication tools. \n",
      "Metadata: {'title': 'Nature and Nurture: The Impact of Automaticity and the Structuration of Communication on Virtual Team Behavior and Performance', 'year': 2014, 'last_section_title': 'Abstract'}\n",
      "Page Content: Title: Nature and Nurture: The Impact of Automaticity and the Structuration of Communication on Virtual Team Behavior and Performance Year: 2014 Last Section Title: Introduction 1 Paragraph: Prior research has argued-and demonstrated empiricallythat the nature of a communication technology (i.e., its innate features and capabilities) influences both how the tool is used, and the type of performance that ensues from its use (Dennis and Wixom 2001-02;Fjermested and Hiltz 1998-99). That is, the task-technology fit of a communication technology not only matters, but has a substantial influence on the processes and outcomes of communication (Zigurs and Buckland 1998) . Past research has also shown that teams can use the innate features of technologies in different ways that are faithful or unfaithful to their intent (DeSanctis and Pool 1994) and that the way a tool is used can significantly affect behavior and performance (Dennis et al. 2001) . \n",
      "Metadata: {'title': 'Nature and Nurture: The Impact of Automaticity and the Structuration of Communication on Virtual Team Behavior and Performance', 'year': 2014, 'last_section_title': 'Introduction 1'}\n",
      "Page Content: Title: Nature and Nurture: The Impact of Automaticity and the Structuration of Communication on Virtual Team Behavior and Performance Year: 2014 Last Section Title: Introduction 1 Paragraph: In this paper, we argue that nurture has an equally important impact on the processes and outcomes of communication. By nurture, we mean the social structures for using a communication technology that are habitually enacted, usually without a conscious decision (i.e., the genre rules). Genre rules are the social structures that guide the form and substance of communication (Orlikowski and Yates 1994; Yates and Orlikowski 1992) . Genre rules develop over time from repeated use of a communication tool and are typically based on the commonly occurring habitual patterns of use that emerge (Erickson 1999) . Genre rules are influenced by the capabilities of the tool itself and usually emerge from repeated use (Karjalainen and Salminen 2000) , although they can develop through formal guidance (Thomas and Bostrom 2010b; Yates et al. 1999) . Genre rules are usually enacted without a conscious decision (they are akin to a habit), unlike the deliberate appropriation processes that occur during the adoption of new technologies (DeSanctis and Poole 1994) . \n",
      "Metadata: {'title': 'Nature and Nurture: The Impact of Automaticity and the Structuration of Communication on Virtual Team Behavior and Performance', 'year': 2014, 'last_section_title': 'Introduction 1'}\n",
      "Page Content: Title: Nature and Nurture: The Impact of Automaticity and the Structuration of Communication on Virtual Team Behavior and Performance Year: 2014 Last Section Title: Introduction 1 Paragraph: Genre rules are like many other social structures in that they both enable and constrain future behavior, and evolve over time (Giddens 1984) . The genre rules that have grown from communication tool use exhibit a powerful impact on the processes of communication, above and beyond the innate nature of the communication tool itself. Past research has shown that genre rules influence behavior (e.g., Köhler et al. 2012; Yates and Orlikowski 2002; Yates et al. 1999 ), but we are unaware of any research that has shown that genre rules influence the outcomes of team work. Thus, one key question that this paper addresses is: Does the use of different genre rules lead to different outcomes? Technology use has traditionally been considered as being based on rational, intentional choices about behavior (Ortiz de Guinea and Markus 2009); however, in recent years, researchers have come to realize that much of human behavior, especially habitual behavior (such as use of a familiar technology), is performed without conscious thought (Jasperson et al. 2005; Kim et al. 2005; Limayem et al. 2007; Ortiz de Guinea and Markus 2009 ). Instead, when users encounter a familiar situation, they enact the social structures they have used in the past, automatically and without thought (Bargh and Morsella 2009; Kim et al. 2005; Ortiz de Guinea and Markus 2009) . \n",
      "Metadata: {'title': 'Nature and Nurture: The Impact of Automaticity and the Structuration of Communication on Virtual Team Behavior and Performance', 'year': 2014, 'last_section_title': 'Introduction 1'}\n"
     ]
    }
   ],
   "source": [
    "for doc in documents[:5]:\n",
    "    print(\"Page Content:\", doc.page_content)\n",
    "    print(\"Metadata:\", doc.metadata)"
   ]
  },
  {
   "cell_type": "code",
   "execution_count": null,
   "metadata": {},
   "outputs": [],
   "source": [
    "persist_directory2 = '../RAG_3_vectordb_3_separate codes/paragraphs_chroma_db'"
   ]
  },
  {
   "cell_type": "code",
   "execution_count": null,
   "metadata": {},
   "outputs": [],
   "source": [
    "vectordb_articles = Chroma.from_documents(documents=documents, \n",
    "                                 embedding=embedding_model,\n",
    "                                 persist_directory=persist_directory2)"
   ]
  },
  {
   "cell_type": "code",
   "execution_count": null,
   "metadata": {},
   "outputs": [],
   "source": [
    "with duckdb.connect(database=db_path, read_only=True) as conn:\n",
    "    query = '''SELECT papers.title, papers.year, sentence, ent_id, label,  FROM entities\n",
    "                JOIN papers ON entities.article_id = papers.article_id\n",
    "                WHERE title IN (\n",
    "                'Technology Adaptation: The Case of a Computer-Supported Inter-organizational Virtual Team',\n",
    "                'How Do Suppliers Benefit from Information Technology Use in Supply Chain Relationships?',\n",
    "                'A Multilevel Model of Resistance to Information Technology Implementation',\n",
    "                'Understanding User Responses to Information Technology: A Coping Model of User Adaptation',\n",
    "                'A Comprehensive Conceputalization of the Post-Adoptive Behaviors Associated with IT-Enabled Work Systems',\n",
    "                'Information Technology and the Performance of the Customer Service Process: A Resource-Based Analysis',\n",
    "                'Toward a Deeper Understanding of System Usage in Organizations: A Multilevel Perspective',\n",
    "                'How Habit Limits the Predictive Power of Intention: The Case of Information Systems Continuance',\n",
    "                'Predicting Different Conceptualizations of System Use: The Competing Roles of Behavioral Intention, Facilitating Conditions, and Behavioral Expectation',\n",
    "                'The Integrative Framework of Technology Use: An Extension and Test',\n",
    "                'Why Break the Habit of a Lifetime? Rethinking the Roles of Intention, Habit, and Emotion in Continuing Information Technology Use',\n",
    "                'An Alternative to Methodological Individualism: A Non-Reductionist Approach to Studying Technology Adoption by Groups',\n",
    "                'Capturing Bottom-Up Information Technology Use Processes: A Complex Adaptive Systems Model',\n",
    "                'Understanding User Revisions When Using Information System Features: Adaptive System Use and Triggers',\n",
    "                'Interfirm IT Capability Profiles and Communications for Cocreating Relational Value: Evidence from the Logistics Industry',\n",
    "                'A Dramaturgical Model of the Production of Performance Data',\n",
    "                'The Embeddedness of Information Systems Habits in Organizational and Individual Level Routines: Development and Disruption',\n",
    "                'When Does Technology Use Enable Network Change in Organizations? A Comparative Study of Feature Use and Shared Affordances',\n",
    "                'Nature and Nurture: The Impact of Automaticity and the Structuration of Communication on Virtual Team Behavior and Performance',\n",
    "                'An Investigation of Information Systems Use Patterns: Technological Events as Triggers, the Effect of Time, and Consequences for Performance',\n",
    "                'Toward Generalizable Sociomaterial Inquiry: A Computational Approach for Zooming In and Out of Sociomaterial Routines',\n",
    "                'Coping with Information Technology: Mixed Emotions, Vacillation, and Nonconforming Use Patterns',\n",
    "                'Information Technology Use as a Learning Mechanism: The Impact of IT Use on Knowledge Transfer Effectiveness, Absorptive Capacity, and Franchisee Performance',\n",
    "                'ICT, Intermediaries, and the Transformation of Gendered Power Structures',\n",
    "                'Multiplex Appropriation in Complex Systems Implementation: The Case of Brazil''s Correspondent Banking System',\n",
    "                'Revisiting Group-Based Technology Adoption as a Dynamic Process: The Role of Changing Attitude-Rationale Configurations',\n",
    "                'Capturing the Complexity of Malleable IT Use: Adaptive Structuration Theory for Individuals',\n",
    "                'A Temporally Situated Self-Agency Theory of Information Technology Reinvention'\n",
    "                );'''\n",
    "    df_entities= conn.execute(query).fetchdf()"
   ]
  },
  {
   "cell_type": "code",
   "execution_count": null,
   "metadata": {},
   "outputs": [
    {
     "name": "stdout",
     "output_type": "stream",
     "text": [
      "                                               title  year  \\\n",
      "0  Understanding User Responses to Information Te...  2005   \n",
      "1  Understanding User Responses to Information Te...  2005   \n",
      "2  Understanding User Responses to Information Te...  2005   \n",
      "3  Understanding User Responses to Information Te...  2005   \n",
      "4  Understanding User Responses to Information Te...  2005   \n",
      "\n",
      "                                            sentence  \\\n",
      "0  UNDERSTANDING USER RESPONSES TO INFORMATION TE...   \n",
      "1  This paper defines user adaptation as the cogn...   \n",
      "2  Drawing on coping theory , we posit that users...   \n",
      "3  Drawing on coping theory , we posit that users...   \n",
      "4  On that basis , we identify four adaptation st...   \n",
      "\n",
      "                          ent_id          label  \n",
      "0                  IS technology     TECHNOLOGY  \n",
      "1                  IS technology     TECHNOLOGY  \n",
      "2              theoretical model  MODEL_ELEMENT  \n",
      "3                  IS technology     TECHNOLOGY  \n",
      "4  theory of bounded rationality         THEORY  \n"
     ]
    }
   ],
   "source": [
    "print(df_entities.head())"
   ]
  },
  {
   "cell_type": "code",
   "execution_count": null,
   "metadata": {},
   "outputs": [],
   "source": [
    "def concatenate_with_headers(df):\n",
    "    concatenated_rows = []\n",
    "    for index, row in df.iterrows():\n",
    "        concatenated_row = \" \".join([f\"{col}: {row[col]}\" for col in df.columns])\n",
    "        concatenated_rows.append(concatenated_row)\n",
    "    return concatenated_rows"
   ]
  },
  {
   "cell_type": "code",
   "execution_count": null,
   "metadata": {},
   "outputs": [],
   "source": [
    "documents = [\n",
    "    Document(\n",
    "        page_content=f\"Sentence: {row['sentence']} Entity: {row['ent_id']} Label of entity: {row['label']}\",\n",
    "        metadata={\n",
    "            'title': row['title'],\n",
    "            'year': row['year'],\n",
    "            'ent_id': row['ent_id'],\n",
    "            'label': row['label'],\n",
    "        }\n",
    "    )\n",
    "    for _, row in df_entities.iterrows()\n",
    "]"
   ]
  },
  {
   "cell_type": "code",
   "execution_count": null,
   "metadata": {},
   "outputs": [
    {
     "name": "stdout",
     "output_type": "stream",
     "text": [
      "Page Content: Sentence: UNDERSTANDING USER RESPONSES TO INFORMATION TECHNOLOGY : A COPING MODEL OF USER ADAPTATION 1 Entity: IS technology Label of entity: TECHNOLOGY\n",
      "Metadata: {'title': 'Understanding User Responses to Information Technology: A Coping Model of User Adaptation', 'year': 2005, 'ent_id': 'IS technology', 'label': 'TECHNOLOGY'}\n",
      "Page Content: Sentence: This paper defines user adaptation as the cognitive and behavioral efforts performed by users to cope with significant information technology events that occur in their work environment . Entity: IS technology Label of entity: TECHNOLOGY\n",
      "Metadata: {'title': 'Understanding User Responses to Information Technology: A Coping Model of User Adaptation', 'year': 2005, 'ent_id': 'IS technology', 'label': 'TECHNOLOGY'}\n",
      "Page Content: Sentence: Drawing on coping theory , we posit that users choose different adaptation strategies based on a combination of primary appraisal ( i.e. , a user 's assessment of the 1 Ritu Agarwal was the accepting senior editor for this paper . Susan Brown was the associate editor . Bradley Wheeler , Pamela Carter , and Julie Rennecker served as reviewers.expected consequences of an IT event ) and secondary appraisal ( i.e. , a user 's assessment of his / her control over the situation ) . Entity: theoretical model Label of entity: MODEL_ELEMENT\n",
      "Metadata: {'title': 'Understanding User Responses to Information Technology: A Coping Model of User Adaptation', 'year': 2005, 'ent_id': 'theoretical model', 'label': 'MODEL_ELEMENT'}\n",
      "Page Content: Sentence: Drawing on coping theory , we posit that users choose different adaptation strategies based on a combination of primary appraisal ( i.e. , a user 's assessment of the 1 Ritu Agarwal was the accepting senior editor for this paper . Susan Brown was the associate editor . Bradley Wheeler , Pamela Carter , and Julie Rennecker served as reviewers.expected consequences of an IT event ) and secondary appraisal ( i.e. , a user 's assessment of his / her control over the situation ) . Entity: IS technology Label of entity: TECHNOLOGY\n",
      "Metadata: {'title': 'Understanding User Responses to Information Technology: A Coping Model of User Adaptation', 'year': 2005, 'ent_id': 'IS technology', 'label': 'TECHNOLOGY'}\n",
      "Page Content: Sentence: On that basis , we identify four adaptation strategies ( benefits maximizing , benefits satisficing , disturbance handling , and self - preservation ) which are hypothesized to result in three different individual - level outcomes : restoring emotional stability , minimizing the perceived threats of the technology , and improving user effectiveness and efficiency . Entity: theory of bounded rationality Label of entity: THEORY\n",
      "Metadata: {'title': 'Understanding User Responses to Information Technology: A Coping Model of User Adaptation', 'year': 2005, 'ent_id': 'theory of bounded rationality', 'label': 'THEORY'}\n"
     ]
    }
   ],
   "source": [
    "for doc in documents[:5]:\n",
    "    print(\"Page Content:\", doc.page_content)\n",
    "    print(\"Metadata:\", doc.metadata)"
   ]
  },
  {
   "cell_type": "code",
   "execution_count": null,
   "metadata": {},
   "outputs": [],
   "source": [
    "persist_directory3 = '../RAG_3_vectordb_3_separate codes/entities_chroma_db'"
   ]
  },
  {
   "cell_type": "code",
   "execution_count": null,
   "metadata": {},
   "outputs": [],
   "source": [
    "vectordb_sentences = Chroma.from_documents(documents=documents, \n",
    "                                 embedding=embedding_model,\n",
    "                                 persist_directory=persist_directory3)"
   ]
  }
 ],
 "metadata": {
  "kernelspec": {
   "display_name": "Python 3",
   "language": "python",
   "name": "python3"
  },
  "language_info": {
   "codemirror_mode": {
    "name": "ipython",
    "version": 3
   },
   "file_extension": ".py",
   "mimetype": "text/x-python",
   "name": "python",
   "nbconvert_exporter": "python",
   "pygments_lexer": "ipython3",
   "version": "3.11.6"
  }
 },
 "nbformat": 4,
 "nbformat_minor": 2
}
