{
 "cells": [
  {
   "cell_type": "code",
   "execution_count": 1,
   "metadata": {},
   "outputs": [],
   "source": [
    "import os\n",
    "from dotenv import load_dotenv\n",
    "from langchain.vectorstores import Chroma\n",
    "from langchain.embeddings import HuggingFaceEmbeddings\n",
    "from langchain_groq import ChatGroq\n",
    "from langchain.chains import RetrievalQA\n",
    "from langchain.prompts import PromptTemplate\n",
    "from langchain.chains.query_constructor.base import AttributeInfo\n",
    "from langchain.retrievers.self_query.base import SelfQueryRetriever\n",
    "from langchain.schema import Document, SystemMessage, HumanMessage"
   ]
  },
  {
   "cell_type": "code",
   "execution_count": 2,
   "metadata": {},
   "outputs": [],
   "source": [
    "load_dotenv()\n",
    "api_key = os.getenv('GROQ_API_KEY')"
   ]
  },
  {
   "cell_type": "code",
   "execution_count": 3,
   "metadata": {},
   "outputs": [],
   "source": [
    "chat = ChatGroq(temperature=0, groq_api_key=api_key, model_name=\"llama3-70b-8192\")"
   ]
  },
  {
   "cell_type": "code",
   "execution_count": 4,
   "metadata": {},
   "outputs": [
    {
     "name": "stderr",
     "output_type": "stream",
     "text": [
      "c:\\Users\\andyu\\AppData\\Local\\Programs\\Python\\Python311\\Lib\\site-packages\\sentence_transformers\\cross_encoder\\CrossEncoder.py:11: TqdmWarning: IProgress not found. Please update jupyter and ipywidgets. See https://ipywidgets.readthedocs.io/en/stable/user_install.html\n",
      "  from tqdm.autonotebook import tqdm, trange\n",
      "comet_ml is installed but `COMET_API_KEY` is not set.\n"
     ]
    }
   ],
   "source": [
    "embedding_model = HuggingFaceEmbeddings(model_name='sentence-transformers/paraphrase-MiniLM-L6-v2')"
   ]
  },
  {
   "cell_type": "code",
   "execution_count": 5,
   "metadata": {},
   "outputs": [],
   "source": [
    "persist_directory = r\"C:\\Users\\andyu\\OneDrive\\Počítač\\Text, Web and Social Media Analytics Lab\\Rag_project\\RAG_3_vectordb_3_separate codes\\article_chroma_db\"\n",
    "vectorstore = Chroma(persist_directory=persist_directory, embedding_function=embedding_model)"
   ]
  },
  {
   "cell_type": "code",
   "execution_count": 7,
   "metadata": {},
   "outputs": [],
   "source": [
    "metadata_field_info = [\n",
    "    AttributeInfo(\n",
    "        name=\"article_id\",\n",
    "        description=\"Article ID of the paper\",\n",
    "        type=\"string\",\n",
    "    ),\n",
    "    AttributeInfo(\n",
    "        name=\"authors\",\n",
    "                description=\"Authors of the paper\",\n",
    "        type=\"string or list[string]\",\n",
    "    ),\n",
    "    AttributeInfo(\n",
    "        name=\"year\",\n",
    "        description=\"Year the paper was published\",\n",
    "        type=\"integer\",\n",
    "    ),\n",
    "    AttributeInfo(\n",
    "        name=\"title\",\n",
    "        description=\"Title of the paper\",\n",
    "        type=\"string\",\n",
    "    ),\n",
    "    AttributeInfo(\n",
    "        name=\"keywords\",\n",
    "        description=\"Keywords associated with the paper\",\n",
    "        type=\"string or list[string]\",\n",
    "    ),\n",
    "    AttributeInfo(\n",
    "        name=\"citation_count\",\n",
    "        description=\"Number of citations the paper has received\",\n",
    "        type=\"integer\",\n",
    "    )\n",
    "]\n",
    "\n",
    "document_content_description = \"Provides information about article\""
   ]
  },
  {
   "cell_type": "code",
   "execution_count": 8,
   "metadata": {},
   "outputs": [],
   "source": [
    "retriever = SelfQueryRetriever.from_llm(\n",
    "    llm=chat,\n",
    "    vectorstore=vectorstore,\n",
    "    document_contents=document_content_description,\n",
    "    metadata_field_info=metadata_field_info,\n",
    "    verbose=True\n",
    ")"
   ]
  },
  {
   "cell_type": "code",
   "execution_count": 9,
   "metadata": {},
   "outputs": [
    {
     "name": "stderr",
     "output_type": "stream",
     "text": [
      "c:\\Users\\andyu\\AppData\\Local\\Programs\\Python\\Python311\\Lib\\site-packages\\langchain_core\\_api\\deprecation.py:119: LangChainDeprecationWarning: The method `BaseRetriever.get_relevant_documents` was deprecated in langchain-core 0.1.46 and will be removed in 0.3.0. Use invoke instead.\n",
      "  warn_deprecated(\n"
     ]
    },
    {
     "data": {
      "text/plain": [
       "[Document(page_content='Article ID: 9183 Authors: Nevo, Saggi; Nevo, Dorit; Pinsonneault, Alain Publication Year: 2016 Title: A Temporally Situated Self-Agency Theory of Information Technology Reinvention Journal: Management Information Systems Quarterly Abstract: Our knowledge of how users reinvent information technologies (IT) in ways that depart from their intended purposes to achieve new goals is relatively limited. Drawing on a human agency theory that situates actors in the flow of time, this paper develops a theory of IT reinvention. It identifies the key subprocesses of IT reinvention, describes two patterns of reinvention (performance-oriented and mastery-oriented), and explains how the present and the past influence the ambiguities, demands, and dilemmas inherent to each pattern. The outcomes associated with each pattern of IT reinvention are also discussed. The paper provides the theoretical foundations to understand how users reinvent IT as well as new insights into a broader range of post-adoption behaviors. Keywords: IT reinvention, human agency, temporal orientation, prospective technological capabilities, mastery goals, performance goals, post-adoption, technology adaptation, process theory, innovation diffusion Citation Count: 0', metadata={'abstract': 'Our knowledge of how users reinvent information technologies (IT) in ways that depart from their intended purposes to achieve new goals is relatively limited. Drawing on a human agency theory that situates actors in the flow of time, this paper develops a theory of IT reinvention. It identifies the key subprocesses of IT reinvention, describes two patterns of reinvention (performance-oriented and mastery-oriented), and explains how the present and the past influence the ambiguities, demands, and dilemmas inherent to each pattern. The outcomes associated with each pattern of IT reinvention are also discussed. The paper provides the theoretical foundations to understand how users reinvent IT as well as new insights into a broader range of post-adoption behaviors.', 'article_id': 9183, 'authors': 'Nevo, Saggi; Nevo, Dorit; Pinsonneault, Alain', 'citation_count': 0, 'journal': 'Management Information Systems Quarterly', 'keywords': 'IT reinvention, human agency, temporal orientation, prospective technological capabilities, mastery goals, performance goals, post-adoption, technology adaptation, process theory, innovation diffusion', 'title': 'A Temporally Situated Self-Agency Theory of Information Technology Reinvention', 'year': 2016}),\n",
       " Document(page_content='Article ID: 10873 Authors: Saskia Bayerl, Petra; Lauche, Kristina; Axtell, Carolyn Publication Year: 2016 Title: Revisiting Group-Based Technology Adoption as a Dynamic Process: The Role of Changing Attitude-Rationale Configurations Journal: Management Information Systems Quarterly Abstract: The article discusses the collective adoption of technology by groups in relation to the modification of technology adoption rationales and attitudes. Topics include the roles of subgroups in determining group technology adoption states (TASs), the creation of a qualitative approach for group technology adoption, and the continuance or discontinuance of information systems use. Factors in collective decision-making are noted. Keywords: Technology adoption, collective adoption, diversity, distribution, group valence, process view, case study Citation Count: 0', metadata={'abstract': 'The article discusses the collective adoption of technology by groups in relation to the modification of technology adoption rationales and attitudes. Topics include the roles of subgroups in determining group technology adoption states (TASs), the creation of a qualitative approach for group technology adoption, and the continuance or discontinuance of information systems use. Factors in collective decision-making are noted.', 'article_id': 10873, 'authors': 'Saskia Bayerl, Petra; Lauche, Kristina; Axtell, Carolyn', 'citation_count': 0, 'journal': 'Management Information Systems Quarterly', 'keywords': 'Technology adoption, collective adoption, diversity, distribution, group valence, process view, case study', 'title': 'Revisiting Group-Based Technology Adoption as a Dynamic Process: The Role of Changing Attitude-Rationale Configurations', 'year': 2016})]"
      ]
     },
     "execution_count": 9,
     "metadata": {},
     "output_type": "execute_result"
    }
   ],
   "source": [
    "query = \"How many articles were published in 2016\"\n",
    "retriever.get_relevant_documents(query)"
   ]
  },
  {
   "cell_type": "code",
   "execution_count": 10,
   "metadata": {},
   "outputs": [],
   "source": [
    "\n",
    "custom_prompt_template = \"\"\"Use the following pieces of information to answer the user's question. Always answer the question as if you were a human and in full sentance. If you don't know the answer, just say that you don't know, don't try to make up an answer. Only use information from the datasource.\n",
    "\n",
    "Context: {context}\n",
    "Question: {question}\n",
    "\n",
    "Only return the helpful answer below and nothing else.\n",
    "Helpful answer:\n",
    "\"\"\"\n",
    "\n",
    "def generate_fluent_output(query, retriever, chat, custom_prompt_template):\n",
    "    results = retriever.get_relevant_documents(query)\n",
    "\n",
    "    combined_content = \"\\n\\n\".join([f\"{doc.page_content}\\nMetadata: {doc.metadata}\" for doc in results])\n",
    "\n",
    "    formatted_prompt = custom_prompt_template.format(context=combined_content, question=query)\n",
    "    messages = [\n",
    "        HumanMessage(content=formatted_prompt)\n",
    "    ]\n",
    "\n",
    "    response = chat(messages)\n",
    "    fluent_output = response.content\n",
    "\n",
    "    print(fluent_output)\n"
   ]
  },
  {
   "cell_type": "code",
   "execution_count": 11,
   "metadata": {},
   "outputs": [
    {
     "name": "stderr",
     "output_type": "stream",
     "text": [
      "c:\\Users\\andyu\\AppData\\Local\\Programs\\Python\\Python311\\Lib\\site-packages\\langchain_core\\_api\\deprecation.py:119: LangChainDeprecationWarning: The method `BaseChatModel.__call__` was deprecated in langchain-core 0.1.7 and will be removed in 0.3.0. Use invoke instead.\n",
      "  warn_deprecated(\n"
     ]
    },
    {
     "name": "stdout",
     "output_type": "stream",
     "text": [
      "According to the data, 2 articles had an author named Ortiz de Guinea.\n"
     ]
    }
   ],
   "source": [
    "# Your query\n",
    "query = \"How many articles had an author Ortiz de Guinea?\"\n",
    "\n",
    "# Generate and print the fluent output\n",
    "generate_fluent_output(query, retriever, chat, custom_prompt_template)\n"
   ]
  },
  {
   "cell_type": "code",
   "execution_count": 12,
   "metadata": {},
   "outputs": [
    {
     "name": "stdout",
     "output_type": "stream",
     "text": [
      "No, the article does not have \"technology adoption\" in its keywords, but it does have \"technology use\" and \"continued use\".\n"
     ]
    }
   ],
   "source": [
    "query = \"Does this article has technology adoptation in keywords: The Integrative Framework of Technology Use: An Extension and Test?\"\n",
    "\n",
    "# Generate and print the fluent output\n",
    "generate_fluent_output(query, retriever, chat, custom_prompt_template)"
   ]
  },
  {
   "cell_type": "code",
   "execution_count": 12,
   "metadata": {},
   "outputs": [
    {
     "name": "stdout",
     "output_type": "stream",
     "text": [
      "4\n"
     ]
    }
   ],
   "source": [
    "query = \"How many articles were published in year 2013?\"\n",
    "\n",
    "# Generate and print the fluent output\n",
    "generate_fluent_output(query, retriever, chat, custom_prompt_template)"
   ]
  }
 ],
 "metadata": {
  "kernelspec": {
   "display_name": "Python 3",
   "language": "python",
   "name": "python3"
  },
  "language_info": {
   "codemirror_mode": {
    "name": "ipython",
    "version": 3
   },
   "file_extension": ".py",
   "mimetype": "text/x-python",
   "name": "python",
   "nbconvert_exporter": "python",
   "pygments_lexer": "ipython3",
   "version": "3.11.6"
  }
 },
 "nbformat": 4,
 "nbformat_minor": 2
}
