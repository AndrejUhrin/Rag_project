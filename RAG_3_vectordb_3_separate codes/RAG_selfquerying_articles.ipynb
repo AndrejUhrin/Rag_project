{
 "cells": [
  {
   "cell_type": "code",
   "execution_count": 1,
   "metadata": {},
   "outputs": [],
   "source": [
    "import os\n",
    "from dotenv import load_dotenv\n",
    "from langchain.vectorstores import Chroma\n",
    "from langchain.embeddings import HuggingFaceEmbeddings\n",
    "from langchain_groq import ChatGroq\n",
    "from langchain.chains import RetrievalQA\n",
    "from langchain.prompts import PromptTemplate\n",
    "from langchain.chains.query_constructor.base import AttributeInfo\n",
    "from langchain.retrievers.self_query.base import SelfQueryRetriever\n",
    "from langchain.schema import Document, SystemMessage, HumanMessage"
   ]
  },
  {
   "cell_type": "code",
   "execution_count": 2,
   "metadata": {},
   "outputs": [],
   "source": [
    "load_dotenv()\n",
    "api_key = \"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\""
   ]
  },
  {
   "cell_type": "code",
   "execution_count": 3,
   "metadata": {},
   "outputs": [],
   "source": [
    "chat = ChatGroq(temperature=0, groq_api_key=api_key, model_name=\"llama3-70b-8192\")"
   ]
  },
  {
   "cell_type": "code",
   "execution_count": 4,
   "metadata": {},
   "outputs": [
    {
     "name": "stderr",
     "output_type": "stream",
     "text": [
      "/Library/Frameworks/Python.framework/Versions/3.11/lib/python3.11/site-packages/langchain_core/_api/deprecation.py:139: LangChainDeprecationWarning: The class `HuggingFaceEmbeddings` was deprecated in LangChain 0.2.2 and will be removed in 0.3.0. An updated version of the class exists in the langchain-huggingface package and should be used instead. To use it run `pip install -U langchain-huggingface` and import as `from langchain_huggingface import HuggingFaceEmbeddings`.\n",
      "  warn_deprecated(\n",
      "/Library/Frameworks/Python.framework/Versions/3.11/lib/python3.11/site-packages/sentence_transformers/cross_encoder/CrossEncoder.py:11: TqdmExperimentalWarning: Using `tqdm.autonotebook.tqdm` in notebook mode. Use `tqdm.tqdm` instead to force console mode (e.g. in jupyter console)\n",
      "  from tqdm.autonotebook import tqdm, trange\n",
      "2024-07-22 18:15:15.618482: I tensorflow/core/platform/cpu_feature_guard.cc:210] This TensorFlow binary is optimized to use available CPU instructions in performance-critical operations.\n",
      "To enable the following instructions: AVX2 FMA, in other operations, rebuild TensorFlow with the appropriate compiler flags.\n",
      "comet_ml is installed but `COMET_API_KEY` is not set.\n",
      "/Library/Frameworks/Python.framework/Versions/3.11/lib/python3.11/site-packages/huggingface_hub/file_download.py:1132: FutureWarning: `resume_download` is deprecated and will be removed in version 1.0.0. Downloads always resume when possible. If you want to force a new download, use `force_download=True`.\n",
      "  warnings.warn(\n"
     ]
    }
   ],
   "source": [
    "embedding_model = HuggingFaceEmbeddings(model_name='sentence-transformers/paraphrase-MiniLM-L6-v2')"
   ]
  },
  {
   "cell_type": "code",
   "execution_count": 5,
   "metadata": {},
   "outputs": [],
   "source": [
    "persist_directory = \"../RAG_3_vectordb_3_separate codes/article_chroma_db\""
   ]
  },
  {
   "cell_type": "markdown",
   "metadata": {},
   "source": [
    "ALWAYS CHECK IF THE DIRECTORY EXISTS"
   ]
  },
  {
   "cell_type": "code",
   "execution_count": 6,
   "metadata": {},
   "outputs": [
    {
     "name": "stdout",
     "output_type": "stream",
     "text": [
      "Persist directory exists.\n"
     ]
    }
   ],
   "source": [
    "if not os.path.exists(persist_directory):\n",
    "    print(\"Persist directory does not exist.\")\n",
    "else:\n",
    "    print(\"Persist directory exists.\")"
   ]
  },
  {
   "cell_type": "code",
   "execution_count": 7,
   "metadata": {},
   "outputs": [],
   "source": [
    "vectorstore = Chroma(persist_directory=persist_directory, embedding_function=embedding_model)"
   ]
  },
  {
   "cell_type": "code",
   "execution_count": 8,
   "metadata": {},
   "outputs": [],
   "source": [
    "metadata_field_info = [\n",
    "    AttributeInfo(\n",
    "        name=\"article_id\",\n",
    "        description=\"Article ID of the paper\",\n",
    "        type=\"string\",\n",
    "    ),\n",
    "    AttributeInfo(\n",
    "        name=\"authors\",\n",
    "                description=\"Authors of the paper\",\n",
    "        type=\"string or list[string]\",\n",
    "    ),\n",
    "    AttributeInfo(\n",
    "        name=\"year\",\n",
    "        description=\"Year the paper was published\",\n",
    "        type=\"integer\",\n",
    "    ),\n",
    "    AttributeInfo(\n",
    "        name=\"abstract\",\n",
    "        description=\"Abstract of the article\",\n",
    "        type=\"string\",\n",
    "    ),\n",
    "    AttributeInfo(\n",
    "        name=\"title\",\n",
    "        description=\"Title of the paper\",\n",
    "        type=\"string\",\n",
    "    ),\n",
    "    AttributeInfo(\n",
    "        name=\"keywords\",\n",
    "        description=\"Keywords associated with the paper\",\n",
    "        type=\"string or list[string]\",\n",
    "    ),\n",
    "    AttributeInfo(\n",
    "        name=\"citation_count\",\n",
    "        description=\"Number of citations the paper has received\",\n",
    "        type=\"integer\",\n",
    "    )\n",
    "]\n",
    "\n",
    "document_content_description = \"Provides information about article\""
   ]
  },
  {
   "cell_type": "code",
   "execution_count": 9,
   "metadata": {},
   "outputs": [],
   "source": [
    "retriever = SelfQueryRetriever.from_llm(\n",
    "    llm=chat,\n",
    "    vectorstore=vectorstore,\n",
    "    document_contents=document_content_description,\n",
    "    metadata_field_info=metadata_field_info,\n",
    "    verbose=True\n",
    ")"
   ]
  },
  {
   "cell_type": "code",
   "execution_count": 10,
   "metadata": {},
   "outputs": [],
   "source": [
    "custom_prompt_template = \"\"\"Use the following pieces of information to answer the user's question. Always answear the question as if you were a human and answear in full sentance. During your answear be really specific. If you don't know the answer, just say that you don't know, don't try to make up an answer.\n",
    "\n",
    "\n",
    "\n",
    "Context: {context}\n",
    "Question: {question}\n",
    "\n",
    "Only return the helpful answer below and nothing else.\n",
    "Helpful answer:\n",
    "\"\"\""
   ]
  },
  {
   "cell_type": "code",
   "execution_count": 11,
   "metadata": {},
   "outputs": [],
   "source": [
    "def set_custom_prompt():\n",
    "    \"\"\"\n",
    "    Prompt template for QA retrieval for each vectorstore\n",
    "    \"\"\"\n",
    "    prompt = PromptTemplate(template=custom_prompt_template,\n",
    "                            input_variables=['context', 'question'])\n",
    "    return prompt\n",
    "\n",
    "prompt = set_custom_prompt()"
   ]
  },
  {
   "cell_type": "code",
   "execution_count": 12,
   "metadata": {},
   "outputs": [],
   "source": [
    "qa = RetrievalQA.from_chain_type(\n",
    "    llm=chat,\n",
    "    chain_type='stuff',\n",
    "    retriever=retriever,\n",
    "    return_source_documents=True,\n",
    "    chain_type_kwargs={'prompt': prompt}\n",
    ")"
   ]
  },
  {
   "cell_type": "code",
   "execution_count": 13,
   "metadata": {},
   "outputs": [
    {
     "name": "stderr",
     "output_type": "stream",
     "text": [
      "/Library/Frameworks/Python.framework/Versions/3.11/lib/python3.11/site-packages/langchain_core/_api/deprecation.py:139: LangChainDeprecationWarning: The method `Chain.__call__` was deprecated in langchain 0.1.0 and will be removed in 0.3.0. Use invoke instead.\n",
      "  warn_deprecated(\n"
     ]
    },
    {
     "name": "stdout",
     "output_type": "stream",
     "text": [
      "Answer: There were 2 articles published in 2016, both of which have a citation count of 0.\n"
     ]
    }
   ],
   "source": [
    "query = \"How many articles were published in 2016\"\n",
    "result = qa({\"query\": query})\n",
    "print(\"Answer:\", result[\"result\"])"
   ]
  },
  {
   "cell_type": "code",
   "execution_count": 14,
   "metadata": {},
   "outputs": [
    {
     "name": "stdout",
     "output_type": "stream",
     "text": [
      "Answer: All three articles have a citation count higher than 250. The first two articles have a citation count of 296, and the last two articles have a citation count of 299.\n"
     ]
    }
   ],
   "source": [
    "query = \"Which article had citation count higher than 250\"\n",
    "result = qa({\"query\": query})\n",
    "print(\"Answer:\", result[\"result\"])"
   ]
  },
  {
   "cell_type": "code",
   "execution_count": 15,
   "metadata": {},
   "outputs": [
    {
     "name": "stdout",
     "output_type": "stream",
     "text": [
      "Answer: The article \"A Multilevel Model of Resistance to Information Technology Implementation\" has the following sections: Abstract, Keywords, and Citation Count.\n"
     ]
    }
   ],
   "source": [
    "query = \"Which sections does article A Multilevel Model of Resistance to Information Technology Implementation have\"\n",
    "result = qa({\"query\": query})\n",
    "print(\"Answer:\", result[\"result\"])"
   ]
  },
  {
   "cell_type": "code",
   "execution_count": 16,
   "metadata": {},
   "outputs": [
    {
     "name": "stdout",
     "output_type": "stream",
     "text": [
      "Answer: The article \"An Alternative to Methodological Individualism: A Non-Reductionist Approach to Studying Technology Adoption by Groups\" has an abstract, keywords, and a citation count section.\n"
     ]
    }
   ],
   "source": [
    "#yasmin:\n",
    "query = \"Which sections does article An Alternative to Methodological Individualism: A Non-Reductionist Approach to Studying Technology Adoption by Groups have\"\n",
    "result = qa({\"query\": query})\n",
    "print(\"Answer:\", result[\"result\"])"
   ]
  },
  {
   "cell_type": "code",
   "execution_count": 17,
   "metadata": {},
   "outputs": [
    {
     "name": "stdout",
     "output_type": "stream",
     "text": [
      "Answer: The first section in the article \"An Alternative to Methodological Individualism: A Non-Reductionist Approach to Studying Technology Adoption by Groups\" is the Abstract.\n"
     ]
    }
   ],
   "source": [
    "#yasmin:\n",
    "query = \"Which section is the first in the article An Alternative to Methodological Individualism: A Non-Reductionist Approach to Studying Technology Adoption by Groups?\"\n",
    "result = qa({\"query\": query})\n",
    "print(\"Answer:\", result[\"result\"])"
   ]
  },
  {
   "cell_type": "code",
   "execution_count": 18,
   "metadata": {},
   "outputs": [
    {
     "name": "stdout",
     "output_type": "stream",
     "text": [
      "Answer: The authors of the article \"An Alternative to Methodological Individualism: A Non-Reductionist Approach to Studying Technology Adoption by Groups\" are Sarker, Saonee, and Valacich, Joseph S.\n"
     ]
    }
   ],
   "source": [
    "#yasmin:\n",
    "query = \"Who is the author of the article An Alternative to Methodological Individualism: A Non-Reductionist Approach to Studying Technology Adoption by Groups?\"\n",
    "result = qa({\"query\": query})\n",
    "print(\"Answer:\", result[\"result\"])"
   ]
  },
  {
   "cell_type": "code",
   "execution_count": 19,
   "metadata": {},
   "outputs": [
    {
     "name": "stdout",
     "output_type": "stream",
     "text": [
      "Answer: The article \"An Alternative to Methodological Individualism: A Non-Reductionist Approach to Studying Technology Adoption by Groups\" was written in 2010.\n"
     ]
    }
   ],
   "source": [
    "#yasmin:\n",
    "query = \"In which year was the article An Alternative to Methodological Individualism: A Non-Reductionist Approach to Studying Technology Adoption by Groups written?\"\n",
    "result = qa({\"query\": query})\n",
    "print(\"Answer:\", result[\"result\"])"
   ]
  },
  {
   "cell_type": "code",
   "execution_count": 20,
   "metadata": {},
   "outputs": [
    {
     "name": "stdout",
     "output_type": "stream",
     "text": [
      "Answer: The article \"An Alternative to Methodological Individualism: A Non-Reductionist Approach to Studying Technology Adoption by Groups\" contributes to our understanding of IT use by providing a non-reductionist approach to studying technology adoption by groups, which offers a more robust explanation of technology adoption than the traditional methodological individualist view, and highlights the conditions under which the methodological individualist view fails to provide correct explanations.\n"
     ]
    }
   ],
   "source": [
    "#yasmin:\n",
    "query = \"What is the Contribution to our understanding of IT use of the article An Alternative to Methodological Individualism: A Non-Reductionist Approach to Studying Technology Adoption by Groups written?\"\n",
    "result = qa({\"query\": query})\n",
    "print(\"Answer:\", result[\"result\"])"
   ]
  },
  {
   "cell_type": "code",
   "execution_count": 21,
   "metadata": {},
   "outputs": [
    {
     "name": "stdout",
     "output_type": "stream",
     "text": [
      "Answer: The use of technology adoption by groups was conceptualized in the article \"An Alternative to Methodological Individualism: A Non-Reductionist Approach to Studying Technology Adoption by Groups\" through a non-reductionist model that drew on theories of group influence, prior research on conflict, technology characteristics, task-technology fit, group communication media, and recent theoretical work surrounding group technology adoption.\n"
     ]
    }
   ],
   "source": [
    "#yasmin:\n",
    "query = \"How was the use studied or conceptualized of the article An Alternative to Methodological Individualism: A Non-Reductionist Approach to Studying Technology Adoption by Groups written?\"\n",
    "result = qa({\"query\": query})\n",
    "print(\"Answer:\", result[\"result\"])"
   ]
  },
  {
   "cell_type": "code",
   "execution_count": 22,
   "metadata": {},
   "outputs": [
    {
     "name": "stdout",
     "output_type": "stream",
     "text": [
      "Answer: The theory of the article \"An Alternative to Methodological Individualism: A Non-Reductionist Approach to Studying Technology Adoption by Groups\" is a non-reductionist approach to investigating group-related phenomenon, specifically in the context of technology adoption, which draws on theories of group influence, prior research on conflict, technology characteristics, task-technology fit, group communication media, and recent theoretical work surrounding group technology adoption.\n"
     ]
    }
   ],
   "source": [
    "#yasmin:\n",
    "query = \"Briefly: What is the theory of the article An Alternative to Methodological Individualism: A Non-Reductionist Approach to Studying Technology Adoption by Groups written?\"\n",
    "result = qa({\"query\": query})\n",
    "print(\"Answer:\", result[\"result\"])"
   ]
  },
  {
   "cell_type": "code",
   "execution_count": 23,
   "metadata": {},
   "outputs": [
    {
     "name": "stdout",
     "output_type": "stream",
     "text": [
      "Answer: The empirical approach of the article \"An Alternative to Methodological Individualism: A Non-Reductionist Approach to Studying Technology Adoption by Groups\" is based on case studies.\n"
     ]
    }
   ],
   "source": [
    "#yasmin:\n",
    "query = \"In 5 words: What is the empirical approach of the article An Alternative to Methodological Individualism: A Non-Reductionist Approach to Studying Technology Adoption by Groups written?\"\n",
    "result = qa({\"query\": query})\n",
    "print(\"Answer:\", result[\"result\"])"
   ]
  },
  {
   "cell_type": "code",
   "execution_count": 24,
   "metadata": {},
   "outputs": [
    {
     "name": "stdout",
     "output_type": "stream",
     "text": [
      "Answer: Subramani is a Fijian author, and yes, he has written several articles and books, but I don't have specific information on a particular article by him, could you please provide more context or details about the article you're looking for?\n"
     ]
    }
   ],
   "source": [
    "#yasmin:\n",
    "query = \"Is there an article by the author Subramani?\"\n",
    "result = qa({\"query\": query})\n",
    "print(\"Answer:\", result[\"result\"])"
   ]
  },
  {
   "cell_type": "code",
   "execution_count": 25,
   "metadata": {},
   "outputs": [
    {
     "name": "stdout",
     "output_type": "stream",
     "text": [
      "Answer: The article \"Revisiting Group-Based Technology Adoption as a Dynamic Process: The Role of Changing Attitude-Rationale Configurations\" contributes to our understanding of IT use by highlighting the importance of collective decision-making and the role of subgroups in determining group technology adoption states, as well as the dynamic process of technology adoption rationales and attitudes, which can lead to the continuance or discontinuance of information systems use.\n"
     ]
    }
   ],
   "source": [
    "#yasmin:\n",
    "query = \"What is the Contribution to our understanding of IT use in the article Revisiting Group-Based Technology Adoption as a Dynamic Process: The Role of Changing Attitude-Rationale Configurations?\"\n",
    "result = qa({\"query\": query})\n",
    "print(\"Answer:\", result[\"result\"])\n",
    "\n"
   ]
  },
  {
   "cell_type": "code",
   "execution_count": 26,
   "metadata": {},
   "outputs": [
    {
     "name": "stdout",
     "output_type": "stream",
     "text": [
      "Answer: Unfortunately, the abstract provided does not explicitly state a specific theory in the article \"Revisiting Group-Based Technology Adoption as a Dynamic Process: The Role of Changing Attitude-Rationale Configurations\". It discusses various concepts and topics related to group-based technology adoption, but it does not mention a specific theory.\n"
     ]
    }
   ],
   "source": [
    "#yasmin:\n",
    "query = \"What is the theory in the article Revisiting Group-Based Technology Adoption as a Dynamic Process: The Role of Changing Attitude-Rationale Configurations?\"\n",
    "result = qa({\"query\": query})\n",
    "print(\"Answer:\", result[\"result\"])"
   ]
  },
  {
   "cell_type": "code",
   "execution_count": 27,
   "metadata": {},
   "outputs": [
    {
     "name": "stdout",
     "output_type": "stream",
     "text": [
      "Answer: The use of technology was studied or conceptualized through a qualitative approach for group technology adoption, specifically focusing on the roles of subgroups in determining group technology adoption states (TASs) and the continuance or discontinuance of information systems use.\n"
     ]
    }
   ],
   "source": [
    "query = \"For the article Revisiting Group-Based Technology Adoption as a Dynamic Process: The Role of Changing Attitude-Rationale Configurations, how was the use studied or conceptualized?\"\n",
    "result = qa({\"query\": query})\n",
    "print(\"Answer:\", result[\"result\"])"
   ]
  },
  {
   "cell_type": "code",
   "execution_count": 31,
   "metadata": {},
   "outputs": [
    {
     "name": "stdout",
     "output_type": "stream",
     "text": [
      "Answer: Unfortunately, the provided abstract does not explicitly state the specific theory behind the article \"Revisiting Group-Based Technology Adoption as a Dynamic Process: The Role of Changing Attitude-Rationale Configurations\". However, based on the keywords and topics mentioned, it appears to be related to the Technology Adoption Model, which explores how users form attitudes and intentions towards adopting new technologies.\n"
     ]
    }
   ],
   "source": [
    "query = \"What is the theory behind the article Revisiting Group-Based Technology Adoption as a Dynamic Process: The Role of Changing Attitude-Rationale Configurations?\"\n",
    "result = qa({\"query\": query})\n",
    "print(\"Answer:\", result[\"result\"])"
   ]
  },
  {
   "cell_type": "code",
   "execution_count": 29,
   "metadata": {},
   "outputs": [
    {
     "name": "stdout",
     "output_type": "stream",
     "text": [
      "Answer: The empirical approach of the article \"Revisiting Group-Based Technology Adoption as a Dynamic Process: The Role of Changing Attitude-Rationale Configurations\" is a qualitative approach, specifically a case study.\n"
     ]
    }
   ],
   "source": [
    "query = \"What is the empirical approach of the article Revisiting Group-Based Technology Adoption as a Dynamic Process: The Role of Changing Attitude-Rationale Configurations?\"\n",
    "result = qa({\"query\": query})\n",
    "print(\"Answer:\", result[\"result\"])"
   ]
  },
  {
   "cell_type": "code",
   "execution_count": 33,
   "metadata": {},
   "outputs": [
    {
     "name": "stdout",
     "output_type": "stream",
     "text": [
      "Answer: The article \"Revisiting Group-Based Technology Adoption as a Dynamic Process: The Role of Changing Attitude-Rationale Configurations\" is from the year 2016.\n"
     ]
    }
   ],
   "source": [
    "query = \"From which year is the article Revisiting Group-Based Technology Adoption as a Dynamic Process: The Role of Changing Attitude-Rationale Configurations?\"\n",
    "result = qa({\"query\": query})\n",
    "print(\"Answer:\", result[\"result\"])"
   ]
  },
  {
   "cell_type": "code",
   "execution_count": 34,
   "metadata": {},
   "outputs": [
    {
     "name": "stdout",
     "output_type": "stream",
     "text": [
      "Answer: The article \"Coping with Information Technology: Mixed Emotions, Vacillation, and Nonconforming Use Patterns\" contributes to our understanding of IT use by highlighting the role of emotions in shaping IT use patterns, specifically how mixed emotions can lead to vacillating strategies and nonconforming use patterns that can have positive organizational implications, despite not conforming to the terms of use.\n"
     ]
    }
   ],
   "source": [
    "#yasmin:\n",
    "query = \"What is the Contribution to our understanding of IT use in the article Coping with Information Technology: Mixed Emotions, Vacillation, and Nonconforming Use Patterns?\"\n",
    "result = qa({\"query\": query})\n",
    "print(\"Answer:\", result[\"result\"])"
   ]
  },
  {
   "cell_type": "code",
   "execution_count": 35,
   "metadata": {},
   "outputs": [
    {
     "name": "stdout",
     "output_type": "stream",
     "text": [
      "Answer: The use of IT was studied or conceptualized through an in-depth field study conducted in two North American universities, examining the role of emotions in how specific IT use patterns emerge.\n"
     ]
    }
   ],
   "source": [
    "query = \"For the article Coping with Information Technology: Mixed Emotions, Vacillation, and Nonconforming Use Patterns, how was the use studied or conceptualized?\"\n",
    "result = qa({\"query\": query})\n",
    "print(\"Answer:\", result[\"result\"])"
   ]
  },
  {
   "cell_type": "code",
   "execution_count": 36,
   "metadata": {},
   "outputs": [
    {
     "name": "stdout",
     "output_type": "stream",
     "text": [
      "Answer: The theory behind the article \"Coping with Information Technology: Mixed Emotions, Vacillation, and Nonconforming Use Patterns\" is that there are five different characteristics of an IT stimulus event (cues) that, when interacting in a reinforcing manner, elicit a single class of emotions (uniform affective responses) and, when interacting in an oppositional manner, elicit mixed emotions (ambivalent affective responses), leading to different adaptation behaviors and use patterns.\n"
     ]
    }
   ],
   "source": [
    "query = \"What is the theory behind the article Coping with Information Technology: Mixed Emotions, Vacillation, and Nonconforming Use Patterns?\"\n",
    "result = qa({\"query\": query})\n",
    "print(\"Answer:\", result[\"result\"])"
   ]
  },
  {
   "cell_type": "code",
   "execution_count": 38,
   "metadata": {},
   "outputs": [
    {
     "name": "stdout",
     "output_type": "stream",
     "text": [
      "Answer: The empirical approach of the article \"Coping with Information Technology: Mixed Emotions, Vacillation, and Nonconforming Use Patterns\" is a qualitative research approach, as indicated by the keyword \"qualitative research\" in the abstract.\n"
     ]
    }
   ],
   "source": [
    "query = \"What is the empirical approach of the article Coping with Information Technology: Mixed Emotions, Vacillation, and Nonconforming Use Patterns?\"\n",
    "result = qa({\"query\": query})\n",
    "print(\"Answer:\", result[\"result\"])"
   ]
  }
 ],
 "metadata": {
  "kernelspec": {
   "display_name": "Python 3",
   "language": "python",
   "name": "python3"
  },
  "language_info": {
   "codemirror_mode": {
    "name": "ipython",
    "version": 3
   },
   "file_extension": ".py",
   "mimetype": "text/x-python",
   "name": "python",
   "nbconvert_exporter": "python",
   "pygments_lexer": "ipython3",
   "version": "3.11.6"
  }
 },
 "nbformat": 4,
 "nbformat_minor": 2
}
