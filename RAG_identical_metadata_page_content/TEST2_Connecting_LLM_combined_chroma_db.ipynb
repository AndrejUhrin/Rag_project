{
 "cells": [
  {
   "cell_type": "code",
   "execution_count": 1,
   "metadata": {},
   "outputs": [],
   "source": [
    "import os\n",
    "from dotenv import load_dotenv\n",
    "from langchain.vectorstores import Chroma\n",
    "from langchain.embeddings import HuggingFaceEmbeddings\n",
    "from langchain_groq import ChatGroq\n",
    "from langchain.chains import RetrievalQA\n",
    "from langchain.prompts import PromptTemplate\n",
    "from langchain.chains.query_constructor.base import AttributeInfo\n",
    "from langchain.retrievers.self_query.base import SelfQueryRetriever\n",
    "from langchain.schema import Document, SystemMessage, HumanMessage"
   ]
  },
  {
   "cell_type": "code",
   "execution_count": 2,
   "metadata": {},
   "outputs": [
    {
     "data": {
      "text/plain": [
       "True"
      ]
     },
     "execution_count": 2,
     "metadata": {},
     "output_type": "execute_result"
    }
   ],
   "source": [
    "load_dotenv()"
   ]
  },
  {
   "cell_type": "code",
   "execution_count": 3,
   "metadata": {},
   "outputs": [],
   "source": [
    "api_key = os.getenv('GROQ_API_KEY')"
   ]
  },
  {
   "cell_type": "code",
   "execution_count": 4,
   "metadata": {},
   "outputs": [],
   "source": [
    "chat = ChatGroq(temperature=0, groq_api_key=api_key, model_name=\"llama3-70b-8192\")"
   ]
  },
  {
   "cell_type": "code",
   "execution_count": 5,
   "metadata": {},
   "outputs": [
    {
     "name": "stderr",
     "output_type": "stream",
     "text": [
      "c:\\Users\\andyu\\AppData\\Local\\Programs\\Python\\Python311\\Lib\\site-packages\\sentence_transformers\\cross_encoder\\CrossEncoder.py:11: TqdmWarning: IProgress not found. Please update jupyter and ipywidgets. See https://ipywidgets.readthedocs.io/en/stable/user_install.html\n",
      "  from tqdm.autonotebook import tqdm, trange\n",
      "comet_ml is installed but `COMET_API_KEY` is not set.\n"
     ]
    }
   ],
   "source": [
    "embedding_model = HuggingFaceEmbeddings(model_name='sentence-transformers/paraphrase-MiniLM-L6-v2')"
   ]
  },
  {
   "cell_type": "code",
   "execution_count": 6,
   "metadata": {},
   "outputs": [],
   "source": [
    "persist_directory = '../RAG_identical_metadata_page_content/all_info_in_page_content_chroma_db_MISQ'"
   ]
  },
  {
   "cell_type": "code",
   "execution_count": 7,
   "metadata": {},
   "outputs": [
    {
     "name": "stdout",
     "output_type": "stream",
     "text": [
      "Persist directory exists.\n"
     ]
    }
   ],
   "source": [
    "if not os.path.exists(persist_directory):\n",
    "    print(\"Persist directory does not exist.\")\n",
    "else:\n",
    "    print(\"Persist directory exists.\")"
   ]
  },
  {
   "cell_type": "code",
   "execution_count": 8,
   "metadata": {},
   "outputs": [],
   "source": [
    "vectordb = Chroma(persist_directory=persist_directory,\n",
    "                  embedding_function=embedding_model)"
   ]
  },
  {
   "cell_type": "code",
   "execution_count": 9,
   "metadata": {},
   "outputs": [
    {
     "name": "stdout",
     "output_type": "stream",
     "text": [
      "Number of documents in the vector store: 1829\n"
     ]
    }
   ],
   "source": [
    "num_documents = vectordb._collection.count()  \n",
    "print(f\"Number of documents in the vector store: {num_documents}\")"
   ]
  },
  {
   "cell_type": "code",
   "execution_count": 10,
   "metadata": {},
   "outputs": [],
   "source": [
    "metadata_field_info = [\n",
    "    AttributeInfo(\n",
    "        name=\"article_id\",\n",
    "        description=\"id of an article\",\n",
    "        type=\"string\",\n",
    "    ),\n",
    "    AttributeInfo(\n",
    "        name=\"para_id\",\n",
    "        description=\"Paragraph ID of the section\",\n",
    "        type=\"string\",\n",
    "    ),\n",
    "    AttributeInfo(\n",
    "        name=\"last_section_title\",\n",
    "        description=\"Title of the section so multiple paragraphs can have same title section\",\n",
    "        type=\"string\",\n",
    "    ),\n",
    "    AttributeInfo(\n",
    "        name=\"ent_id\",\n",
    "        description=\"Entities mentioned in the paragraph\",\n",
    "        type=\"string or list[string]\",\n",
    "    ),\n",
    "    AttributeInfo(\n",
    "        name=\"label\",\n",
    "        description=\"Labels associated with the paragraph\",\n",
    "        type=\"string or list[string]\",\n",
    "    ),\n",
    "    AttributeInfo(\n",
    "        name=\"authors\",\n",
    "        description=\"Authors of the article\",\n",
    "        type=\"string\",\n",
    "    ),\n",
    "    AttributeInfo(\n",
    "        name=\"year\",\n",
    "        description=\"Year of publication\",\n",
    "        type=\"int\",\n",
    "    ),\n",
    "    AttributeInfo(\n",
    "        name=\"title\",\n",
    "        description=\"Title of the article\",\n",
    "        type=\"string\",\n",
    "    ),\n",
    "    AttributeInfo(\n",
    "        name=\"keywords\",\n",
    "        description=\"Keywords associated with the article\",\n",
    "        type=\"string or list[string]\",\n",
    "    ),\n",
    "    AttributeInfo(\n",
    "        name=\"citation_count\",\n",
    "        description=\"Number of citations the article has received\",\n",
    "        type=\"int\",\n",
    "    )\n",
    "]\n"
   ]
  },
  {
   "cell_type": "code",
   "execution_count": 11,
   "metadata": {},
   "outputs": [],
   "source": [
    "document_content_description = \"each document consists of a paragraph from an article\""
   ]
  },
  {
   "cell_type": "code",
   "execution_count": 12,
   "metadata": {},
   "outputs": [],
   "source": [
    "retriever = SelfQueryRetriever.from_llm(\n",
    "    llm=chat,\n",
    "    vectorstore=vectordb,\n",
    "    document_contents=document_content_description,\n",
    "    metadata_field_info=metadata_field_info\n",
    ")"
   ]
  },
  {
   "cell_type": "code",
   "execution_count": 13,
   "metadata": {},
   "outputs": [
    {
     "name": "stderr",
     "output_type": "stream",
     "text": [
      "c:\\Users\\andyu\\AppData\\Local\\Programs\\Python\\Python311\\Lib\\site-packages\\langchain_core\\_api\\deprecation.py:119: LangChainDeprecationWarning: The method `BaseRetriever.get_relevant_documents` was deprecated in langchain-core 0.1.46 and will be removed in 0.3.0. Use invoke instead.\n",
      "  warn_deprecated(\n"
     ]
    },
    {
     "name": "stdout",
     "output_type": "stream",
     "text": [
      "[Document(page_content='\\n        Title: When Does Technology Use Enable Network Change in Organizations? A Comparative Study of Feature Use and Shared Affordances\\n        Authors: Leonardi, Paul M.\\n        Year: 2013\\n        Article ID: 7383\\n        Paragraph ID: 7383_29\\n        Last Section Title: Data Collection\\n        Entity ID: data collection method, survey\\n        Label: COLLECTION_METHOD\\n        Keywords: Technology implementation, organizational change, advice networks, feature use, affordances, frames\\n        Citation Count: 97\\n        \\n        Content:\\n        I conducted field observations about three related activities: the work of crashworthiness engineers before CrashLab was implemented, the activities of developers, trainers, and managers during the implementation process, and the work of engineers after CrashLab was implemented. During the periods in which I was a resident in Safety I utilized three primary data sources: observations made of informants at work, sociometric surveys distributed to informants, and logs kept by informants tracking their use of CrashLab. I outline each of these data collection procedures below. \\n        ', metadata={'article_id': 7383, 'authors': 'Leonardi, Paul M.', 'citation_count': 97, 'ent_id': 'data collection method, survey', 'keywords': 'Technology implementation, organizational change, advice networks, feature use, affordances, frames', 'label': 'COLLECTION_METHOD', 'last_section_title': 'Data Collection', 'para_id': '7383_29', 'title': 'When Does Technology Use Enable Network Change in Organizations? A Comparative Study of Feature Use and Shared Affordances', 'year': 2013}), Document(page_content=\"\\n        Title: When Does Technology Use Enable Network Change in Organizations? A Comparative Study of Feature Use and Shared Affordances\\n        Authors: Leonardi, Paul M.\\n        Year: 2013\\n        Article ID: 7383\\n        Paragraph ID: 7383_28\\n        Last Section Title: Data Collection\\n        Entity ID: data collection method, research and development\\n        Label: COLLECTION_METHOD, TOPIC\\n        Keywords: Technology implementation, organizational change, advice networks, feature use, affordances, frames\\n        Citation Count: 97\\n        \\n        Content:\\n        Between July 2004 and August 2006, I spent nine months engaged in ethnographic data collection at Autoworks. I gained access to Autoworks through an internship program allowing researchers to work in the company's R&D division on projects related to understanding engineering and technical work. The nine months of observation time were divided into four periods of residency in Safety. The first period was July-August 2004, one year before CrashLab was implemented. The second period was August-November 2005. I began observations three weeks before CrashLab was officially launched and I remained in Safety for 13 more weeks to observe engineers make their initial interpretations and uses of the new technology. I returned for a third period, March-April 2006, which began 26 weeks after CrashLab was implemented. Finally, I returned to Autoworks for a third period, July-August 2006, staying through the 50 th week after CrashLab was implemented. \\n        \", metadata={'article_id': 7383, 'authors': 'Leonardi, Paul M.', 'citation_count': 97, 'ent_id': 'data collection method, research and development', 'keywords': 'Technology implementation, organizational change, advice networks, feature use, affordances, frames', 'label': 'COLLECTION_METHOD, TOPIC', 'last_section_title': 'Data Collection', 'para_id': '7383_28', 'title': 'When Does Technology Use Enable Network Change in Organizations? A Comparative Study of Feature Use and Shared Affordances', 'year': 2013}), Document(page_content=\"\\n        Title: When Does Technology Use Enable Network Change in Organizations? A Comparative Study of Feature Use and Shared Affordances\\n        Authors: Leonardi, Paul M.\\n        Year: 2013\\n        Article ID: 7383\\n        Paragraph ID: 7383_64\\n        Last Section Title: Generate Report\\n        Entity ID: qualitativ observational study, qualitative coding, quantitative observational study\\n        Label: ANALYSIS_METHOD, COLLECTION_METHOD\\n        Keywords: Technology implementation, organizational change, advice networks, feature use, affordances, frames\\n        Citation Count: 97\\n        \\n        Content:\\n        In the second stage of analysis, observational data were used to explain why the patterns identified in the analysis of the tracking logs existed and what consequences arose from these usage patterns. To explore why the patterns existed, I coded in six steps. In the first step, I flagged all of the observation records for all instances in which informants first heard about CrashLab. Codes were then applied to each of these instances to explain (a) what the informant learned and (b) what their initial impression was. In Step 2, I flagged each instance in which informants first began to use CrashLab. I applied codes to these instances that explained (a) what they did when they first used it and (b) reasons they gave for why they used those features. In Step 3, I used the process of axial coding (Strauss and Corbin 1998) Glaser's (1978, pp. 120-126) strategy for theoretical sorting to mark the activities and events in the data that led to similarities or differences in patterns of CrashLab use and nonuse across the Piston and Strut groups. \\n        \", metadata={'article_id': 7383, 'authors': 'Leonardi, Paul M.', 'citation_count': 97, 'ent_id': 'qualitativ observational study, qualitative coding, quantitative observational study', 'keywords': 'Technology implementation, organizational change, advice networks, feature use, affordances, frames', 'label': 'ANALYSIS_METHOD, COLLECTION_METHOD', 'last_section_title': 'Generate Report', 'para_id': '7383_64', 'title': 'When Does Technology Use Enable Network Change in Organizations? A Comparative Study of Feature Use and Shared Affordances', 'year': 2013}), Document(page_content=\"\\n        Title: When Does Technology Use Enable Network Change in Organizations? A Comparative Study of Feature Use and Shared Affordances\\n        Authors: Leonardi, Paul M.\\n        Year: 2013\\n        Article ID: 7383\\n        Paragraph ID: 7383_65\\n        Last Section Title: Generate Report\\n        Entity ID: affordance, group participant, quantitative observational study, theory of affordance, usability, user experience\\n        Label: COLLECTION_METHOD, PARTICIPANTS, THEORY, TOPIC\\n        Keywords: Technology implementation, organizational change, advice networks, feature use, affordances, frames\\n        Citation Count: 97\\n        \\n        Content:\\n        Together, the results of these coding steps of the observational data uncovered (1) what engineers believed CrashLab was supposed to do for them, (2) reasons why engineers in the Piston and Strut groups initially made similar appropriations of CrashLab's features, (3) why, over time, the two groups veered from one another in their appropriations, (4) why and how the Strut group enacted a shared affordance and the Piston group did not, and (5) what consequences this shared affordance had for advice seeking. \\n        \", metadata={'article_id': 7383, 'authors': 'Leonardi, Paul M.', 'citation_count': 97, 'ent_id': 'affordance, group participant, quantitative observational study, theory of affordance, usability, user experience', 'keywords': 'Technology implementation, organizational change, advice networks, feature use, affordances, frames', 'label': 'COLLECTION_METHOD, PARTICIPANTS, THEORY, TOPIC', 'last_section_title': 'Generate Report', 'para_id': '7383_65', 'title': 'When Does Technology Use Enable Network Change in Organizations? A Comparative Study of Feature Use and Shared Affordances', 'year': 2013})]\n"
     ]
    }
   ],
   "source": [
    "query = \"How is the data collection method in article named When Does Technology Use Enable Network Change in Organizations? A Comparative Study of Feature Use and Shared Affordances.\"\n",
    "results = retriever.get_relevant_documents(query)\n",
    "print(results)"
   ]
  },
  {
   "cell_type": "code",
   "execution_count": 14,
   "metadata": {},
   "outputs": [
    {
     "name": "stdout",
     "output_type": "stream",
     "text": [
      "Content: \n",
      "        Title: A Dramaturgical Model of the Production of Performance Data\n",
      "        Authors: Vieira da Cunha, João\n",
      "        Year: 2013\n",
      "        Article ID: 12686\n",
      "        Paragraph ID: 12686_135\n",
      "        Last Section Title: I feel like a captain in the eastern front [ in World\n",
      "        Entity ID: armed conflict\n",
      "        Label: TOPIC\n",
      "        Keywords: Management information systems, production of performance data, performance monitoring, implementation of information technology, ethnography\n",
      "        Citation Count: 2\n",
      "        \n",
      "        Content:\n",
      "        War II] reporting to a faraway command center saying that everything is going as planned when, in reality, my soldiers are being slaughtered. \n",
      "        \n",
      "Metadata: {'article_id': 12686, 'authors': 'Vieira da Cunha, João', 'citation_count': 2, 'ent_id': 'armed conflict', 'keywords': 'Management information systems, production of performance data, performance monitoring, implementation of information technology, ethnography', 'label': 'TOPIC', 'last_section_title': 'I feel like a captain in the eastern front [ in World', 'para_id': '12686_135', 'title': 'A Dramaturgical Model of the Production of Performance Data', 'year': 2013}\n",
      "\n",
      "Content: \n",
      "        Title: A Dramaturgical Model of the Production of Performance Data\n",
      "        Authors: Vieira da Cunha, João\n",
      "        Year: 2013\n",
      "        Article ID: 12686\n",
      "        Paragraph ID: 12686_140\n",
      "        Last Section Title: He explained :\n",
      "        Entity ID: ethics\n",
      "        Label: PARADIGM\n",
      "        Keywords: Management information systems, production of performance data, performance monitoring, implementation of information technology, ethnography\n",
      "        Citation Count: 2\n",
      "        \n",
      "        Content:\n",
      "        Siebel is like the invisible voice and our sales managers are the little monkeys around the organ grinder .... Siebel is the organ grinder and our sales managers are the monkeys. It's the only way I can describe how our sales managers work. This interpretation suggests that sales managers reproduced some of the conditions that shaped their use of performance data to impress their general manager, including the reporting procedures and the lax ethical culture that allowed them to present an image of compliance by motivating and helping salespeople to find revenue instead of motivating them and helping them sell (see Figure 4). DeskSales' general manager further increased the disparity between salespeople's actions and achievements and the sales and saleswork she reported to the unit's steering committee to present an image of overachievement. \n",
      "        \n",
      "Metadata: {'article_id': 12686, 'authors': 'Vieira da Cunha, João', 'citation_count': 2, 'ent_id': 'ethics', 'keywords': 'Management information systems, production of performance data, performance monitoring, implementation of information technology, ethnography', 'label': 'PARADIGM', 'last_section_title': 'He explained :', 'para_id': '12686_140', 'title': 'A Dramaturgical Model of the Production of Performance Data', 'year': 2013}\n",
      "\n",
      "Content: \n",
      "        Title: A Dramaturgical Model of the Production of Performance Data\n",
      "        Authors: Vieira da Cunha, João\n",
      "        Year: 2013\n",
      "        Article ID: 12686\n",
      "        Paragraph ID: 12686_114\n",
      "        Last Section Title: Shaping Siebel Records to Give off Representations of Compliance or Overachievement\n",
      "        Entity ID: individual participant\n",
      "        Label: PARTICIPANTS\n",
      "        Keywords: Management information systems, production of performance data, performance monitoring, implementation of information technology, ethnography\n",
      "        Citation Count: 2\n",
      "        \n",
      "        Content:\n",
      "        One person on the Team (Joe Smith) has achieved 100% of target, this is 90% overall, the majority of the team's target. Joe has not done anything that anyone else cannot do if they put their mind to it. 4 people have yet to sell anything this YEAR ….Very disappointing!!!! I'm getting considerable grief because as a team we cannot do the basics…. Everyone should be on 63% against target by now. I have reiterated this now with almost boring monotony, what else do I have to say to help you understand its importance [?] Sales managers also induced salespeople to report revenue as sales in Siebel with small prizes such as bottles of champagne and shopping vouchers, which Nathan described as a \"little incentive from my [discretionary expense budget] to keep them motivated.\" \n",
      "        \n",
      "Metadata: {'article_id': 12686, 'authors': 'Vieira da Cunha, João', 'citation_count': 2, 'ent_id': 'individual participant', 'keywords': 'Management information systems, production of performance data, performance monitoring, implementation of information technology, ethnography', 'label': 'PARTICIPANTS', 'last_section_title': 'Shaping Siebel Records to Give off Representations of Compliance or Overachievement', 'para_id': '12686_114', 'title': 'A Dramaturgical Model of the Production of Performance Data', 'year': 2013}\n",
      "\n",
      "Content: \n",
      "        Title: A Dramaturgical Model of the Production of Performance Data\n",
      "        Authors: Vieira da Cunha, João\n",
      "        Year: 2013\n",
      "        Article ID: 12686\n",
      "        Paragraph ID: 12686_126\n",
      "        Last Section Title: Shaping Siebel Records to Give off Representations of Compliance or Overachievement\n",
      "        Entity ID: brainstorming\n",
      "        Label: TOPIC\n",
      "        Keywords: Management information systems, production of performance data, performance monitoring, implementation of information technology, ethnography\n",
      "        Citation Count: 2\n",
      "        \n",
      "        Content:\n",
      "        We need to do a brainstorming … we'll go into the orange room and we'll make sure that we go over every possible question [Mariah] can ask. …You need to make sure you all know your current opportunities on the system inside out. Talk to your account teams today if necessary. We must not appear to be unprepared for this, so let me know if I can help. \n",
      "        \n",
      "Metadata: {'article_id': 12686, 'authors': 'Vieira da Cunha, João', 'citation_count': 2, 'ent_id': 'brainstorming', 'keywords': 'Management information systems, production of performance data, performance monitoring, implementation of information technology, ethnography', 'label': 'TOPIC', 'last_section_title': 'Shaping Siebel Records to Give off Representations of Compliance or Overachievement', 'para_id': '12686_126', 'title': 'A Dramaturgical Model of the Production of Performance Data', 'year': 2013}\n",
      "\n"
     ]
    }
   ],
   "source": [
    "query = \"Give me names of articles were written in year 2013?\"\n",
    "retrieved_docs = retriever.get_relevant_documents(query)\n",
    "for doc in retrieved_docs:\n",
    "    print(f\"Content: {doc.page_content}\\nMetadata: {doc.metadata}\\n\")"
   ]
  },
  {
   "cell_type": "code",
   "execution_count": 62,
   "metadata": {},
   "outputs": [
    {
     "name": "stdout",
     "output_type": "stream",
     "text": [
      "{'article_id': 9464, 'authors': 'Ortiz de Guinea, Ana; Webster, Jane', 'citation_count': 63, 'ent_id': 'IS technology', 'keywords': 'Emotion, affect, behavior, cognition, performance, pattern, IS use, usage, heart rate, EKG, physiology, physiological arousal, automaticity, continuance, technological effects', 'label': 'TECHNOLOGY', 'last_section_title': 'IT Events', 'para_id': '9464_31', 'title': 'An Investigation of Information Systems Use Patterns: Technological Events as Triggers, the Effect of Time, and Consequences for Performance', 'year': 2013}\n",
      "{'article_id': 9957, 'authors': 'Polites, Greta L.; Karahanna, Elena', 'citation_count': 72, 'ent_id': 'construct, individual level, numbered hypothesis, theory of planned behavior, theory of reasoned action', 'keywords': 'IS habit, automaticity, organizational routines, cognitive scripts, environmental triggers, context change, habit disruption, incumbent system', 'label': 'LEVEL, MODEL_ELEMENT, THEORY', 'last_section_title': 'Task Definition', 'para_id': '9957_68', 'title': 'The Embeddedness of Information Systems Habits in Organizational and Individual Level Routines: Development and Disruption', 'year': 2013}\n",
      "{'article_id': 9464, 'authors': 'Ortiz de Guinea, Ana; Webster, Jane', 'citation_count': 63, 'ent_id': 'IS technology, information system use, research hypothesis, task productivity, theoretical lens', 'keywords': 'Emotion, affect, behavior, cognition, performance, pattern, IS use, usage, heart rate, EKG, physiology, physiological arousal, automaticity, continuance, technological effects', 'label': 'MODEL_ELEMENT, TECHNOLOGY, TOPIC', 'last_section_title': 'Introduction 1', 'para_id': '9464_12', 'title': 'An Investigation of Information Systems Use Patterns: Technological Events as Triggers, the Effect of Time, and Consequences for Performance', 'year': 2013}\n",
      "{'article_id': 12686, 'authors': 'Vieira da Cunha, João', 'citation_count': 2, 'ent_id': 'qualitative interview', 'keywords': 'Management information systems, production of performance data, performance monitoring, implementation of information technology, ethnography', 'label': 'COLLECTION_METHOD', 'last_section_title': 'Table4 . Data Analysis Procedures', 'para_id': '12686_72', 'title': 'A Dramaturgical Model of the Production of Performance Data', 'year': 2013}\n"
     ]
    }
   ],
   "source": [
    "source_documents = result.get('source_documents', [])\n",
    "for doc in source_documents:\n",
    "    print(doc.metadata)"
   ]
  },
  {
   "cell_type": "code",
   "execution_count": 15,
   "metadata": {},
   "outputs": [],
   "source": [
    "custom_prompt_template = \"\"\"You will be provided conten information and also metadata.Use the following pieces of information to answer the user's question. If you don't know the answer, just say that you don't know, don't try to make up an answer. Only use information from the datasource.\n",
    "Always provde the sentence from paragraph as an proof of your answer, if you are asked to. ALways try to be as specific as possible.\n",
    "Context: {context}\n",
    "Question: {question}\n",
    "\n",
    "Only return the helpful answer below and nothing else.\n",
    "Helpful answer:\n",
    "\"\"\""
   ]
  },
  {
   "cell_type": "code",
   "execution_count": 16,
   "metadata": {},
   "outputs": [],
   "source": [
    "def set_custom_prompt():\n",
    "    \"\"\"\n",
    "    Prompt template for QA retrieval for each vectorstore\n",
    "    \"\"\"\n",
    "    prompt = PromptTemplate(template=custom_prompt_template,\n",
    "                            input_variables=['context', 'question'])\n",
    "    return prompt\n",
    "\n",
    "prompt = set_custom_prompt()"
   ]
  },
  {
   "cell_type": "code",
   "execution_count": 20,
   "metadata": {},
   "outputs": [],
   "source": [
    "qa = RetrievalQA.from_chain_type(\n",
    "    llm=chat,\n",
    "    chain_type='stuff',\n",
    "    retriever=retriever,\n",
    "    return_source_documents=True\n",
    ")"
   ]
  },
  {
   "cell_type": "code",
   "execution_count": 32,
   "metadata": {},
   "outputs": [
    {
     "name": "stdout",
     "output_type": "stream",
     "text": [
      "Answer: The data collection method is not explicitly named in the article.\n"
     ]
    }
   ],
   "source": [
    "query = \"How is the data collection method in article named How Do Suppliers Benefit from Information Technology Use in Supply Chain Relationships?\"\n",
    "result = qa({\"query\": query})\n",
    "print(\"Answer:\", result[\"result\"])"
   ]
  },
  {
   "cell_type": "code",
   "execution_count": 33,
   "metadata": {},
   "outputs": [
    {
     "name": "stdout",
     "output_type": "stream",
     "text": [
      "Answer: Data was collected through a structured questionnaire developed based on fieldwork and a review of prior studies, which was refined in pretests with five senior buyers in Alpha and five senior managers in supplier firms.\n",
      "\n",
      " Sentence as proof: \"A structured questionnaire was developed based on the fieldwork and a review of prior studies.\"\n"
     ]
    }
   ],
   "source": [
    "query = \"Specify how was data collected in article named How Do Suppliers Benefit from Information Technology Use in Supply Chain Relationships?\"\n",
    "result = qa({\"query\": query})\n",
    "print(\"Answer:\", result[\"result\"])"
   ]
  },
  {
   "cell_type": "code",
   "execution_count": 34,
   "metadata": {},
   "outputs": [
    {
     "name": "stdout",
     "output_type": "stream",
     "text": [
      "Answer: The theory of learning and action that suggests actions in organizations can be categorized as either exploitation or exploration (March 1991).\n",
      "\n",
      " Sentence from paragraph as proof: \"To this end, the paper draws from a theory of learning and action that suggests actions in organizations can be categorized as either exploitation or exploration (March 1991).\"\n"
     ]
    }
   ],
   "source": [
    "query = \"Which theory was collected in article named How Do Suppliers Benefit from Information Technology Use in Supply Chain Relationships?\"\n",
    "result = qa({\"query\": query})\n",
    "print(\"Answer:\", result[\"result\"])"
   ]
  },
  {
   "cell_type": "code",
   "execution_count": 21,
   "metadata": {},
   "outputs": [
    {
     "name": "stdout",
     "output_type": "stream",
     "text": [
      "Answer: Based on the provided context, there is only one article written in 2013:\n",
      "\n",
      "1. \"A Dramaturgical Model of the Production of Performance Data\" by João Vieira da Cunha.\n"
     ]
    }
   ],
   "source": [
    "query = \"Give me names of articles were written in year 2013?\"\n",
    "result = qa({\"query\": query})\n",
    "print(\"Answer:\", result[\"result\"])"
   ]
  }
 ],
 "metadata": {
  "kernelspec": {
   "display_name": "Python 3",
   "language": "python",
   "name": "python3"
  },
  "language_info": {
   "codemirror_mode": {
    "name": "ipython",
    "version": 3
   },
   "file_extension": ".py",
   "mimetype": "text/x-python",
   "name": "python",
   "nbconvert_exporter": "python",
   "pygments_lexer": "ipython3",
   "version": "3.11.6"
  }
 },
 "nbformat": 4,
 "nbformat_minor": 2
}
