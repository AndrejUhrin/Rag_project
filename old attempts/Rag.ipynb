{
 "cells": [
  {
   "cell_type": "code",
   "execution_count": 13,
   "metadata": {},
   "outputs": [],
   "source": [
    "import os\n",
    "from dotenv import load_dotenv\n",
    "from chromadb import Client as ChromaClient\n",
    "from langchain.chains import ConversationalRetrievalChain\n",
    "from langchain_community.vectorstores.chroma import Chroma\n",
    "from langchain.embeddings import HuggingFaceEmbeddings\n",
    "from langchain_core.prompts import ChatPromptTemplate\n",
    "from langchain_groq import ChatGroq\n",
    "from langchain.chains import RetrievalQA"
   ]
  },
  {
   "cell_type": "code",
   "execution_count": 14,
   "metadata": {},
   "outputs": [],
   "source": [
    "load_dotenv()\n",
    "api_key = os.getenv('GROQ_API_KEY')"
   ]
  },
  {
   "cell_type": "code",
   "execution_count": 15,
   "metadata": {},
   "outputs": [],
   "source": [
    "chat = ChatGroq(temperature=0, groq_api_key=api_key, model_name=\"llama3-70b-8192\")"
   ]
  },
  {
   "cell_type": "code",
   "execution_count": 17,
   "metadata": {},
   "outputs": [],
   "source": [
    "chroma = ChromaClient()\n",
    "collection_name = 'paper_title_embeddings'"
   ]
  },
  {
   "cell_type": "code",
   "execution_count": 18,
   "metadata": {},
   "outputs": [
    {
     "name": "stderr",
     "output_type": "stream",
     "text": [
      "c:\\Users\\andyu\\AppData\\Local\\Programs\\Python\\Python311\\Lib\\site-packages\\sentence_transformers\\cross_encoder\\CrossEncoder.py:11: TqdmWarning: IProgress not found. Please update jupyter and ipywidgets. See https://ipywidgets.readthedocs.io/en/stable/user_install.html\n",
      "  from tqdm.autonotebook import tqdm, trange\n",
      "comet_ml is installed but `COMET_API_KEY` is not set.\n"
     ]
    }
   ],
   "source": [
    "embedding_model = 'sentence-transformers/paraphrase-MiniLM-L6-v2'\n",
    "hf_embeddings = HuggingFaceEmbeddings(model_name=embedding_model)"
   ]
  },
  {
   "cell_type": "code",
   "execution_count": 20,
   "metadata": {},
   "outputs": [],
   "source": [
    "vector_store = Chroma(client=chroma, collection_name=collection_name,embedding_function=hf_embeddings)"
   ]
  },
  {
   "cell_type": "code",
   "execution_count": 28,
   "metadata": {},
   "outputs": [],
   "source": [
    "retriever = vector_store.as_retriever()"
   ]
  },
  {
   "cell_type": "code",
   "execution_count": 21,
   "metadata": {},
   "outputs": [],
   "source": [
    "collection = chroma.get_collection(collection_name)"
   ]
  },
  {
   "cell_type": "code",
   "execution_count": 22,
   "metadata": {},
   "outputs": [
    {
     "name": "stdout",
     "output_type": "stream",
     "text": [
      "Indexed Document: ids\n",
      "Indexed Document: embeddings\n",
      "Indexed Document: metadatas\n",
      "Indexed Document: documents\n",
      "Indexed Document: uris\n",
      "Indexed Document: data\n"
     ]
    }
   ],
   "source": [
    "def verify_indexed_documents(collection):\n",
    "    try:\n",
    "        indexed_docs = collection.get()\n",
    "        for doc in indexed_docs:\n",
    "            print(f\"Indexed Document: {doc}\")\n",
    "    except Exception as e:\n",
    "        print(f\"Error verifying indexed documents: {e}\")\n",
    "\n",
    "# Verify indexed documents\n",
    "verify_indexed_documents(collection)"
   ]
  },
  {
   "cell_type": "code",
   "execution_count": 23,
   "metadata": {},
   "outputs": [
    {
     "name": "stderr",
     "output_type": "stream",
     "text": [
      "c:\\Users\\andyu\\AppData\\Local\\Programs\\Python\\Python311\\Lib\\site-packages\\langchain_core\\_api\\deprecation.py:119: LangChainDeprecationWarning: The method `BaseRetriever.get_relevant_documents` was deprecated in langchain-core 0.1.46 and will be removed in 0.3.0. Use invoke instead.\n",
      "  warn_deprecated(\n"
     ]
    },
    {
     "name": "stdout",
     "output_type": "stream",
     "text": [
      "Retriever Test Results:\n",
      "No documents were retrieved.\n"
     ]
    }
   ],
   "source": [
    "def test_retriever(vector_store):\n",
    "    try:\n",
    "        retriever = vector_store.as_retriever(search_kwargs={'k': 3})\n",
    "        query = \"ad blockers\"\n",
    "        results = retriever.get_relevant_documents(query)\n",
    "        print(\"Retriever Test Results:\")\n",
    "        if not results:\n",
    "            print(\"No documents were retrieved.\")\n",
    "        for result in results:\n",
    "            print(f\"Document ID: {result.metadata.get('id', 'N/A')}\")\n",
    "            print(f\"Document Text: {result.page_content}\")\n",
    "            print(f\"Document Metadata: {result.metadata}\")\n",
    "    except Exception as e:\n",
    "        print(f\"Error testing retriever: {e}\")\n",
    "\n",
    "# Test the retriever\n",
    "test_retriever(vector_store)"
   ]
  },
  {
   "cell_type": "code",
   "execution_count": 24,
   "metadata": {},
   "outputs": [],
   "source": [
    "custom_prompt_template = \"\"\"Use the following pieces of information to answer the user's question.\n",
    "If you don't know the answer, just say that you don't know, don't try to make up an answer.\n",
    "\n",
    "Context: {context}\n",
    "Question: {question}\n",
    "\n",
    "Only return the helpful answer below and nothing else.\n",
    "Helpful answer:\n",
    "\"\"\""
   ]
  },
  {
   "cell_type": "code",
   "execution_count": 25,
   "metadata": {},
   "outputs": [],
   "source": [
    "from langchain.prompts import PromptTemplate"
   ]
  },
  {
   "cell_type": "code",
   "execution_count": 26,
   "metadata": {},
   "outputs": [
    {
     "data": {
      "text/plain": [
       "PromptTemplate(input_variables=['context', 'question'], template=\"Use the following pieces of information to answer the user's question.\\nIf you don't know the answer, just say that you don't know, don't try to make up an answer.\\n\\nContext: {context}\\nQuestion: {question}\\n\\nOnly return the helpful answer below and nothing else.\\nHelpful answer:\\n\")"
      ]
     },
     "execution_count": 26,
     "metadata": {},
     "output_type": "execute_result"
    }
   ],
   "source": [
    "def set_custom_prompt():\n",
    "    \"\"\"\n",
    "    Prompt template for QA retrieval for each vectorstore\n",
    "    \"\"\"\n",
    "    prompt = PromptTemplate(template=custom_prompt_template,\n",
    "                            input_variables=['context', 'question'])\n",
    "    return prompt\n",
    "#\n",
    "prompt = set_custom_prompt()\n",
    "prompt\n",
    "\n",
    "########################### RESPONSE ###########################\n",
    "PromptTemplate(input_variables=['context', 'question'], template=\"Use the following pieces of information to answer the user's question.\\nIf you don't know the answer, just say that you don't know, don't try to make up an answer.\\n\\nContext: {context}\\nQuestion: {question}\\n\\nOnly return the helpful answer below and nothing else.\\nHelpful answer:\\n\")"
   ]
  },
  {
   "cell_type": "code",
   "execution_count": 29,
   "metadata": {},
   "outputs": [],
   "source": [
    "qa = RetrievalQA.from_chain_type(\n",
    "    llm=chat,\n",
    "    chain_type='stuff',\n",
    "    retriever=retriever,\n",
    "    return_source_documents=True,\n",
    "    chain_type_kwargs={'prompt': prompt})"
   ]
  },
  {
   "cell_type": "code",
   "execution_count": 33,
   "metadata": {},
   "outputs": [],
   "source": [
    "qa = RetrievalQA.from_chain_type(\n",
    "    llm=chat,\n",
    "    chain_type='stuff',\n",
    "    retriever=retriever,\n",
    "    return_source_documents=True\n",
    ")"
   ]
  },
  {
   "cell_type": "code",
   "execution_count": 30,
   "metadata": {},
   "outputs": [],
   "source": [
    "response = qa.invoke({\"query\": \"give me titles that contain ad blockers\"})"
   ]
  },
  {
   "cell_type": "code",
   "execution_count": 34,
   "metadata": {},
   "outputs": [
    {
     "name": "stdout",
     "output_type": "stream",
     "text": [
      "Query: give me article about ad blockers\n",
      "Result: Here's an article about ad blockers:\n",
      "\n",
      "**What are Ad Blockers?**\n",
      "\n",
      "Ad blockers are software programs or browser extensions that prevent advertisements from being displayed on a website or mobile app. They work by identifying and blocking the scripts that load ads on a webpage, thereby improving the user experience by reducing clutter and increasing page loading speeds.\n",
      "\n",
      "**How Do Ad Blockers Work?**\n",
      "\n",
      "Ad blockers use various techniques to identify and block ads. Some common methods include:\n",
      "\n",
      "1. **Filter lists**: Ad blockers use filter lists, which are lists of known ad servers and patterns that identify ads. These lists are regularly updated to ensure that new ads are blocked.\n",
      "2. **JavaScript injection**: Ad blockers inject JavaScript code into web pages to identify and remove ads.\n",
      "3. **Element hiding**: Ad blockers use CSS to hide ad elements on a webpage.\n",
      "\n",
      "**Types of Ad Blockers**\n",
      "\n",
      "1. **Browser extensions**: Browser extensions like uBlock Origin, AdBlock Plus, and Ghostery are popular ad blockers that can be installed on desktop browsers like Chrome, Firefox, and Safari.\n",
      "2. **Mobile apps**: Mobile apps like AdGuard and Blokada block ads on mobile devices.\n",
      "3. **System-wide ad blockers**: System-wide ad blockers like Pi-hole and AdGuard Home block ads on all devices connected to a network.\n",
      "\n",
      "**Benefits of Ad Blockers**\n",
      "\n",
      "1. **Improved page loading speeds**: Ad blockers reduce the time it takes for web pages to load by blocking ads that slow down page loading.\n",
      "2. **Reduced clutter**: Ad blockers remove ads that clutter web pages, improving the user experience.\n",
      "3. **Increased privacy**: Ad blockers can block tracking scripts that collect user data.\n",
      "4. **Reduced data consumption**: Ad blockers reduce the amount of data consumed by blocking ads that use bandwidth.\n",
      "\n",
      "**Concerns and Controversies**\n",
      "\n",
      "1. **Revenue impact**: Ad blockers can reduce revenue for websites that rely on advertising.\n",
      "2. **Ethical concerns**: Some argue that ad blockers are unethical because they deprive websites of revenue.\n",
      "3. **Counter-measures**: Some websites use counter-measures to detect and block ad blockers.\n",
      "\n",
      "**Conclusion**\n",
      "\n",
      "Ad blockers are software programs or browser extensions that block advertisements on websites and mobile apps. They work by identifying and blocking scripts that load ads, improving the user experience by reducing clutter and increasing page loading speeds. While ad blockers have benefits, they also raise concerns about revenue impact and ethical implications.\n",
      "\n",
      "I hope this article provides a comprehensive overview of ad blockers!\n",
      "Source Documents:\n"
     ]
    }
   ],
   "source": [
    "query = \"give me article about ad blockers\"\n",
    "response = qa.invoke({\"query\": query})\n",
    "print(\"Query:\", query)\n",
    "print(\"Result:\", response[\"result\"])\n",
    "print(\"Source Documents:\")\n",
    "for doc in response[\"source_documents\"]:\n",
    "    print(f\"Document ID: {doc['id']}\")\n",
    "    print(f\"Document Text: {doc['document']}\")\n",
    "    print(f\"Document Metadata: {doc['metadata']}\")"
   ]
  },
  {
   "cell_type": "code",
   "execution_count": 32,
   "metadata": {},
   "outputs": [
    {
     "name": "stderr",
     "output_type": "stream",
     "text": [
      "c:\\Users\\andyu\\AppData\\Local\\Programs\\Python\\Python311\\Lib\\site-packages\\langchain_core\\_api\\deprecation.py:119: LangChainDeprecationWarning: The method `Chain.__call__` was deprecated in langchain 0.1.0 and will be removed in 0.3.0. Use invoke instead.\n",
      "  warn_deprecated(\n"
     ]
    },
    {
     "name": "stdout",
     "output_type": "stream",
     "text": [
      "Query: give me article about ad blockers\n",
      "Result: I don't know.\n",
      "Source Documents:\n"
     ]
    }
   ],
   "source": [
    "query = \"give me article about ad blockers\"\n",
    "response = qa({\"query\": query})\n",
    "print(\"Query:\", query)\n",
    "print(\"Result:\", response[\"result\"])\n",
    "print(\"Source Documents:\")\n",
    "for doc in response[\"source_documents\"]:\n",
    "    print(doc)"
   ]
  }
 ],
 "metadata": {
  "kernelspec": {
   "display_name": "Python 3",
   "language": "python",
   "name": "python3"
  },
  "language_info": {
   "codemirror_mode": {
    "name": "ipython",
    "version": 3
   },
   "file_extension": ".py",
   "mimetype": "text/x-python",
   "name": "python",
   "nbconvert_exporter": "python",
   "pygments_lexer": "ipython3",
   "version": "3.11.6"
  }
 },
 "nbformat": 4,
 "nbformat_minor": 2
}
