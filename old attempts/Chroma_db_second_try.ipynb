{
 "cells": [
  {
   "cell_type": "code",
   "execution_count": 18,
   "metadata": {},
   "outputs": [],
   "source": [
    "import duckdb\n",
    "\n",
    "# Connect to the DuckDB database\n",
    "db_path = 'isrecon_AIS11.duckdb'\n",
    "\n",
    "# Connect to the DuckDB database and fetch the data\n",
    "with duckdb.connect(database=db_path, read_only=True) as conn:\n",
    "    query = 'SELECT * FROM papers LIMIT 500'\n",
    "    df = conn.execute(query).fetchdf()"
   ]
  },
  {
   "cell_type": "code",
   "execution_count": 19,
   "metadata": {},
   "outputs": [
    {
     "name": "stdout",
     "output_type": "stream",
     "text": [
      "     article_id                                            citekey  \\\n",
      "0             1  kevin_yan_j_examining_interdependence_between_...   \n",
      "1             2  a_wilson_f_computer_support_for_strategic_orga...   \n",
      "2             3  aaen_i_essence_facilitating_software_innovatio...   \n",
      "3             4  aaen_j_the_dark_side_of_data_ecosystems_a_long...   \n",
      "4             5  aakhus_m_symbolic_action_research_in_informati...   \n",
      "..          ...                                                ...   \n",
      "495         496  asdemir_k_pricing_models_for_online_advertisin...   \n",
      "496         497  aseri_m_ad_blockers_a_blessing_or_a_curse_2020...   \n",
      "497         498  ash_c_assessing_the_benefits_from_e_business_t...   \n",
      "498         499  ashleigh_m_trust_and_technologies_implications...   \n",
      "499         500  ashman_h_the_ethical_and_social_implications_o...   \n",
      "\n",
      "                                               authors  year  \\\n",
      "0    (Kevin) Yan, Jie; Leidner, Dorothy E.; Benbya,...  2021   \n",
      "1                                          A Wilson, F  1994   \n",
      "2                                           Aaen, Ivan  2008   \n",
      "3    Aaen, Jon; Nielsen, Jeppe Agger; Carugati, Andrea  2022   \n",
      "4    Aakhus, Mark; Ågerfalk, Pär J.; Lyytinen, Kall...  2014   \n",
      "..                                                 ...   ...   \n",
      "495  Asdemir, Kursad; Kumar, Nanda; Jacob, Varghese S.  2012   \n",
      "496  Aseri, Manmohan; Dawande, Milind; Janakiraman,...  2020   \n",
      "497                     Ash, Colin G.; Burn, Janice M.  2003   \n",
      "498             Ashleigh, Melanie J.; Nandhakumar, Joe  2007   \n",
      "499  Ashman, Helen; Brailsford, Tim; Cristea, Alexa...  2014   \n",
      "\n",
      "                                                 title  \\\n",
      "0    Examining interdependence between product user...   \n",
      "1    Computer support for strategic organizational ...   \n",
      "2            Essence: facilitating software innovation   \n",
      "3    The dark side of data ecosystems: A longitudin...   \n",
      "4    Symbolic Action Research in Information System...   \n",
      "..                                                 ...   \n",
      "495  Pricing Models for Online Advertising: CPM vs....   \n",
      "496                Ad-Blockers: A Blessing or a Curse?   \n",
      "497  Assessing the benefits from e-business transfo...   \n",
      "498  Trust and technologies: Implications for organ...   \n",
      "499  The ethical and social implications of persona...   \n",
      "\n",
      "                                      journal journal_akronym  \\\n",
      "0    Journal of Strategic Information Systems            JSIS   \n",
      "1    Journal of Strategic Information Systems            JSIS   \n",
      "2     European Journal of Information Systems            EJIS   \n",
      "3     European Journal of Information Systems            EJIS   \n",
      "4    Management Information Systems Quarterly            MISQ   \n",
      "..                                        ...             ...   \n",
      "495              Information Systems Research             ISR   \n",
      "496              Information Systems Research             ISR   \n",
      "497   European Journal of Information Systems            EJIS   \n",
      "498                  Decision Support Systems             DSS   \n",
      "499                  Information & Management              IM   \n",
      "\n",
      "                                              abstract  \\\n",
      "0    Firm-sponsored online user communities have be...   \n",
      "1    While information systems continue to be promo...   \n",
      "2    This paper suggests ways to facilitate creativ...   \n",
      "3    Data are often vividly depicted as strategic a...   \n",
      "4    An essay is presented as an introduction to th...   \n",
      "..                                                 ...   \n",
      "495  Online advertising has transformed the adverti...   \n",
      "496  Users who have an ad-blocker installed present...   \n",
      "497  This paper reports on research carried out in ...   \n",
      "498  In this paper, we empirically investigate the ...   \n",
      "499  Personalization in information systems can be ...   \n",
      "\n",
      "                                              keywords       issn  \\\n",
      "0                                                 None   09638687   \n",
      "1    managerial actions, decision-making, computer-...  0963-8687   \n",
      "2                                                 None  0960-085X   \n",
      "3    data reuse; dark side; Data analytics; Patrick...  0960-085X   \n",
      "4    Symbolic action, information system, semiotics...   02767783   \n",
      "..                                                 ...        ...   \n",
      "495  online advertising, cost per impression (CPM),...  1047-7047   \n",
      "496  ad-blocking, web advertising, rational expecta...  1047-7047   \n",
      "497  e-Business benefits, B2B interaction models, e...  0960-085X   \n",
      "498  Trust constructs, Technology interaction, Team...  0167-9236   \n",
      "499                                               None  0378-7206   \n",
      "\n",
      "                               doi      pages  number_of_pages     issue  \\\n",
      "0       10.1016/j.jsis.2021.101657     101657              0.0         1   \n",
      "1     10.1016/0963-8687(94)90034-5    289-298             10.0         4   \n",
      "2             10.1057/ejis.2008.43    543-553             11.0         5   \n",
      "3    10.1080/0960085X.2021.1947753    288-312             25.0         3   \n",
      "4                             None  1187-1200             14.0         4   \n",
      "..                             ...        ...              ...       ...   \n",
      "495         10.1287/isre.1110.0391    804-822             19.0  3-part-1   \n",
      "496         10.1287/isre.2019.0906    627-646             20.0         2   \n",
      "497  10.1057/palgrave.ejis.3000476    297-308             12.0         4   \n",
      "498      10.1016/j.dss.2005.05.018    607-617             11.0         2   \n",
      "499       10.1016/j.im.2014.04.003    819-832             14.0         6   \n",
      "\n",
      "     volume  is_editorial                                       filename_xml  \\\n",
      "0      30.0         False  (Kevin) YanJ#LeidnerD#BenbyaH#ZouW_2021_Examin...   \n",
      "1       3.0         False  A WilsonF_1994_Computer support for strategic ...   \n",
      "2      17.0         False  AaenI_2008_Essence - facilitating software inn...   \n",
      "3      31.0         False  AaenJ#NielsenJ#CarugatiA_2022_The dark side of...   \n",
      "4      38.0         False  AakhusM#ÅgerfalkP#LyytinenK#Te'eniD_2014_Symbo...   \n",
      "..      ...           ...                                                ...   \n",
      "495    23.0         False  AsdemirK#KumarN#JacobV_2012_Pricing Models for...   \n",
      "496    31.0         False  AseriM#DawandeM#JanakiramanG#S. MookerjeeV_202...   \n",
      "497    12.0         False  AshC#BurnJ_2003_Assessing the benefits from e-...   \n",
      "498    43.0         False  AshleighM#NandhakumarJ_2007_Trust and technolo...   \n",
      "499    51.0         False  AshmanH#BrailsfordT#CristeaA#ShengQ#StewartC#T...   \n",
      "\n",
      "     count_dsr_citations  citation_count  \n",
      "0                      0               0  \n",
      "1                      0               0  \n",
      "2                      2              12  \n",
      "3                      0               1  \n",
      "4                      1               0  \n",
      "..                   ...             ...  \n",
      "495                    0               0  \n",
      "496                    0               0  \n",
      "497                    0               0  \n",
      "498                    0               3  \n",
      "499                    0               0  \n",
      "\n",
      "[500 rows x 19 columns]\n"
     ]
    }
   ],
   "source": [
    "print(df)"
   ]
  },
  {
   "cell_type": "code",
   "execution_count": 20,
   "metadata": {},
   "outputs": [
    {
     "name": "stdout",
     "output_type": "stream",
     "text": [
      "0      Examining interdependence between product user...\n",
      "1      Computer support for strategic organizational ...\n",
      "2      Essence: facilitating software innovation This...\n",
      "3      The dark side of data ecosystems: A longitudin...\n",
      "4      Symbolic Action Research in Information System...\n",
      "                             ...                        \n",
      "495    Pricing Models for Online Advertising: CPM vs....\n",
      "496    Ad-Blockers: A Blessing or a Curse? Users who ...\n",
      "497    Assessing the benefits from e-business transfo...\n",
      "498    Trust and technologies: Implications for organ...\n",
      "499    The ethical and social implications of persona...\n",
      "Name: combined_text, Length: 500, dtype: object\n"
     ]
    }
   ],
   "source": [
    "columns_to_embed = ['title', 'abstract']\n",
    "df[\"combined_text\"] = df[columns_to_embed].astype(str).agg(' '.join, axis=1)\n",
    "print(df[\"combined_text\"])"
   ]
  },
  {
   "cell_type": "code",
   "execution_count": 21,
   "metadata": {},
   "outputs": [],
   "source": [
    "from sentence_transformers import SentenceTransformer"
   ]
  },
  {
   "cell_type": "code",
   "execution_count": 22,
   "metadata": {},
   "outputs": [],
   "source": [
    "model= SentenceTransformer('paraphrase-MiniLM-L6-v2')"
   ]
  },
  {
   "cell_type": "code",
   "execution_count": 23,
   "metadata": {},
   "outputs": [],
   "source": [
    "embeddings = model.encode(df[\"combined_text\"].tolist())"
   ]
  },
  {
   "cell_type": "code",
   "execution_count": 24,
   "metadata": {},
   "outputs": [],
   "source": [
    "import chromadb\n"
   ]
  },
  {
   "cell_type": "code",
   "execution_count": 25,
   "metadata": {},
   "outputs": [],
   "source": [
    "client = chromadb.Client()"
   ]
  },
  {
   "cell_type": "code",
   "execution_count": 26,
   "metadata": {},
   "outputs": [],
   "source": [
    "collection = client.create_collection('paper_title_embeddings')"
   ]
  },
  {
   "cell_type": "code",
   "execution_count": 10,
   "metadata": {},
   "outputs": [],
   "source": [
    "documents = df['combined_text'].tolist()\n",
    "ids = df['article_id'].astype(str).tolist()\n",
    "metadatas = [{'title': str(row['title']), 'abstract': str(row['abstract'])} for _, row in df.iterrows()]"
   ]
  },
  {
   "cell_type": "code",
   "execution_count": 27,
   "metadata": {},
   "outputs": [
    {
     "name": "stdout",
     "output_type": "stream",
     "text": [
      "Data inserted successfully!\n"
     ]
    }
   ],
   "source": [
    "try:\n",
    "    collection.add(\n",
    "        documents=documents,\n",
    "        ids=ids,\n",
    "        metadatas=metadatas\n",
    "    )\n",
    "    print(\"Data inserted successfully!\")\n",
    "except ValueError as e:\n",
    "    print(\"Error inserting data:\", e)\n",
    "    for i, metadata in enumerate(metadatas):\n",
    "        for key, value in metadata.items():\n",
    "            if not isinstance(value, (str, int, float, bool)):\n",
    "                print(f\"Invalid metadata at index {i}, key '{key}': {value} ({type(value)})\")"
   ]
  },
  {
   "cell_type": "code",
   "execution_count": 28,
   "metadata": {},
   "outputs": [
    {
     "name": "stdout",
     "output_type": "stream",
     "text": [
      "{'data': None,\n",
      " 'distances': [[0.7421619892120361, 1.1711894273757935]],\n",
      " 'documents': [['Ad-Blockers: A Blessing or a Curse? Users who have an '\n",
      "                'ad-blocker installed present a genuine predicament for a '\n",
      "                'website (also known as the publisher): On the one hand, these '\n",
      "                'users do not generate revenue for the website; on the other '\n",
      "                'hand, denying them access can shrink the user base and '\n",
      "                'adversely affect the popularity of the website, ultimately '\n",
      "                'reducing traffic over the long run. This has led some '\n",
      "                'websites to require that ad-block users “white-list” them for '\n",
      "                'obtaining access to an “ad-light” experience. We model the '\n",
      "                'decision problem for a website facing two user segments: '\n",
      "                'regular users and ad-block users. The first-level decision or '\n",
      "                'gating strategy is whether to allow ad-free access to '\n",
      "                'ad-block users or require them to white-list the website for '\n",
      "                'gaining access. When ad-block users are allowed ad-free '\n",
      "                'access, the second-level decision is the level of advertising '\n",
      "                '(or ad-intensity) for regular users. When ad-block users are '\n",
      "                'required to white-list, the second-level decisions are the '\n",
      "                'ad-intensities for regular users and ad-block users. The net '\n",
      "                'utility of a user from visiting the website depends on the '\n",
      "                'intrinsic value of the website’s content, the value obtained '\n",
      "                'due to network effects driven by the amount of '\n",
      "                'traffic/popularity of the website, and the cost incurred due '\n",
      "                'to the presence of ads. We derive an optimal gating and '\n",
      "                'ad-intensity strategy for the website and also solve an '\n",
      "                'identical model for a world without ad-block software. We '\n",
      "                'show that the website can increase its revenue by '\n",
      "                'discriminating between regular and ad-block users via the '\n",
      "                'ad-intensities shown to them. More interestingly, we find '\n",
      "                'that the discriminatory power bestowed on the website by '\n",
      "                'ad-blockers can increase the social surplus and, in '\n",
      "                'particular, increase the surplus of both user segments, '\n",
      "                'namely, regular users and ad-block users, when the utility '\n",
      "                'from their outside option is below a threshold. Thus, the '\n",
      "                'advent of ad-blockers can lead to a win-win for both the '\n",
      "                'website and its users. Finally, we propose a superior '\n",
      "                'selective-gating strategy in which only a fraction of '\n",
      "                'ad-block users are gated. We establish the robustness of our '\n",
      "                'conclusions under several enhancements to our base setting: '\n",
      "                '(a) heterogeneous profitabilities from regular users and '\n",
      "                'ad-block users, (b) endogenous adoption of ad-blockers, (c) '\n",
      "                'the presence of a subscription option, and (d) negative '\n",
      "                'externality due to increased traffic. Our analysis ends with '\n",
      "                'recommendations for three stakeholders in this problem, '\n",
      "                'namely, publishers, web-browser developers, and policy '\n",
      "                'makers.',\n",
      "                'The Impact of Competing Ads on Click Performance in Sponsored '\n",
      "                'Search Our research examines the impact of competing ads on '\n",
      "                'click performance of an ad in sponsored search. We use a '\n",
      "                'unique data set of 1,267 advertiser keyword pairs with '\n",
      "                'differing ad quality related to 360 keywords from a search '\n",
      "                'engine to evaluate the click performance. We find that '\n",
      "                'competing high-quality ads, appearing above the focal ad, '\n",
      "                'have a lower negative effect on the click performance as '\n",
      "                'compared to competing low-quality ads. We also find that this '\n",
      "                'effect of competing ads varies with the ad position and the '\n",
      "                'type of keyword. In general, the negative effect of competing '\n",
      "                'high-quality ads decreases at low positions as compared to '\n",
      "                'high positions. Furthermore, this decrease in the negative '\n",
      "                'effect of competing high-quality ads is more substantial for '\n",
      "                'specific keywords. Our results reveal consumer behavior in '\n",
      "                'evaluating different quality ads in sponsored search. More '\n",
      "                'specifically, our results suggest that consumers use the '\n",
      "                'presence of high-quality competing ads as a signal of higher '\n",
      "                'quality of the focal ad. Our findings can help advertisers '\n",
      "                'better evaluate their relative performance for different '\n",
      "                'positions for various types of keywords. This can also help '\n",
      "                'evaluate the efficacy of the auction design mechanism.']],\n",
      " 'embeddings': None,\n",
      " 'ids': [['497', '104']],\n",
      " 'metadatas': [[{'abstract': 'Users who have an ad-blocker installed present a '\n",
      "                             'genuine predicament for a website (also known as '\n",
      "                             'the publisher): On the one hand, these users do '\n",
      "                             'not generate revenue for the website; on the '\n",
      "                             'other hand, denying them access can shrink the '\n",
      "                             'user base and adversely affect the popularity of '\n",
      "                             'the website, ultimately reducing traffic over '\n",
      "                             'the long run. This has led some websites to '\n",
      "                             'require that ad-block users “white-list” them '\n",
      "                             'for obtaining access to an “ad-light” '\n",
      "                             'experience. We model the decision problem for a '\n",
      "                             'website facing two user segments: regular users '\n",
      "                             'and ad-block users. The first-level decision or '\n",
      "                             'gating strategy is whether to allow ad-free '\n",
      "                             'access to ad-block users or require them to '\n",
      "                             'white-list the website for gaining access. When '\n",
      "                             'ad-block users are allowed ad-free access, the '\n",
      "                             'second-level decision is the level of '\n",
      "                             'advertising (or ad-intensity) for regular users. '\n",
      "                             'When ad-block users are required to white-list, '\n",
      "                             'the second-level decisions are the '\n",
      "                             'ad-intensities for regular users and ad-block '\n",
      "                             'users. The net utility of a user from visiting '\n",
      "                             'the website depends on the intrinsic value of '\n",
      "                             'the website’s content, the value obtained due to '\n",
      "                             'network effects driven by the amount of '\n",
      "                             'traffic/popularity of the website, and the cost '\n",
      "                             'incurred due to the presence of ads. We derive '\n",
      "                             'an optimal gating and ad-intensity strategy for '\n",
      "                             'the website and also solve an identical model '\n",
      "                             'for a world without ad-block software. We show '\n",
      "                             'that the website can increase its revenue by '\n",
      "                             'discriminating between regular and ad-block '\n",
      "                             'users via the ad-intensities shown to them. More '\n",
      "                             'interestingly, we find that the discriminatory '\n",
      "                             'power bestowed on the website by ad-blockers can '\n",
      "                             'increase the social surplus and, in particular, '\n",
      "                             'increase the surplus of both user segments, '\n",
      "                             'namely, regular users and ad-block users, when '\n",
      "                             'the utility from their outside option is below a '\n",
      "                             'threshold. Thus, the advent of ad-blockers can '\n",
      "                             'lead to a win-win for both the website and its '\n",
      "                             'users. Finally, we propose a superior '\n",
      "                             'selective-gating strategy in which only a '\n",
      "                             'fraction of ad-block users are gated. We '\n",
      "                             'establish the robustness of our conclusions '\n",
      "                             'under several enhancements to our base setting: '\n",
      "                             '(a) heterogeneous profitabilities from regular '\n",
      "                             'users and ad-block users, (b) endogenous '\n",
      "                             'adoption of ad-blockers, (c) the presence of a '\n",
      "                             'subscription option, and (d) negative '\n",
      "                             'externality due to increased traffic. Our '\n",
      "                             'analysis ends with recommendations for three '\n",
      "                             'stakeholders in this problem, namely, '\n",
      "                             'publishers, web-browser developers, and policy '\n",
      "                             'makers.',\n",
      "                 'title': 'Ad-Blockers: A Blessing or a Curse?'},\n",
      "                {'abstract': 'Our research examines the impact of competing '\n",
      "                             'ads on click performance of an ad in sponsored '\n",
      "                             'search. We use a unique data set of 1,267 '\n",
      "                             'advertiser keyword pairs with differing ad '\n",
      "                             'quality related to 360 keywords from a search '\n",
      "                             'engine to evaluate the click performance. We '\n",
      "                             'find that competing high-quality ads, appearing '\n",
      "                             'above the focal ad, have a lower negative effect '\n",
      "                             'on the click performance as compared to '\n",
      "                             'competing low-quality ads. We also find that '\n",
      "                             'this effect of competing ads varies with the ad '\n",
      "                             'position and the type of keyword. In general, '\n",
      "                             'the negative effect of competing high-quality '\n",
      "                             'ads decreases at low positions as compared to '\n",
      "                             'high positions. Furthermore, this decrease in '\n",
      "                             'the negative effect of competing high-quality '\n",
      "                             'ads is more substantial for specific keywords. '\n",
      "                             'Our results reveal consumer behavior in '\n",
      "                             'evaluating different quality ads in sponsored '\n",
      "                             'search. More specifically, our results suggest '\n",
      "                             'that consumers use the presence of high-quality '\n",
      "                             'competing ads as a signal of higher quality of '\n",
      "                             'the focal ad. Our findings can help advertisers '\n",
      "                             'better evaluate their relative performance for '\n",
      "                             'different positions for various types of '\n",
      "                             'keywords. This can also help evaluate the '\n",
      "                             'efficacy of the auction design mechanism.',\n",
      "                 'title': 'The Impact of Competing Ads on Click Performance in '\n",
      "                          'Sponsored Search'}]],\n",
      " 'uris': None}\n"
     ]
    }
   ],
   "source": [
    "import pprint\n",
    "results = collection.query(\n",
    "    query_texts=[\n",
    "        \"Ad-Blockers\"\n",
    "    ],\n",
    "    n_results=2\n",
    ")\n",
    "\n",
    "pprint.pprint(results)"
   ]
  },
  {
   "cell_type": "code",
   "execution_count": 13,
   "metadata": {},
   "outputs": [
    {
     "name": "stdout",
     "output_type": "stream",
     "text": [
      "Existing collections before deletion:\n",
      " - paper_title_embeddings\n"
     ]
    }
   ],
   "source": [
    "collections = client.list_collections()\n",
    "print(\"Existing collections before deletion:\")\n",
    "for collection in collections:\n",
    "    print(f\" - {collection.name}\")"
   ]
  },
  {
   "cell_type": "code",
   "execution_count": 17,
   "metadata": {},
   "outputs": [
    {
     "name": "stdout",
     "output_type": "stream",
     "text": [
      "\n",
      "Collection 'paper_title_embeddings' has been deleted.\n"
     ]
    }
   ],
   "source": [
    "collection_name = 'paper_title_embeddings'\n",
    "if collection_name in [col.name for col in collections]:\n",
    "    client.delete_collection(collection_name)\n",
    "    print(f\"\\nCollection '{collection_name}' has been deleted.\")\n",
    "else:\n",
    "    print(f\"\\nCollection '{collection_name}' does not exist.\")"
   ]
  }
 ],
 "metadata": {
  "kernelspec": {
   "display_name": "Python 3",
   "language": "python",
   "name": "python3"
  },
  "language_info": {
   "codemirror_mode": {
    "name": "ipython",
    "version": 3
   },
   "file_extension": ".py",
   "mimetype": "text/x-python",
   "name": "python",
   "nbconvert_exporter": "python",
   "pygments_lexer": "ipython3",
   "version": "3.11.6"
  }
 },
 "nbformat": 4,
 "nbformat_minor": 2
}
